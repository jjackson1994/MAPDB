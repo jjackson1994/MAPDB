<!DOCTYPE html>
<html>
  <head>    <meta charset="utf-8" />
    <meta content="width=device-width, initial-scale=1.0, maximum-scale=3.0" name="viewport" />

    <!-- section:seometa -->
    <meta property="og:type" content="website" />
    <meta property="og:site_name" content="Discord" />
    <meta property="og:title" content="Discord - A New Way to Chat with Friends & Communities" />
    <meta
      property="og:description"
      content="Discord is the easiest way to communicate over voice, video, and text.  Chat, hang out, and stay close with your friends and communities." /><meta property="og:image" content="undefined//discord.com/assets/652f40427e1f5186ad54836074898279.png" />    <meta name="twitter:card" content="summary_large_image" />
    <meta name="twitter:site" content="@discord" />
    <meta name="twitter:creator" content="@discord" />
    <!-- endsection --><script nonce="MTkyLDEyNywyMjUsOTQsMTk5LDIxMywxNTAsNDM=">window.GLOBAL_ENV = {
        API_ENDPOINT: '//discord.com/api',
        API_VERSION: 9,
        GATEWAY_ENDPOINT: 'wss://gateway.discord.gg',
        WEBAPP_ENDPOINT: '//discord.com',
        CDN_HOST: 'cdn.discordapp.com',
        ASSET_ENDPOINT: '//discord.com',
        MEDIA_PROXY_ENDPOINT: '//media.discordapp.net',
        WIDGET_ENDPOINT: '//discord.com/widget',
        INVITE_HOST: 'discord.gg',
        GUILD_TEMPLATE_HOST: 'discord.new',
        GIFT_CODE_HOST: 'discord.gift',
        RELEASE_CHANNEL: 'stable',
        MARKETING_ENDPOINT: '//discord.com',
        BRAINTREE_KEY: 'production_5st77rrc_49pp2rp4phym7387',
        STRIPE_KEY: 'pk_live_CUQtlpQUF0vufWpnpUmQvcdi',
        NETWORKING_ENDPOINT: '//router.discordapp.net',
        RTC_LATENCY_ENDPOINT: '//latency.discord.media/rtc',
        ACTIVITY_APPLICATION_HOST: 'discordsays.com',
        PROJECT_ENV: 'production',
        REMOTE_AUTH_ENDPOINT: '//remote-auth-gateway.discord.gg',
        SENTRY_TAGS: {"buildId":"4592d47b0a3744900cd811dfe5742f616b58ad1d","buildType":"normal"},
        MIGRATION_SOURCE_ORIGIN: 'https://discordapp.com',
        MIGRATION_DESTINATION_ORIGIN: 'https://discord.com',
        HTML_TIMESTAMP: Date.now(),
        ALGOLIA_KEY: 'aca0d7082e4e63af5ba5917d5e96bed0',
      };</script><script nonce="MTkyLDEyNywyMjUsOTQsMTk5LDIxMywxNTAsNDM=">!function(){if(null!=window.WebSocket){if(function(n){try{var e=localStorage.getItem(n);return null==e?null:JSON.parse(e)}catch(n){return null}}("token")&&!window.__OVERLAY__){var n=null!=window.DiscordNative||null!=window.require?"etf":"json",e=window.GLOBAL_ENV.GATEWAY_ENDPOINT+"/?encoding="+n+"&v="+window.GLOBAL_ENV.API_VERSION+"&compress=zlib-stream";console.log("[FAST CONNECT] connecting to: "+e);var o=new WebSocket(e);o.binaryType="arraybuffer";var t=Date.now(),i={open:!1,identify:!1,gateway:e,messages:[]};o.onopen=function(){console.log("[FAST CONNECT] connected in "+(Date.now()-t)+"ms"),i.open=!0},o.onclose=o.onerror=function(){window._ws=null},o.onmessage=function(n){i.messages.push(n)},window._ws={ws:o,state:i}}}}();</script><link rel="prefetch" as="script" href="/assets/124832b8979454629bec.js"></link><link rel="prefetch" as="script" href="/assets/b4499d2a6b9046b1b402.js"></link><link rel="prefetch" as="script" href="/assets/4b58fa778cc38e586a72.js"></link><link rel="prefetch" as="script" href="/assets/4b582ee1842099625350.js"></link><link rel="prefetch" as="script" href="/assets/2a6b8d1c4c54837fbc1c.js"></link><link rel="prefetch" as="script" href="/assets/591f9dafb1c84fb4fa70.js"></link><link rel="prefetch" as="script" href="/assets/89c07f6464c4df65e564.js"></link><link rel="prefetch" as="script" href="/assets/4246c68ec807e086f261.js"></link><link rel="prefetch" as="script" href="/assets/2839fc52cff38f4d0ee7.js"></link><link rel="prefetch" as="script" href="/assets/fdfc1fec0e508240fc94.js"></link><link rel="prefetch" as="script" href="/assets/2ea8e76a2d49de55d2ed.js"></link><link rel="prefetch" as="script" href="/assets/606aa4d52a93b72a6591.js"></link><link rel="prefetch" as="script" href="/assets/446e0e9a0512cf1362dd.js"></link><link rel="prefetch" as="script" href="/assets/548375d0085d53842a3d.js"></link><link rel="prefetch" as="script" href="/assets/49c74496cfc5835955b6.js"></link><link rel="prefetch" as="script" href="/assets/5efb771e17a36296d4f1.js"></link><link rel="prefetch" as="script" href="/assets/53f56d57c8170d14b5fc.js"></link><link rel="prefetch" as="script" href="/assets/84e72f3a10e9f967f24a.js"></link><link rel="prefetch" as="script" href="/assets/4d5aeab2a9f3265da3e1.js"></link><link rel="prefetch" as="script" href="/assets/6a4d271d26e063c4b4f7.js"></link><link rel="prefetch" as="script" href="/assets/7124453700a3afeff79d.js"></link><link rel="prefetch" as="script" href="/assets/f66cf1e31d786afb147f.js"></link><link rel="prefetch" as="script" href="/assets/4f0f3dfb9830355dc0c4.js"></link><link rel="prefetch" as="script" href="/assets/7d963e768a87b4c17179.js"></link><link rel="prefetch" as="script" href="/assets/ef0cdc0db3be88e70f2c.js"></link><link rel="prefetch" as="script" href="/assets/a1e84bab6e00b987a5d9.js"></link><link rel="prefetch" as="script" href="/assets/b857e813eb5b9881a085.js"></link><link rel="prefetch" as="script" href="/assets/40fbcd706ee16c96b281.js"></link><link rel="prefetch" as="script" href="/assets/0f24c6bd84d0ef137c75.js"></link><link rel="prefetch" as="script" href="/assets/0d1cb14adfd1c7903b64.js"></link><link rel="prefetch" as="script" href="/assets/b2b987a5b71c9b5a287a.js"></link><link rel="prefetch" as="script" href="/assets/d17199a5e24145fcce41.js"></link><link rel="prefetch" as="script" href="/assets/b9a70c16149b98d13108.js"></link><link rel="prefetch" as="script" href="/assets/6746bd8eeac3b93117a4.js"></link><link rel="prefetch" as="script" href="/assets/3cbaaae3f0d36e03b71f.js"></link><link rel="prefetch" as="script" href="/assets/7dd08041c2cb6478fa51.js"></link><link rel="prefetch" as="script" href="/assets/13d00da694f4981d1aa0.js"></link><link rel="prefetch" as="script" href="/assets/b68ddd8fc40f9e71b910.js"></link><link rel="stylesheet" href="/assets/40532.e5129df5d1da4e885bc2.css" integrity="sha256-/e4d+b+UD8GiBoIlIPM8nqxWzuR/EXkgTb5002zd8Ik= sha512-nArBdawBUDMUO7ZTKrH27I7fVMp6N/BrfVECuHQR083ni1NhP9Aip6bKRQ8lRkBB7viKgv1JyWXgsxCNEtSnBg=="><link rel="icon" href="/assets/ec2c34cadd4b5f4594415127380a85e6.ico" />    <!-- section:title -->
    <title>Discord</title>
    <!-- endsection -->
  <script async nonce="MTkyLDEyNywyMjUsOTQsMTk5LDIxMywxNTAsNDM=" src='/cdn-cgi/bm/cv/669835187/api.js'></script></head>
  <body>
    <div id="app-mount"></div><script nonce="MTkyLDEyNywyMjUsOTQsMTk5LDIxMywxNTAsNDM=">window.__OVERLAY__ = /overlay/.test(location.pathname)</script><script nonce="MTkyLDEyNywyMjUsOTQsMTk5LDIxMywxNTAsNDM=">window.__BILLING_STANDALONE__ = /^\/billing/.test(location.pathname)</script><script src="/assets/7eca07379508cac7aec5.js" integrity="sha256-IxfTx2xBehgN9MU7SgpqenWny1lNfLlNKEQz8vDrSxs= sha512-WIEHZURpUSPNXX32AXTrSL4Tm7iX7+VFcXHeTIaz2066s17jLj2WwmLyIlNYvu+x/fSNLorSpU3SCvjSJR9xpQ=="></script><script src="/assets/124832b8979454629bec.js" integrity="sha256-06b0qvZLZTHW/7IbIVX8RbjgBZBtaT5zIz+RbiVPfJ8= sha512-ibJabtcQhZSwrTcEgB434HkUKexll72kpTx7d3BhVGXwqlThFCMhW4GbxV9QlRSnf1Kx7opD+K9LWfmQj2HIXA=="></script><script src="/assets/ae2671edcb794baba1a8.js" integrity="sha256-y7iLMHoxY0HSjT70LOYQZ3ZHM2OpThk3SAccXAilCBo= sha512-Fx/+3RACUlGxyQl9ho5G1cTzZ7zfm8Xc6/RTgxA2Evd0HvdmFmTMVzu9U9ChXbzKl/JnyhyfFk426lgssdbadg=="></script><script src="/assets/8f239e4fc5ff97538b7f.js" integrity="sha256-62rna2fwoCd9uoYOfAwbSitLFfj/iCG5LuVw6vb0yfM= sha512-RMcJMiP7bnVkQLl4XA/wqaS8M3kIh5A0h8dddxfZbvI/dVos2eLZF5kSHq3SaI2xOzo+RY1rn++Fkn/iROcXJQ=="></script>  <script nonce="MTkyLDEyNywyMjUsOTQsMTk5LDIxMywxNTAsNDM=" type="text/javascript">(function(){window['__CF$cv$params']={r:'71b165a6e81c3753',m:'ydfBaAKVeGY13LaKUmh.rtI.ADA_rnigmOz.brQCs_Y-1655192208-0-AbPJhf8QJsZvHWkCKkiVycuybegRGVm1dH3Od6FmWDTq2vuX+Xp3Dd+qG80h4Uo4IN3/Q+I6F6dF+hH6tQxTpS9zhWXmMXx5S2zmEC8ghN20h4ae6DmGmNMHX3DYfcLbh8GQoP3WAnxvDcDWH8WDK+aqZyomrAXC/4rI35Fv1RAq6vDjlYkFO1KMzhk1zcxkFGZ/A/4olQiV1wW2DleAHRY=',s:[0x40671d25a8,0x4f82c595de],}})();</script></body>
</html>
