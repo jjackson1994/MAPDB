{
 "cells": [
  {
   "cell_type": "markdown",
   "id": "18fc96c5",
   "metadata": {},
   "source": [
    "# Distributed Machine Learning with Dask"
   ]
  },
  {
   "cell_type": "markdown",
   "id": "d5e6bcac",
   "metadata": {},
   "source": [
    "Dask-ML provides scalable Machine Learning using Dask.\n",
    "The extension works with minimal changes to the code with all the libraries which follow the Scikit-Learn API (e.g. `fit`, `predict`, ...): sklearn, XGBoost, Tensorflow wrapped using [scikeras](https://www.adriangb.com/scikeras/stable/), PyTorch wrapped with [skorch](https://skorch.readthedocs.io/en/stable/), ...\n",
    "\n",
    "There are two main challenges which requires scaling the workload on a cluster:\n",
    "\n",
    "1. Compute Bound problems:\n",
    "    - data fit in memory, but the workflow is CPU-bound and many operations can be done in parallel\n",
    "    - sklearn solution is to use joblib for parallel execution (`n_jobs` parameter). Dask scales out the execution to a cluster\n",
    "    - examples are hyper-parameters search procedures\n",
    "    \n",
    "   \n",
    "2. Memory Bound problems:\n",
    "    - dataset is larger then the available memory\n",
    "    - dask provides estimators which work well with Dask Arrays or Dataframes\n",
    "    - some estimators can be trained incremetally, without seeing the whole dataset\n",
    "    - maybe the problem is only related to the inference part of an already trained estimator, which can be easily parallelized"
   ]
  },
  {
   "cell_type": "code",
   "execution_count": 1,
   "id": "a6f797a0",
   "metadata": {},
   "outputs": [],
   "source": [
    "# set this variable with one of the following values\n",
    "\n",
    "# -> 'local'\n",
    "# -> 'docker_container'\n",
    "# -> 'docker_cluster'\n",
    "\n",
    "CLUSTER_TYPE ='docker_cluster'"
   ]
  },
  {
   "cell_type": "code",
   "execution_count": 2,
   "id": "fabe1a15",
   "metadata": {},
   "outputs": [
    {
     "name": "stdout",
     "output_type": "stream",
     "text": [
      "env: CLUSTER_TYPE=docker_cluster\n"
     ]
    }
   ],
   "source": [
    "%env CLUSTER_TYPE $CLUSTER_TYPE"
   ]
  },
  {
   "cell_type": "code",
   "execution_count": 3,
   "id": "9afb5c87",
   "metadata": {},
   "outputs": [],
   "source": [
    "%%script bash --bg --out script_out\n",
    "\n",
    "if [[ \"$CLUSTER_TYPE\" != \"docker_cluster\" ]]; then\n",
    "    echo \"Launching scheduler and worker\"\n",
    "    \n",
    "    HOSTIP=`hostname -I | xargs`\n",
    "    \n",
    "    echo \"dask-scheduler --host $HOSTIP --dashboard-address $HOSTIP:8787\"\n",
    "    \n",
    "    # dask scheduler \n",
    "    dask-scheduler --host $HOSTIP --dashboard-address $HOSTIP:8787 &\n",
    "\n",
    "    # dask worker\n",
    "    dask-worker $HOSTIP:8786 --memory-limit 1GB --nworkers 2 &\n",
    "\n",
    "fi"
   ]
  },
  {
   "cell_type": "code",
   "execution_count": 4,
   "id": "fd80b80d",
   "metadata": {},
   "outputs": [],
   "source": [
    "host_ip = !hostname -I | xargs\n",
    "host_ip = host_ip[0]"
   ]
  },
  {
   "cell_type": "code",
   "execution_count": 5,
   "id": "f4890e99",
   "metadata": {},
   "outputs": [
    {
     "ename": "OSError",
     "evalue": "Timed out trying to connect to tcp://dask-scheduler:8786 after 30 s",
     "output_type": "error",
     "traceback": [
      "\u001b[0;31m---------------------------------------------------------------------------\u001b[0m",
      "\u001b[0;31mgaierror\u001b[0m                                  Traceback (most recent call last)",
      "File \u001b[0;32m~/anaconda3/envs/ml/lib/python3.9/site-packages/distributed/comm/core.py:289\u001b[0m, in \u001b[0;36mconnect\u001b[0;34m(addr, timeout, deserialize, handshake_overrides, **connection_args)\u001b[0m\n\u001b[1;32m    288\u001b[0m \u001b[38;5;28;01mtry\u001b[39;00m:\n\u001b[0;32m--> 289\u001b[0m     comm \u001b[38;5;241m=\u001b[39m \u001b[38;5;28;01mawait\u001b[39;00m asyncio\u001b[38;5;241m.\u001b[39mwait_for(\n\u001b[1;32m    290\u001b[0m         connector\u001b[38;5;241m.\u001b[39mconnect(loc, deserialize\u001b[38;5;241m=\u001b[39mdeserialize, \u001b[38;5;241m*\u001b[39m\u001b[38;5;241m*\u001b[39mconnection_args),\n\u001b[1;32m    291\u001b[0m         timeout\u001b[38;5;241m=\u001b[39m\u001b[38;5;28mmin\u001b[39m(intermediate_cap, time_left()),\n\u001b[1;32m    292\u001b[0m     )\n\u001b[1;32m    293\u001b[0m     \u001b[38;5;28;01mbreak\u001b[39;00m\n",
      "File \u001b[0;32m~/anaconda3/envs/ml/lib/python3.9/asyncio/tasks.py:479\u001b[0m, in \u001b[0;36mwait_for\u001b[0;34m(fut, timeout, loop)\u001b[0m\n\u001b[1;32m    478\u001b[0m \u001b[38;5;28;01mif\u001b[39;00m fut\u001b[38;5;241m.\u001b[39mdone():\n\u001b[0;32m--> 479\u001b[0m     \u001b[38;5;28;01mreturn\u001b[39;00m \u001b[43mfut\u001b[49m\u001b[38;5;241;43m.\u001b[39;49m\u001b[43mresult\u001b[49m\u001b[43m(\u001b[49m\u001b[43m)\u001b[49m\n\u001b[1;32m    480\u001b[0m \u001b[38;5;28;01melse\u001b[39;00m:\n",
      "File \u001b[0;32m~/anaconda3/envs/ml/lib/python3.9/site-packages/distributed/comm/tcp.py:444\u001b[0m, in \u001b[0;36mBaseTCPConnector.connect\u001b[0;34m(self, address, deserialize, **connection_args)\u001b[0m\n\u001b[1;32m    443\u001b[0m \u001b[38;5;28;01mtry\u001b[39;00m:\n\u001b[0;32m--> 444\u001b[0m     stream \u001b[38;5;241m=\u001b[39m \u001b[38;5;28;01mawait\u001b[39;00m \u001b[38;5;28mself\u001b[39m\u001b[38;5;241m.\u001b[39mclient\u001b[38;5;241m.\u001b[39mconnect(\n\u001b[1;32m    445\u001b[0m         ip, port, max_buffer_size\u001b[38;5;241m=\u001b[39mMAX_BUFFER_SIZE, \u001b[38;5;241m*\u001b[39m\u001b[38;5;241m*\u001b[39mkwargs\n\u001b[1;32m    446\u001b[0m     )\n\u001b[1;32m    447\u001b[0m     \u001b[38;5;66;03m# Under certain circumstances tornado will have a closed connnection with an\u001b[39;00m\n\u001b[1;32m    448\u001b[0m     \u001b[38;5;66;03m# error and not raise a StreamClosedError.\u001b[39;00m\n\u001b[1;32m    449\u001b[0m     \u001b[38;5;66;03m#\u001b[39;00m\n\u001b[1;32m    450\u001b[0m     \u001b[38;5;66;03m# This occurs with tornado 5.x and openssl 1.1+\u001b[39;00m\n",
      "File \u001b[0;32m~/anaconda3/envs/ml/lib/python3.9/site-packages/tornado/tcpclient.py:265\u001b[0m, in \u001b[0;36mTCPClient.connect\u001b[0;34m(self, host, port, af, ssl_options, max_buffer_size, source_ip, source_port, timeout)\u001b[0m\n\u001b[1;32m    264\u001b[0m \u001b[38;5;28;01melse\u001b[39;00m:\n\u001b[0;32m--> 265\u001b[0m     addrinfo \u001b[38;5;241m=\u001b[39m \u001b[38;5;28;01mawait\u001b[39;00m \u001b[38;5;28mself\u001b[39m\u001b[38;5;241m.\u001b[39mresolver\u001b[38;5;241m.\u001b[39mresolve(host, port, af)\n\u001b[1;32m    266\u001b[0m connector \u001b[38;5;241m=\u001b[39m _Connector(\n\u001b[1;32m    267\u001b[0m     addrinfo,\n\u001b[1;32m    268\u001b[0m     functools\u001b[38;5;241m.\u001b[39mpartial(\n\u001b[0;32m   (...)\u001b[0m\n\u001b[1;32m    273\u001b[0m     ),\n\u001b[1;32m    274\u001b[0m )\n",
      "File \u001b[0;32m~/anaconda3/envs/ml/lib/python3.9/site-packages/distributed/_concurrent_futures_thread.py:65\u001b[0m, in \u001b[0;36m_WorkItem.run\u001b[0;34m(self)\u001b[0m\n\u001b[1;32m     64\u001b[0m \u001b[38;5;28;01mtry\u001b[39;00m:\n\u001b[0;32m---> 65\u001b[0m     result \u001b[38;5;241m=\u001b[39m \u001b[38;5;28;43mself\u001b[39;49m\u001b[38;5;241;43m.\u001b[39;49m\u001b[43mfn\u001b[49m\u001b[43m(\u001b[49m\u001b[38;5;241;43m*\u001b[39;49m\u001b[38;5;28;43mself\u001b[39;49m\u001b[38;5;241;43m.\u001b[39;49m\u001b[43margs\u001b[49m\u001b[43m,\u001b[49m\u001b[43m \u001b[49m\u001b[38;5;241;43m*\u001b[39;49m\u001b[38;5;241;43m*\u001b[39;49m\u001b[38;5;28;43mself\u001b[39;49m\u001b[38;5;241;43m.\u001b[39;49m\u001b[43mkwargs\u001b[49m\u001b[43m)\u001b[49m\n\u001b[1;32m     66\u001b[0m \u001b[38;5;28;01mexcept\u001b[39;00m \u001b[38;5;167;01mBaseException\u001b[39;00m \u001b[38;5;28;01mas\u001b[39;00m e:\n",
      "File \u001b[0;32m~/anaconda3/envs/ml/lib/python3.9/site-packages/tornado/netutil.py:444\u001b[0m, in \u001b[0;36mExecutorResolver.resolve\u001b[0;34m(self, host, port, family)\u001b[0m\n\u001b[1;32m    440\u001b[0m \u001b[38;5;129m@run_on_executor\u001b[39m\n\u001b[1;32m    441\u001b[0m \u001b[38;5;28;01mdef\u001b[39;00m \u001b[38;5;21mresolve\u001b[39m(\n\u001b[1;32m    442\u001b[0m     \u001b[38;5;28mself\u001b[39m, host: \u001b[38;5;28mstr\u001b[39m, port: \u001b[38;5;28mint\u001b[39m, family: socket\u001b[38;5;241m.\u001b[39mAddressFamily \u001b[38;5;241m=\u001b[39m socket\u001b[38;5;241m.\u001b[39mAF_UNSPEC\n\u001b[1;32m    443\u001b[0m ) \u001b[38;5;241m-\u001b[39m\u001b[38;5;241m>\u001b[39m List[Tuple[\u001b[38;5;28mint\u001b[39m, Any]]:\n\u001b[0;32m--> 444\u001b[0m     \u001b[38;5;28;01mreturn\u001b[39;00m \u001b[43m_resolve_addr\u001b[49m\u001b[43m(\u001b[49m\u001b[43mhost\u001b[49m\u001b[43m,\u001b[49m\u001b[43m \u001b[49m\u001b[43mport\u001b[49m\u001b[43m,\u001b[49m\u001b[43m \u001b[49m\u001b[43mfamily\u001b[49m\u001b[43m)\u001b[49m\n",
      "File \u001b[0;32m~/anaconda3/envs/ml/lib/python3.9/site-packages/tornado/netutil.py:382\u001b[0m, in \u001b[0;36m_resolve_addr\u001b[0;34m(host, port, family)\u001b[0m\n\u001b[1;32m    374\u001b[0m \u001b[38;5;28;01mdef\u001b[39;00m \u001b[38;5;21m_resolve_addr\u001b[39m(\n\u001b[1;32m    375\u001b[0m     host: \u001b[38;5;28mstr\u001b[39m, port: \u001b[38;5;28mint\u001b[39m, family: socket\u001b[38;5;241m.\u001b[39mAddressFamily \u001b[38;5;241m=\u001b[39m socket\u001b[38;5;241m.\u001b[39mAF_UNSPEC\n\u001b[1;32m    376\u001b[0m ) \u001b[38;5;241m-\u001b[39m\u001b[38;5;241m>\u001b[39m List[Tuple[\u001b[38;5;28mint\u001b[39m, Any]]:\n\u001b[0;32m   (...)\u001b[0m\n\u001b[1;32m    380\u001b[0m     \u001b[38;5;66;03m# matter (we discard the one we get back in the results),\u001b[39;00m\n\u001b[1;32m    381\u001b[0m     \u001b[38;5;66;03m# so the addresses we return should still be usable with SOCK_DGRAM.\u001b[39;00m\n\u001b[0;32m--> 382\u001b[0m     addrinfo \u001b[38;5;241m=\u001b[39m \u001b[43msocket\u001b[49m\u001b[38;5;241;43m.\u001b[39;49m\u001b[43mgetaddrinfo\u001b[49m\u001b[43m(\u001b[49m\u001b[43mhost\u001b[49m\u001b[43m,\u001b[49m\u001b[43m \u001b[49m\u001b[43mport\u001b[49m\u001b[43m,\u001b[49m\u001b[43m \u001b[49m\u001b[43mfamily\u001b[49m\u001b[43m,\u001b[49m\u001b[43m \u001b[49m\u001b[43msocket\u001b[49m\u001b[38;5;241;43m.\u001b[39;49m\u001b[43mSOCK_STREAM\u001b[49m\u001b[43m)\u001b[49m\n\u001b[1;32m    383\u001b[0m     results \u001b[38;5;241m=\u001b[39m []\n",
      "File \u001b[0;32m~/anaconda3/envs/ml/lib/python3.9/socket.py:954\u001b[0m, in \u001b[0;36mgetaddrinfo\u001b[0;34m(host, port, family, type, proto, flags)\u001b[0m\n\u001b[1;32m    953\u001b[0m addrlist \u001b[38;5;241m=\u001b[39m []\n\u001b[0;32m--> 954\u001b[0m \u001b[38;5;28;01mfor\u001b[39;00m res \u001b[38;5;129;01min\u001b[39;00m \u001b[43m_socket\u001b[49m\u001b[38;5;241;43m.\u001b[39;49m\u001b[43mgetaddrinfo\u001b[49m\u001b[43m(\u001b[49m\u001b[43mhost\u001b[49m\u001b[43m,\u001b[49m\u001b[43m \u001b[49m\u001b[43mport\u001b[49m\u001b[43m,\u001b[49m\u001b[43m \u001b[49m\u001b[43mfamily\u001b[49m\u001b[43m,\u001b[49m\u001b[43m \u001b[49m\u001b[38;5;28;43mtype\u001b[39;49m\u001b[43m,\u001b[49m\u001b[43m \u001b[49m\u001b[43mproto\u001b[49m\u001b[43m,\u001b[49m\u001b[43m \u001b[49m\u001b[43mflags\u001b[49m\u001b[43m)\u001b[49m:\n\u001b[1;32m    955\u001b[0m     af, socktype, proto, canonname, sa \u001b[38;5;241m=\u001b[39m res\n",
      "\u001b[0;31mgaierror\u001b[0m: [Errno -3] Temporary failure in name resolution",
      "\nThe above exception was the direct cause of the following exception:\n",
      "\u001b[0;31mOSError\u001b[0m                                   Traceback (most recent call last)",
      "Input \u001b[0;32mIn [5]\u001b[0m, in \u001b[0;36m<cell line: 3>\u001b[0;34m()\u001b[0m\n\u001b[1;32m      9\u001b[0m     client \u001b[38;5;241m=\u001b[39m Client(\u001b[38;5;124m'\u001b[39m\u001b[38;5;132;01m{}\u001b[39;00m\u001b[38;5;124m:8786\u001b[39m\u001b[38;5;124m'\u001b[39m\u001b[38;5;241m.\u001b[39mformat(host_ip))\n\u001b[1;32m     11\u001b[0m \u001b[38;5;28;01melif\u001b[39;00m CLUSTER_TYPE \u001b[38;5;241m==\u001b[39m \u001b[38;5;124m'\u001b[39m\u001b[38;5;124mdocker_cluster\u001b[39m\u001b[38;5;124m'\u001b[39m:\n\u001b[1;32m     12\u001b[0m     \n\u001b[1;32m     13\u001b[0m     \u001b[38;5;66;03m# use the provided master\u001b[39;00m\n\u001b[0;32m---> 14\u001b[0m     client \u001b[38;5;241m=\u001b[39m \u001b[43mClient\u001b[49m\u001b[43m(\u001b[49m\u001b[38;5;124;43m'\u001b[39;49m\u001b[38;5;124;43mdask-scheduler:8786\u001b[39;49m\u001b[38;5;124;43m'\u001b[39;49m\u001b[43m)\u001b[49m\n\u001b[1;32m     16\u001b[0m client\n",
      "File \u001b[0;32m~/anaconda3/envs/ml/lib/python3.9/site-packages/distributed/client.py:938\u001b[0m, in \u001b[0;36mClient.__init__\u001b[0;34m(self, address, loop, timeout, set_as_default, scheduler_file, security, asynchronous, name, heartbeat_interval, serializers, deserializers, extensions, direct_to_workers, connection_limit, **kwargs)\u001b[0m\n\u001b[1;32m    935\u001b[0m preload_argv \u001b[38;5;241m=\u001b[39m dask\u001b[38;5;241m.\u001b[39mconfig\u001b[38;5;241m.\u001b[39mget(\u001b[38;5;124m\"\u001b[39m\u001b[38;5;124mdistributed.client.preload-argv\u001b[39m\u001b[38;5;124m\"\u001b[39m)\n\u001b[1;32m    936\u001b[0m \u001b[38;5;28mself\u001b[39m\u001b[38;5;241m.\u001b[39mpreloads \u001b[38;5;241m=\u001b[39m preloading\u001b[38;5;241m.\u001b[39mprocess_preloads(\u001b[38;5;28mself\u001b[39m, preload, preload_argv)\n\u001b[0;32m--> 938\u001b[0m \u001b[38;5;28;43mself\u001b[39;49m\u001b[38;5;241;43m.\u001b[39;49m\u001b[43mstart\u001b[49m\u001b[43m(\u001b[49m\u001b[43mtimeout\u001b[49m\u001b[38;5;241;43m=\u001b[39;49m\u001b[43mtimeout\u001b[49m\u001b[43m)\u001b[49m\n\u001b[1;32m    939\u001b[0m Client\u001b[38;5;241m.\u001b[39m_instances\u001b[38;5;241m.\u001b[39madd(\u001b[38;5;28mself\u001b[39m)\n\u001b[1;32m    941\u001b[0m \u001b[38;5;28;01mfrom\u001b[39;00m \u001b[38;5;21;01mdistributed\u001b[39;00m\u001b[38;5;21;01m.\u001b[39;00m\u001b[38;5;21;01mrecreate_tasks\u001b[39;00m \u001b[38;5;28;01mimport\u001b[39;00m ReplayTaskClient\n",
      "File \u001b[0;32m~/anaconda3/envs/ml/lib/python3.9/site-packages/distributed/client.py:1096\u001b[0m, in \u001b[0;36mClient.start\u001b[0;34m(self, **kwargs)\u001b[0m\n\u001b[1;32m   1094\u001b[0m     \u001b[38;5;28mself\u001b[39m\u001b[38;5;241m.\u001b[39m_started \u001b[38;5;241m=\u001b[39m asyncio\u001b[38;5;241m.\u001b[39mensure_future(\u001b[38;5;28mself\u001b[39m\u001b[38;5;241m.\u001b[39m_start(\u001b[38;5;241m*\u001b[39m\u001b[38;5;241m*\u001b[39mkwargs))\n\u001b[1;32m   1095\u001b[0m \u001b[38;5;28;01melse\u001b[39;00m:\n\u001b[0;32m-> 1096\u001b[0m     \u001b[43msync\u001b[49m\u001b[43m(\u001b[49m\u001b[38;5;28;43mself\u001b[39;49m\u001b[38;5;241;43m.\u001b[39;49m\u001b[43mloop\u001b[49m\u001b[43m,\u001b[49m\u001b[43m \u001b[49m\u001b[38;5;28;43mself\u001b[39;49m\u001b[38;5;241;43m.\u001b[39;49m\u001b[43m_start\u001b[49m\u001b[43m,\u001b[49m\u001b[43m \u001b[49m\u001b[38;5;241;43m*\u001b[39;49m\u001b[38;5;241;43m*\u001b[39;49m\u001b[43mkwargs\u001b[49m\u001b[43m)\u001b[49m\n",
      "File \u001b[0;32m~/anaconda3/envs/ml/lib/python3.9/site-packages/distributed/utils.py:376\u001b[0m, in \u001b[0;36msync\u001b[0;34m(loop, func, callback_timeout, *args, **kwargs)\u001b[0m\n\u001b[1;32m    374\u001b[0m \u001b[38;5;28;01mif\u001b[39;00m error:\n\u001b[1;32m    375\u001b[0m     typ, exc, tb \u001b[38;5;241m=\u001b[39m error\n\u001b[0;32m--> 376\u001b[0m     \u001b[38;5;28;01mraise\u001b[39;00m exc\u001b[38;5;241m.\u001b[39mwith_traceback(tb)\n\u001b[1;32m    377\u001b[0m \u001b[38;5;28;01melse\u001b[39;00m:\n\u001b[1;32m    378\u001b[0m     \u001b[38;5;28;01mreturn\u001b[39;00m result\n",
      "File \u001b[0;32m~/anaconda3/envs/ml/lib/python3.9/site-packages/distributed/utils.py:349\u001b[0m, in \u001b[0;36msync.<locals>.f\u001b[0;34m()\u001b[0m\n\u001b[1;32m    347\u001b[0m         future \u001b[38;5;241m=\u001b[39m asyncio\u001b[38;5;241m.\u001b[39mwait_for(future, callback_timeout)\n\u001b[1;32m    348\u001b[0m     future \u001b[38;5;241m=\u001b[39m asyncio\u001b[38;5;241m.\u001b[39mensure_future(future)\n\u001b[0;32m--> 349\u001b[0m     result \u001b[38;5;241m=\u001b[39m \u001b[38;5;28;01myield\u001b[39;00m future\n\u001b[1;32m    350\u001b[0m \u001b[38;5;28;01mexcept\u001b[39;00m \u001b[38;5;167;01mException\u001b[39;00m:\n\u001b[1;32m    351\u001b[0m     error \u001b[38;5;241m=\u001b[39m sys\u001b[38;5;241m.\u001b[39mexc_info()\n",
      "File \u001b[0;32m~/anaconda3/envs/ml/lib/python3.9/site-packages/tornado/gen.py:762\u001b[0m, in \u001b[0;36mRunner.run\u001b[0;34m(self)\u001b[0m\n\u001b[1;32m    759\u001b[0m exc_info \u001b[38;5;241m=\u001b[39m \u001b[38;5;28;01mNone\u001b[39;00m\n\u001b[1;32m    761\u001b[0m \u001b[38;5;28;01mtry\u001b[39;00m:\n\u001b[0;32m--> 762\u001b[0m     value \u001b[38;5;241m=\u001b[39m \u001b[43mfuture\u001b[49m\u001b[38;5;241;43m.\u001b[39;49m\u001b[43mresult\u001b[49m\u001b[43m(\u001b[49m\u001b[43m)\u001b[49m\n\u001b[1;32m    763\u001b[0m \u001b[38;5;28;01mexcept\u001b[39;00m \u001b[38;5;167;01mException\u001b[39;00m:\n\u001b[1;32m    764\u001b[0m     exc_info \u001b[38;5;241m=\u001b[39m sys\u001b[38;5;241m.\u001b[39mexc_info()\n",
      "File \u001b[0;32m~/anaconda3/envs/ml/lib/python3.9/site-packages/distributed/client.py:1188\u001b[0m, in \u001b[0;36mClient._start\u001b[0;34m(self, timeout, **kwargs)\u001b[0m\n\u001b[1;32m   1185\u001b[0m \u001b[38;5;28mself\u001b[39m\u001b[38;5;241m.\u001b[39mscheduler_comm \u001b[38;5;241m=\u001b[39m \u001b[38;5;28;01mNone\u001b[39;00m\n\u001b[1;32m   1187\u001b[0m \u001b[38;5;28;01mtry\u001b[39;00m:\n\u001b[0;32m-> 1188\u001b[0m     \u001b[38;5;28;01mawait\u001b[39;00m \u001b[38;5;28mself\u001b[39m\u001b[38;5;241m.\u001b[39m_ensure_connected(timeout\u001b[38;5;241m=\u001b[39mtimeout)\n\u001b[1;32m   1189\u001b[0m \u001b[38;5;28;01mexcept\u001b[39;00m (\u001b[38;5;167;01mOSError\u001b[39;00m, \u001b[38;5;167;01mImportError\u001b[39;00m):\n\u001b[1;32m   1190\u001b[0m     \u001b[38;5;28;01mawait\u001b[39;00m \u001b[38;5;28mself\u001b[39m\u001b[38;5;241m.\u001b[39m_close()\n",
      "File \u001b[0;32m~/anaconda3/envs/ml/lib/python3.9/site-packages/distributed/client.py:1250\u001b[0m, in \u001b[0;36mClient._ensure_connected\u001b[0;34m(self, timeout)\u001b[0m\n\u001b[1;32m   1247\u001b[0m \u001b[38;5;28mself\u001b[39m\u001b[38;5;241m.\u001b[39m_connecting_to_scheduler \u001b[38;5;241m=\u001b[39m \u001b[38;5;28;01mTrue\u001b[39;00m\n\u001b[1;32m   1249\u001b[0m \u001b[38;5;28;01mtry\u001b[39;00m:\n\u001b[0;32m-> 1250\u001b[0m     comm \u001b[38;5;241m=\u001b[39m \u001b[38;5;28;01mawait\u001b[39;00m connect(\n\u001b[1;32m   1251\u001b[0m         \u001b[38;5;28mself\u001b[39m\u001b[38;5;241m.\u001b[39mscheduler\u001b[38;5;241m.\u001b[39maddress, timeout\u001b[38;5;241m=\u001b[39mtimeout, \u001b[38;5;241m*\u001b[39m\u001b[38;5;241m*\u001b[39m\u001b[38;5;28mself\u001b[39m\u001b[38;5;241m.\u001b[39mconnection_args\n\u001b[1;32m   1252\u001b[0m     )\n\u001b[1;32m   1253\u001b[0m     comm\u001b[38;5;241m.\u001b[39mname \u001b[38;5;241m=\u001b[39m \u001b[38;5;124m\"\u001b[39m\u001b[38;5;124mClient->Scheduler\u001b[39m\u001b[38;5;124m\"\u001b[39m\n\u001b[1;32m   1254\u001b[0m     \u001b[38;5;28;01mif\u001b[39;00m timeout \u001b[38;5;129;01mis\u001b[39;00m \u001b[38;5;129;01mnot\u001b[39;00m \u001b[38;5;28;01mNone\u001b[39;00m:\n",
      "File \u001b[0;32m~/anaconda3/envs/ml/lib/python3.9/site-packages/distributed/comm/core.py:315\u001b[0m, in \u001b[0;36mconnect\u001b[0;34m(addr, timeout, deserialize, handshake_overrides, **connection_args)\u001b[0m\n\u001b[1;32m    313\u001b[0m         \u001b[38;5;28;01mawait\u001b[39;00m asyncio\u001b[38;5;241m.\u001b[39msleep(backoff)\n\u001b[1;32m    314\u001b[0m \u001b[38;5;28;01melse\u001b[39;00m:\n\u001b[0;32m--> 315\u001b[0m     \u001b[38;5;28;01mraise\u001b[39;00m \u001b[38;5;167;01mOSError\u001b[39;00m(\n\u001b[1;32m    316\u001b[0m         \u001b[38;5;124mf\u001b[39m\u001b[38;5;124m\"\u001b[39m\u001b[38;5;124mTimed out trying to connect to \u001b[39m\u001b[38;5;132;01m{\u001b[39;00maddr\u001b[38;5;132;01m}\u001b[39;00m\u001b[38;5;124m after \u001b[39m\u001b[38;5;132;01m{\u001b[39;00mtimeout\u001b[38;5;132;01m}\u001b[39;00m\u001b[38;5;124m s\u001b[39m\u001b[38;5;124m\"\u001b[39m\n\u001b[1;32m    317\u001b[0m     ) \u001b[38;5;28;01mfrom\u001b[39;00m \u001b[38;5;21;01mactive_exception\u001b[39;00m\n\u001b[1;32m    319\u001b[0m local_info \u001b[38;5;241m=\u001b[39m {\n\u001b[1;32m    320\u001b[0m     \u001b[38;5;241m*\u001b[39m\u001b[38;5;241m*\u001b[39mcomm\u001b[38;5;241m.\u001b[39mhandshake_info(),\n\u001b[1;32m    321\u001b[0m     \u001b[38;5;241m*\u001b[39m\u001b[38;5;241m*\u001b[39m(handshake_overrides \u001b[38;5;129;01mor\u001b[39;00m {}),\n\u001b[1;32m    322\u001b[0m }\n\u001b[1;32m    323\u001b[0m \u001b[38;5;28;01mtry\u001b[39;00m:\n\u001b[1;32m    324\u001b[0m     \u001b[38;5;66;03m# This would be better, but connections leak if worker is closed quickly\u001b[39;00m\n\u001b[1;32m    325\u001b[0m     \u001b[38;5;66;03m# write, handshake = await asyncio.gather(comm.write(local_info), comm.read())\u001b[39;00m\n",
      "\u001b[0;31mOSError\u001b[0m: Timed out trying to connect to tcp://dask-scheduler:8786 after 30 s"
     ]
    }
   ],
   "source": [
    "from dask.distributed import Client\n",
    "\n",
    "if CLUSTER_TYPE == 'local':\n",
    "    \n",
    "    client = Client()\n",
    "\n",
    "elif CLUSTER_TYPE == 'docker_container':\n",
    "    \n",
    "    client = Client('{}:8786'.format(host_ip))\n",
    "    \n",
    "elif CLUSTER_TYPE == 'docker_cluster':\n",
    "    \n",
    "    # use the provided master\n",
    "    client = Client('dask-scheduler:8786')\n",
    "    \n",
    "client"
   ]
  },
  {
   "cell_type": "code",
   "execution_count": 6,
   "id": "68d6040f",
   "metadata": {},
   "outputs": [],
   "source": [
    "from time import time\n",
    "\n",
    "import matplotlib.pyplot as plt\n",
    "import dask\n",
    "\n",
    "import sklearn.datasets\n",
    "import dask_ml.datasets\n",
    "\n",
    "import sklearn.cluster\n",
    "import dask_ml.cluster\n",
    "\n",
    "from sklearn.model_selection import train_test_split\n",
    "from sklearn.ensemble import RandomForestClassifier\n",
    "from sklearn.neural_network import MLPRegressor, MLPClassifier\n",
    "from sklearn.linear_model import SGDClassifier\n",
    "\n",
    "from sklearn.metrics import accuracy_score"
   ]
  },
  {
   "cell_type": "markdown",
   "id": "5424c0f3",
   "metadata": {},
   "source": [
    "## Dask drop-in replacement for sklearn algorithms\n",
    "\n",
    "Dask reimplements some of the estimators present in `sklearn` following the same API. In particular, machine learning methos which can be writtn down as Numpy routines can be easily parallelized using Dask arrays. \n",
    "These variant however include several optimizations and regularizers in order to scale well out of large datasets.\n",
    "\n",
    "Some algorithms include [Generalized Linear Models](https://ml.dask.org/glm.html), and [Clustering](https://ml.dask.org/clustering.html). In addition, also [preprocessing transformers](https://ml.dask.org/preprocessing.html), such as scalers, are ready to use and they fit and transform data in parallel.\n",
    "\n",
    "As an example, let's perform a KMeans clustering both using `sklearn` and Dask."
   ]
  },
  {
   "cell_type": "code",
   "execution_count": 7,
   "id": "2b888b74",
   "metadata": {},
   "outputs": [],
   "source": [
    "n_samples  = int(1e07)\n",
    "n_features = 2\n",
    "centers = 5\n",
    "rs = 0 # random seed"
   ]
  },
  {
   "cell_type": "code",
   "execution_count": 8,
   "id": "4c4372cd",
   "metadata": {},
   "outputs": [],
   "source": [
    "###########\n",
    "# SKLEARN #\n",
    "###########\n",
    "\n",
    "# let's get a dummy dataset\n",
    "X, y = sklearn.datasets.make_blobs(n_samples=n_samples, n_features=n_features, centers=centers, random_state=rs)"
   ]
  },
  {
   "cell_type": "code",
   "execution_count": 9,
   "id": "2e0f3c25",
   "metadata": {},
   "outputs": [
    {
     "data": {
      "text/plain": [
       "<matplotlib.collections.PathCollection at 0x7fb5d2e902b0>"
      ]
     },
     "execution_count": 9,
     "metadata": {},
     "output_type": "execute_result"
    },
    {
     "data": {
      "image/png": "[encoded data removed]",
      "text/plain": [
       "<Figure size 576x288 with 1 Axes>"
      ]
     },
     "metadata": {
      "needs_background": "light"
     },
     "output_type": "display_data"
    }
   ],
   "source": [
    "# plot some samples\n",
    "\n",
    "fig, ax = plt.subplots(figsize=(8,4))\n",
    "ax.scatter(X[:1000, 0], X[:1000, 1], c=y[:1000])"
   ]
  },
  {
   "cell_type": "code",
   "execution_count": 10,
   "id": "3a3a205a",
   "metadata": {},
   "outputs": [
    {
     "name": "stdout",
     "output_type": "stream",
     "text": [
      "CPU times: user 1min 18s, sys: 51.9 s, total: 2min 10s\n",
      "Wall time: 27.8 s\n"
     ]
    }
   ],
   "source": [
    "%%time\n",
    "model = sklearn.cluster.KMeans(n_clusters=centers)\n",
    "y_pred = model.fit_predict(X)"
   ]
  },
  {
   "cell_type": "code",
   "execution_count": 11,
   "id": "44414f85",
   "metadata": {},
   "outputs": [
    {
     "data": {
      "text/plain": [
       "<matplotlib.collections.PathCollection at 0x7fb57897c370>"
      ]
     },
     "execution_count": 11,
     "metadata": {},
     "output_type": "execute_result"
    },
    {
     "data": {
      "image/png": "[encoded data removed]",
      "text/plain": [
       "<Figure size 576x288 with 1 Axes>"
      ]
     },
     "metadata": {
      "needs_background": "light"
     },
     "output_type": "display_data"
    }
   ],
   "source": [
    "# plot kmeans predictions\n",
    "fig, ax = plt.subplots(figsize=(8,4))\n",
    "ax.scatter(X[:1000, 0], X[:1000, 1], c=y_pred[:1000])"
   ]
  },
  {
   "cell_type": "code",
   "execution_count": 12,
   "id": "c88ab9bc",
   "metadata": {},
   "outputs": [],
   "source": [
    "###########\n",
    "# DASK ML #\n",
    "###########\n",
    "\n",
    "# create a dummy dataset with dask;\n",
    "# it returns dask arrays\n",
    "\n",
    "X, y = dask_ml.datasets.make_blobs(\n",
    "    n_samples=n_samples, \n",
    "    n_features=n_features, \n",
    "    centers=centers, \n",
    "    random_state=rs, \n",
    "    chunks=100000 # size of each chunk\n",
    ")"
   ]
  },
  {
   "cell_type": "code",
   "execution_count": 13,
   "id": "df5f2d7f",
   "metadata": {},
   "outputs": [
    {
     "data": {
      "text/html": [
       "<table>\n",
       "<tr>\n",
       "<td>\n",
       "<table>\n",
       "  <thead>\n",
       "    <tr><td> </td><th> Array </th><th> Chunk </th></tr>\n",
       "  </thead>\n",
       "  <tbody>\n",
       "    <tr><th> Bytes </th><td> 152.59 MiB </td> <td> 1.53 MiB </td></tr>\n",
       "    <tr><th> Shape </th><td> (10000000, 2) </td> <td> (100000, 2) </td></tr>\n",
       "    <tr><th> Count </th><td> 400 Tasks </td><td> 100 Chunks </td></tr>\n",
       "    <tr><th> Type </th><td> float64 </td><td> numpy.ndarray </td></tr>\n",
       "  </tbody>\n",
       "</table>\n",
       "</td>\n",
       "<td>\n",
       "<svg width=\"75\" height=\"170\" style=\"stroke:rgb(0,0,0);stroke-width:1\" >\n",
       "\n",
       "  <!-- Horizontal lines -->\n",
       "  <line x1=\"0\" y1=\"0\" x2=\"25\" y2=\"0\" style=\"stroke-width:2\" />\n",
       "  <line x1=\"0\" y1=\"6\" x2=\"25\" y2=\"6\" />\n",
       "  <line x1=\"0\" y1=\"12\" x2=\"25\" y2=\"12\" />\n",
       "  <line x1=\"0\" y1=\"18\" x2=\"25\" y2=\"18\" />\n",
       "  <line x1=\"0\" y1=\"25\" x2=\"25\" y2=\"25\" />\n",
       "  <line x1=\"0\" y1=\"31\" x2=\"25\" y2=\"31\" />\n",
       "  <line x1=\"0\" y1=\"37\" x2=\"25\" y2=\"37\" />\n",
       "  <line x1=\"0\" y1=\"43\" x2=\"25\" y2=\"43\" />\n",
       "  <line x1=\"0\" y1=\"50\" x2=\"25\" y2=\"50\" />\n",
       "  <line x1=\"0\" y1=\"56\" x2=\"25\" y2=\"56\" />\n",
       "  <line x1=\"0\" y1=\"62\" x2=\"25\" y2=\"62\" />\n",
       "  <line x1=\"0\" y1=\"68\" x2=\"25\" y2=\"68\" />\n",
       "  <line x1=\"0\" y1=\"75\" x2=\"25\" y2=\"75\" />\n",
       "  <line x1=\"0\" y1=\"81\" x2=\"25\" y2=\"81\" />\n",
       "  <line x1=\"0\" y1=\"87\" x2=\"25\" y2=\"87\" />\n",
       "  <line x1=\"0\" y1=\"93\" x2=\"25\" y2=\"93\" />\n",
       "  <line x1=\"0\" y1=\"100\" x2=\"25\" y2=\"100\" />\n",
       "  <line x1=\"0\" y1=\"106\" x2=\"25\" y2=\"106\" />\n",
       "  <line x1=\"0\" y1=\"112\" x2=\"25\" y2=\"112\" />\n",
       "  <line x1=\"0\" y1=\"120\" x2=\"25\" y2=\"120\" style=\"stroke-width:2\" />\n",
       "\n",
       "  <!-- Vertical lines -->\n",
       "  <line x1=\"0\" y1=\"0\" x2=\"0\" y2=\"120\" style=\"stroke-width:2\" />\n",
       "  <line x1=\"25\" y1=\"0\" x2=\"25\" y2=\"120\" style=\"stroke-width:2\" />\n",
       "\n",
       "  <!-- Colored Rectangle -->\n",
       "  <polygon points=\"0.0,0.0 25.412616514582485,0.0 25.412616514582485,120.0 0.0,120.0\" style=\"fill:#8B4903A0;stroke-width:0\"/>\n",
       "\n",
       "  <!-- Text -->\n",
       "  <text x=\"12.706308\" y=\"140.000000\" font-size=\"1.0rem\" font-weight=\"100\" text-anchor=\"middle\" >2</text>\n",
       "  <text x=\"45.412617\" y=\"60.000000\" font-size=\"1.0rem\" font-weight=\"100\" text-anchor=\"middle\" transform=\"rotate(-90,45.412617,60.000000)\">10000000</text>\n",
       "</svg>\n",
       "</td>\n",
       "</tr>\n",
       "</table>"
      ],
      "text/plain": [
       "dask.array<concatenate, shape=(10000000, 2), dtype=float64, chunksize=(100000, 2), chunktype=numpy.ndarray>"
      ]
     },
     "execution_count": 13,
     "metadata": {},
     "output_type": "execute_result"
    }
   ],
   "source": [
    "X"
   ]
  },
  {
   "cell_type": "code",
   "execution_count": 14,
   "id": "14cc5d7b",
   "metadata": {},
   "outputs": [
    {
     "data": {
      "text/plain": [
       "<matplotlib.collections.PathCollection at 0x7fb5788cdca0>"
      ]
     },
     "execution_count": 14,
     "metadata": {},
     "output_type": "execute_result"
    },
    {
     "data": {
      "image/png": "[encoded data removed]",
      "text/plain": [
       "<Figure size 576x288 with 1 Axes>"
      ]
     },
     "metadata": {
      "needs_background": "light"
     },
     "output_type": "display_data"
    }
   ],
   "source": [
    "fig, ax = plt.subplots(figsize=(8,4))\n",
    "ax.scatter(X[:1000, 0], X[:1000, 1], c=y[:1000])"
   ]
  },
  {
   "cell_type": "code",
   "execution_count": 15,
   "id": "15ebc285",
   "metadata": {},
   "outputs": [
    {
     "name": "stdout",
     "output_type": "stream",
     "text": [
      "CPU times: user 3.65 s, sys: 68.3 ms, total: 3.72 s\n",
      "Wall time: 1min 24s\n"
     ]
    }
   ],
   "source": [
    "%%time\n",
    "\n",
    "# same API as sklearn\n",
    "model = dask_ml.cluster.KMeans(n_clusters=centers)\n",
    "\n",
    "model.fit(X)\n",
    "y_pred = model.predict(X)"
   ]
  },
  {
   "cell_type": "markdown",
   "id": "b9da11bf",
   "metadata": {},
   "source": [
    "Dask implementation follows the same API as `sklearn`, so from a code point of view there are no differences.\n",
    "\n",
    "However, their algorithm is `k-means||` (rather then `k-memans++`) which is described in [Scalable K-Means++](https://arxiv.org/abs/1203.6402). It changes the initialization part of the algorithm and then implements the Lloyd's Algorithm in parallel using the Map-Reduce paradigm."
   ]
  },
  {
   "cell_type": "code",
   "execution_count": 16,
   "id": "92c7b63c",
   "metadata": {},
   "outputs": [
    {
     "data": {
      "text/html": [
       "<table>\n",
       "<tr>\n",
       "<td>\n",
       "<table>\n",
       "  <thead>\n",
       "    <tr><td> </td><th> Array </th><th> Chunk </th></tr>\n",
       "  </thead>\n",
       "  <tbody>\n",
       "    <tr><th> Bytes </th><td> 38.15 MiB </td> <td> 390.62 kiB </td></tr>\n",
       "    <tr><th> Shape </th><td> (10000000,) </td> <td> (100000,) </td></tr>\n",
       "    <tr><th> Count </th><td> 700 Tasks </td><td> 100 Chunks </td></tr>\n",
       "    <tr><th> Type </th><td> int32 </td><td> numpy.ndarray </td></tr>\n",
       "  </tbody>\n",
       "</table>\n",
       "</td>\n",
       "<td>\n",
       "<svg width=\"170\" height=\"75\" style=\"stroke:rgb(0,0,0);stroke-width:1\" >\n",
       "\n",
       "  <!-- Horizontal lines -->\n",
       "  <line x1=\"0\" y1=\"0\" x2=\"120\" y2=\"0\" style=\"stroke-width:2\" />\n",
       "  <line x1=\"0\" y1=\"25\" x2=\"120\" y2=\"25\" style=\"stroke-width:2\" />\n",
       "\n",
       "  <!-- Vertical lines -->\n",
       "  <line x1=\"0\" y1=\"0\" x2=\"0\" y2=\"25\" style=\"stroke-width:2\" />\n",
       "  <line x1=\"6\" y1=\"0\" x2=\"6\" y2=\"25\" />\n",
       "  <line x1=\"12\" y1=\"0\" x2=\"12\" y2=\"25\" />\n",
       "  <line x1=\"18\" y1=\"0\" x2=\"18\" y2=\"25\" />\n",
       "  <line x1=\"25\" y1=\"0\" x2=\"25\" y2=\"25\" />\n",
       "  <line x1=\"31\" y1=\"0\" x2=\"31\" y2=\"25\" />\n",
       "  <line x1=\"37\" y1=\"0\" x2=\"37\" y2=\"25\" />\n",
       "  <line x1=\"43\" y1=\"0\" x2=\"43\" y2=\"25\" />\n",
       "  <line x1=\"50\" y1=\"0\" x2=\"50\" y2=\"25\" />\n",
       "  <line x1=\"56\" y1=\"0\" x2=\"56\" y2=\"25\" />\n",
       "  <line x1=\"62\" y1=\"0\" x2=\"62\" y2=\"25\" />\n",
       "  <line x1=\"68\" y1=\"0\" x2=\"68\" y2=\"25\" />\n",
       "  <line x1=\"75\" y1=\"0\" x2=\"75\" y2=\"25\" />\n",
       "  <line x1=\"81\" y1=\"0\" x2=\"81\" y2=\"25\" />\n",
       "  <line x1=\"87\" y1=\"0\" x2=\"87\" y2=\"25\" />\n",
       "  <line x1=\"93\" y1=\"0\" x2=\"93\" y2=\"25\" />\n",
       "  <line x1=\"100\" y1=\"0\" x2=\"100\" y2=\"25\" />\n",
       "  <line x1=\"106\" y1=\"0\" x2=\"106\" y2=\"25\" />\n",
       "  <line x1=\"112\" y1=\"0\" x2=\"112\" y2=\"25\" />\n",
       "  <line x1=\"120\" y1=\"0\" x2=\"120\" y2=\"25\" style=\"stroke-width:2\" />\n",
       "\n",
       "  <!-- Colored Rectangle -->\n",
       "  <polygon points=\"0.0,0.0 120.0,0.0 120.0,25.412616514582485 0.0,25.412616514582485\" style=\"fill:#8B4903A0;stroke-width:0\"/>\n",
       "\n",
       "  <!-- Text -->\n",
       "  <text x=\"60.000000\" y=\"45.412617\" font-size=\"1.0rem\" font-weight=\"100\" text-anchor=\"middle\" >10000000</text>\n",
       "  <text x=\"140.000000\" y=\"12.706308\" font-size=\"1.0rem\" font-weight=\"100\" text-anchor=\"middle\" transform=\"rotate(0,140.000000,12.706308)\">1</text>\n",
       "</svg>\n",
       "</td>\n",
       "</tr>\n",
       "</table>"
      ],
      "text/plain": [
       "dask.array<astype, shape=(10000000,), dtype=int32, chunksize=(100000,), chunktype=numpy.ndarray>"
      ]
     },
     "execution_count": 16,
     "metadata": {},
     "output_type": "execute_result"
    }
   ],
   "source": [
    "# now the resulting array is only 38MiB,\n",
    "# so you can also consider to retrieve it as a normal numpy array\n",
    "\n",
    "y_pred"
   ]
  },
  {
   "cell_type": "code",
   "execution_count": 17,
   "id": "798a27a4",
   "metadata": {},
   "outputs": [
    {
     "data": {
      "text/plain": [
       "<matplotlib.collections.PathCollection at 0x7fb5784b9e80>"
      ]
     },
     "execution_count": 17,
     "metadata": {},
     "output_type": "execute_result"
    },
    {
     "data": {
      "image/png": "[encoded data removed]",
      "text/plain": [
       "<Figure size 576x288 with 1 Axes>"
      ]
     },
     "metadata": {
      "needs_background": "light"
     },
     "output_type": "display_data"
    }
   ],
   "source": [
    "fig, ax = plt.subplots(figsize=(8,4))\n",
    "ax.scatter(X[:1000, 0], X[:1000, 1], c=y_pred[:1000])"
   ]
  },
  {
   "cell_type": "code",
   "execution_count": 18,
   "id": "d99e3b46",
   "metadata": {},
   "outputs": [
    {
     "data": {
      "text/html": [
       "<table style=\"border: 2px solid white;\">\n",
       "<tr>\n",
       "<td style=\"vertical-align: top; border: 0px solid white\">\n",
       "<h3 style=\"text-align: left;\">Client</h3>\n",
       "<ul style=\"text-align: left; list-style: none; margin: 0; padding: 0;\">\n",
       "  <li><b>Scheduler: </b>tcp://dask-scheduler:8786</li>\n",
       "  <li><b>Dashboard: </b><a href='http://dask-scheduler:8787/status' target='_blank'>http://dask-scheduler:8787/status</a></li>\n",
       "</ul>\n",
       "</td>\n",
       "<td style=\"vertical-align: top; border: 0px solid white\">\n",
       "<h3 style=\"text-align: left;\">Cluster</h3>\n",
       "<ul style=\"text-align: left; list-style:none; margin: 0; padding: 0;\">\n",
       "  <li><b>Workers: </b>6</li>\n",
       "  <li><b>Cores: </b>6</li>\n",
       "  <li><b>Memory: </b>5.59 GiB</li>\n",
       "</ul>\n",
       "</td>\n",
       "</tr>\n",
       "</table>"
      ],
      "text/plain": [
       "<Client: 'tcp://172.21.0.2:8786' processes=6 threads=6, memory=5.59 GiB>"
      ]
     },
     "execution_count": 18,
     "metadata": {},
     "output_type": "execute_result"
    }
   ],
   "source": [
    "client.restart()"
   ]
  },
  {
   "cell_type": "markdown",
   "id": "66f61a09",
   "metadata": {},
   "source": [
    "Another interesting reimplementation of a `sklearn` algorithm can be found for the SpectralClustering.\n",
    "\n",
    "[SpectralClustering](https://scikit-learn.org/stable/modules/clustering.html#spectral-clustering) performs a low-dimension embedding of the affinity matrix between samples, followed by clustering of the components of the eigenvectors in the low dimensional space. The computation of the $N \\times N$ affinity matrix is really expensive, and also can lead to out of memory problems when the number of samples increases. \n",
    "\n",
    "To overcome this problem, Dask implements the [Nystrom approximation](https://maelfabien.github.io/machinelearning/largescale/#iv-nystr%C3%B6m-approximation) to compute the affinity matrix. The magnitude of the approximation is determined by the `n_components` parameter: higher the value, higher the accuracy of the approximation, at the cost of a longer training time. At the end, the N $\\times$ N affinity matrix is approximated by an N $\\times$ `n_components` one.\n",
    "\n",
    "Let's see how this scales by increasing the number of samples."
   ]
  },
  {
   "cell_type": "code",
   "execution_count": 19,
   "id": "97dfbbba",
   "metadata": {},
   "outputs": [],
   "source": [
    "# I did my test using a 16 cores Rayzen 7 and 32Gb of RAM.\n",
    "# sklearn implementation starts to crash due to memory limit from 1e05\n",
    "# For the docker, I used 6 workers each one with 1Gb of memory\n",
    "\n",
    "n_samples = [int(1e03), int(1e04), int(1.5e04), int(2e04), int(1e05), int(1e06)]"
   ]
  },
  {
   "cell_type": "code",
   "execution_count": 20,
   "id": "9cd34184",
   "metadata": {},
   "outputs": [
    {
     "name": "stdout",
     "output_type": "stream",
     "text": [
      "n =      1000 | t_sklearn =   0.198610 | t_daskml =   6.377589\n",
      "n =     10000 | t_sklearn =   8.514907 | t_daskml =   5.280702\n",
      "n =     15000 | t_sklearn =  24.436605 | t_daskml =   6.308903\n",
      "n =     20000 | t_sklearn =  50.851857 | t_daskml =   7.114057\n",
      "Unable to allocate 74.5 GiB for an array with shape (100000, 100000) and data type float64\n",
      "n =    100000 | t_sklearn =   0.000000 | t_daskml =   9.119052\n",
      "Unable to allocate 7.28 TiB for an array with shape (1000000, 1000000) and data type float64\n"
     ]
    },
    {
     "name": "stderr",
     "output_type": "stream",
     "text": [
      "/usr/local/lib/python3.8/site-packages/distributed/worker.py:3578: UserWarning: Large object of size 7.63 MiB detected in task graph: \n",
      "  (\"('array-bce8ce374d49e339ece26eb2bc85e052', 0, 0) ... , None, None)))\n",
      "Consider scattering large objects ahead of time\n",
      "with client.scatter to reduce scheduler burden and \n",
      "keep data on workers\n",
      "\n",
      "    future = client.submit(func, big_data)    # bad\n",
      "\n",
      "    big_future = client.scatter(big_data)     # good\n",
      "    future = client.submit(func, big_future)  # good\n",
      "  warnings.warn(\n"
     ]
    },
    {
     "name": "stdout",
     "output_type": "stream",
     "text": [
      "n =   1000000 | t_sklearn =   0.000000 | t_daskml =  22.445468\n"
     ]
    }
   ],
   "source": [
    "sk_time = []\n",
    "dml_time = []\n",
    "\n",
    "for n in n_samples:\n",
    "    X, _ = sklearn.datasets.make_circles(n_samples=n, random_state=rs, noise=.3, factor=.5)\n",
    "    model = sklearn.cluster.SpectralClustering(n_clusters=2)\n",
    "    t0 = time()\n",
    "    try:\n",
    "        model.fit(X)\n",
    "        t1 = time()\n",
    "    except Exception as e:\n",
    "        print(e)\n",
    "        t1 = t0\n",
    "        \n",
    "    \n",
    "    X = dask.array.from_array(X)\n",
    "    model = dask_ml.cluster.SpectralClustering(n_clusters=2, n_components=10)\n",
    "    t2 = time()\n",
    "    model.fit(X)\n",
    "    t3 = time()\n",
    "    \n",
    "    print(f\"n = {n:9d} | t_sklearn = {t1-t0:10.6f} | t_daskml = {t3-t2:10.6f}\")\n",
    "    sk_time.append(t1-t0)\n",
    "    dml_time.append(t3-t2)\n",
    "    "
   ]
  },
  {
   "cell_type": "code",
   "execution_count": 21,
   "id": "fa279005",
   "metadata": {},
   "outputs": [],
   "source": [
    "sk_time = [x if x>0 else None for x in sk_time]"
   ]
  },
  {
   "cell_type": "code",
   "execution_count": 22,
   "id": "d667285a",
   "metadata": {},
   "outputs": [
    {
     "data": {
      "image/png": "[encoded data removed]",
      "text/plain": [
       "<Figure size 576x288 with 1 Axes>"
      ]
     },
     "metadata": {
      "needs_background": "light"
     },
     "output_type": "display_data"
    }
   ],
   "source": [
    "fig, ax = plt.subplots(figsize=(8,4))\n",
    "ax.plot(n_samples, sk_time, \"o--\", label=\"sklearn\")\n",
    "ax.plot(n_samples, dml_time, \"o--\", label=\"dask_ml\")\n",
    "ax.set_xscale(\"log\")\n",
    "ax.set_xlabel(\"N\")\n",
    "ax.set_ylabel(\"time [s]\")\n",
    "ax.legend()\n",
    "fig.savefig(\"spectral_clustering.png\")"
   ]
  },
  {
   "cell_type": "markdown",
   "id": "ea0aa5f4",
   "metadata": {},
   "source": [
    "Below I report the results obtained using my home PC with 16 cores Rayzen 7 and 32 Gb of RAM.\n",
    "\n",
    "You can see how the exact `sklearn` solution scales very bad with the number of samples; in addition, at a certain point the computation of the affinity matrix become infeasible.\n",
    "\n",
    "On the other hand, the approximate Dask solution scales weel with the increasing amount of samples."
   ]
  },
  {
   "cell_type": "markdown",
   "id": "d32c03ae",
   "metadata": {},
   "source": [
    "![](spectral_clustering.png)"
   ]
  },
  {
   "cell_type": "markdown",
   "id": "b64f5f1a",
   "metadata": {},
   "source": [
    "## Parallel and Distributed learning with joblib\n",
    "\n",
    "Many `sklearn` algorithms can be parallelized using [Joblib](https://joblib.readthedocs.io/en/latest/), which provides thread-based and process-based parallelism (specified by the `n_jobs` parameter). \n",
    "\n",
    "Dask can scale those to a cluster by providing an alternative backend. \n",
    "\n",
    "This method is intended to be used for CPU-bound workloads to speed up the computation, not to deal with big data.\n",
    "\n",
    "As an example, let's see a RandomForest Classifier, which can natively be run in parallel since it is an ensables of estimators. "
   ]
  },
  {
   "cell_type": "code",
   "execution_count": 23,
   "id": "14463329",
   "metadata": {},
   "outputs": [],
   "source": [
    "n_samples = int(1e05)\n",
    "n_features = 100\n",
    "n_informative = 50\n",
    "n_redundant = 25\n",
    "n_classes = 5"
   ]
  },
  {
   "cell_type": "code",
   "execution_count": 24,
   "id": "14a5f77a",
   "metadata": {},
   "outputs": [],
   "source": [
    "X, y = sklearn.datasets.make_classification(\n",
    "    n_samples=n_samples, \n",
    "    n_features=n_features, \n",
    "    n_informative=n_informative, \n",
    "    n_redundant=n_redundant, \n",
    "    n_classes=n_classes, \n",
    "    random_state=rs\n",
    ")"
   ]
  },
  {
   "cell_type": "code",
   "execution_count": 25,
   "id": "057d1378",
   "metadata": {},
   "outputs": [],
   "source": [
    "X_train, X_test, y_train, y_test = train_test_split(X, y, test_size=.2, stratify=y, random_state=rs)"
   ]
  },
  {
   "cell_type": "code",
   "execution_count": 26,
   "id": "44c3aa8d",
   "metadata": {},
   "outputs": [],
   "source": [
    "n_estimators = 500\n",
    "max_depth = 10\n",
    "n_jobs = -1\n",
    "\n",
    "model = RandomForestClassifier(n_estimators=n_estimators, max_depth=max_depth, n_jobs=n_jobs, random_state=rs)"
   ]
  },
  {
   "cell_type": "code",
   "execution_count": 27,
   "id": "98644fa6",
   "metadata": {},
   "outputs": [
    {
     "name": "stdout",
     "output_type": "stream",
     "text": [
      "CPU times: user 4min 28s, sys: 185 ms, total: 4min 28s\n",
      "Wall time: 18.1 s\n"
     ]
    },
    {
     "data": {
      "text/plain": [
       "RandomForestClassifier(max_depth=10, n_estimators=500, n_jobs=-1,\n",
       "                       random_state=0)"
      ]
     },
     "execution_count": 27,
     "metadata": {},
     "output_type": "execute_result"
    }
   ],
   "source": [
    "%%time\n",
    "\n",
    "model.fit(X_train, y_train)"
   ]
  },
  {
   "cell_type": "code",
   "execution_count": 28,
   "id": "b43812af",
   "metadata": {},
   "outputs": [
    {
     "name": "stdout",
     "output_type": "stream",
     "text": [
      "Acc = 0.79685\n"
     ]
    }
   ],
   "source": [
    "y_pred = model.predict(X_test)\n",
    "print(f\"Acc = {accuracy_score(y_pred, y_test)}\")"
   ]
  },
  {
   "cell_type": "code",
   "execution_count": 29,
   "id": "ef9b745a",
   "metadata": {},
   "outputs": [
    {
     "data": {
      "text/html": [
       "<table style=\"border: 2px solid white;\">\n",
       "<tr>\n",
       "<td style=\"vertical-align: top; border: 0px solid white\">\n",
       "<h3 style=\"text-align: left;\">Client</h3>\n",
       "<ul style=\"text-align: left; list-style: none; margin: 0; padding: 0;\">\n",
       "  <li><b>Scheduler: </b>tcp://dask-scheduler:8786</li>\n",
       "  <li><b>Dashboard: </b><a href='http://dask-scheduler:8787/status' target='_blank'>http://dask-scheduler:8787/status</a></li>\n",
       "</ul>\n",
       "</td>\n",
       "<td style=\"vertical-align: top; border: 0px solid white\">\n",
       "<h3 style=\"text-align: left;\">Cluster</h3>\n",
       "<ul style=\"text-align: left; list-style:none; margin: 0; padding: 0;\">\n",
       "  <li><b>Workers: </b>6</li>\n",
       "  <li><b>Cores: </b>6</li>\n",
       "  <li><b>Memory: </b>5.59 GiB</li>\n",
       "</ul>\n",
       "</td>\n",
       "</tr>\n",
       "</table>"
      ],
      "text/plain": [
       "<Client: 'tcp://172.21.0.2:8786' processes=0 threads=0, memory=0 B>"
      ]
     },
     "execution_count": 29,
     "metadata": {},
     "output_type": "execute_result"
    }
   ],
   "source": [
    "client.restart()"
   ]
  },
  {
   "cell_type": "code",
   "execution_count": 30,
   "id": "56abdece",
   "metadata": {},
   "outputs": [],
   "source": [
    "# need to import this from joblib to use alternative backends\n",
    "\n",
    "from joblib import parallel_backend"
   ]
  },
  {
   "cell_type": "code",
   "execution_count": 31,
   "id": "8f50a3e1",
   "metadata": {},
   "outputs": [],
   "source": [
    "model = RandomForestClassifier(n_estimators=n_estimators, max_depth=max_depth, n_jobs=n_jobs, random_state=rs)"
   ]
  },
  {
   "cell_type": "code",
   "execution_count": 32,
   "id": "8f64c4f2",
   "metadata": {},
   "outputs": [
    {
     "name": "stdout",
     "output_type": "stream",
     "text": [
      "CPU times: user 1.2 s, sys: 129 ms, total: 1.33 s\n",
      "Wall time: 38.1 s\n"
     ]
    }
   ],
   "source": [
    "%%time\n",
    "\n",
    "# you just need to call the fit under this `with` clause\n",
    "with parallel_backend(\"dask\"):\n",
    "    model.fit(X_train, y_train)"
   ]
  },
  {
   "cell_type": "code",
   "execution_count": 33,
   "id": "e2f157e7",
   "metadata": {},
   "outputs": [
    {
     "name": "stdout",
     "output_type": "stream",
     "text": [
      "Acc = 0.79685\n"
     ]
    }
   ],
   "source": [
    "y_pred = model.predict(X_test)\n",
    "print(f\"Acc = {accuracy_score(y_pred, y_test)}\")"
   ]
  },
  {
   "cell_type": "code",
   "execution_count": 34,
   "id": "8c09fd13",
   "metadata": {},
   "outputs": [
    {
     "data": {
      "text/html": [
       "<table style=\"border: 2px solid white;\">\n",
       "<tr>\n",
       "<td style=\"vertical-align: top; border: 0px solid white\">\n",
       "<h3 style=\"text-align: left;\">Client</h3>\n",
       "<ul style=\"text-align: left; list-style: none; margin: 0; padding: 0;\">\n",
       "  <li><b>Scheduler: </b>tcp://dask-scheduler:8786</li>\n",
       "  <li><b>Dashboard: </b><a href='http://dask-scheduler:8787/status' target='_blank'>http://dask-scheduler:8787/status</a></li>\n",
       "</ul>\n",
       "</td>\n",
       "<td style=\"vertical-align: top; border: 0px solid white\">\n",
       "<h3 style=\"text-align: left;\">Cluster</h3>\n",
       "<ul style=\"text-align: left; list-style:none; margin: 0; padding: 0;\">\n",
       "  <li><b>Workers: </b>6</li>\n",
       "  <li><b>Cores: </b>6</li>\n",
       "  <li><b>Memory: </b>5.59 GiB</li>\n",
       "</ul>\n",
       "</td>\n",
       "</tr>\n",
       "</table>"
      ],
      "text/plain": [
       "<Client: 'tcp://172.21.0.2:8786' processes=0 threads=0, memory=0 B>"
      ]
     },
     "execution_count": 34,
     "metadata": {},
     "output_type": "execute_result"
    }
   ],
   "source": [
    "client.restart()"
   ]
  },
  {
   "cell_type": "markdown",
   "id": "4c9cd262",
   "metadata": {},
   "source": [
    "## Parallel Predictions\n",
    "\n",
    "In areal scenario, there is the possibility to already have a trained estimator which needs to make predictions on large daatsets. Dask provides the `ParallelPostFit` wrapper, which parallelize `predict`, `predict_proba` and `transform` methods of the `sklearn` API.\n",
    "\n",
    "`sklearn` already implemets preditions and transformations in parallel; this meta-estimator is usefull when ther dataset is larger than memory to avoid reading all the data at once.\n",
    "\n",
    "*NB: This meta-estimator is just to perform inference, it does not parallelize the training!* \n",
    "\n",
    "Let's see an example using the MLPRegressor; we train it on a small set of data and then we scale out the inference on a larger dataset."
   ]
  },
  {
   "cell_type": "code",
   "execution_count": 35,
   "id": "2d83da37",
   "metadata": {},
   "outputs": [],
   "source": [
    "# create a dummy dataset\n",
    "\n",
    "X, y = dask_ml.datasets.make_regression(\n",
    "    n_samples=5000+int(1e07),\n",
    "    n_features=n_features, \n",
    "    n_informative=n_informative, \n",
    "    n_targets=1, \n",
    "    noise=.1, \n",
    "    random_state=rs, \n",
    "    chunks=int(1e05)\n",
    ")"
   ]
  },
  {
   "cell_type": "code",
   "execution_count": 36,
   "id": "4fbe7528",
   "metadata": {},
   "outputs": [
    {
     "data": {
      "text/plain": [
       "array([[ 0.73935755, -0.34522074,  0.35259899, ...,  1.10836687,\n",
       "         0.29022605, -0.1542753 ],\n",
       "       [-0.10357219,  0.78293006,  0.2974181 , ...,  1.15427735,\n",
       "         0.63398644, -0.15428824],\n",
       "       [ 1.04589624, -0.42903658, -0.11247756, ...,  0.35864973,\n",
       "         0.73424658,  1.21486279],\n",
       "       ...,\n",
       "       [ 0.87533666, -1.20019387,  1.51464448, ...,  0.46374116,\n",
       "        -0.48150711,  1.08900333],\n",
       "       [-0.36257152, -0.38951228, -1.12518878, ...,  0.46148605,\n",
       "         1.758412  , -0.63195507],\n",
       "       [-0.16631982,  0.1244825 ,  0.9674089 , ..., -1.18482678,\n",
       "         1.98320582, -0.80995514]])"
      ]
     },
     "execution_count": 36,
     "metadata": {},
     "output_type": "execute_result"
    }
   ],
   "source": [
    "# let's take just the first 5000 elements as our training set\n",
    "# we will use these to train our estimator\n",
    "\n",
    "X_train = X[:5000].compute()\n",
    "y_train = y[:5000].compute()\n",
    "\n",
    "X_train"
   ]
  },
  {
   "cell_type": "code",
   "execution_count": 37,
   "id": "a6fbf16c",
   "metadata": {},
   "outputs": [
    {
     "data": {
      "text/html": [
       "<table>\n",
       "<tr>\n",
       "<td>\n",
       "<table>\n",
       "  <thead>\n",
       "    <tr><td> </td><th> Array </th><th> Chunk </th></tr>\n",
       "  </thead>\n",
       "  <tbody>\n",
       "    <tr><th> Bytes </th><td> 7.45 GiB </td> <td> 76.29 MiB </td></tr>\n",
       "    <tr><th> Shape </th><td> (10000000, 100) </td> <td> (100000, 100) </td></tr>\n",
       "    <tr><th> Count </th><td> 202 Tasks </td><td> 101 Chunks </td></tr>\n",
       "    <tr><th> Type </th><td> float64 </td><td> numpy.ndarray </td></tr>\n",
       "  </tbody>\n",
       "</table>\n",
       "</td>\n",
       "<td>\n",
       "<svg width=\"75\" height=\"170\" style=\"stroke:rgb(0,0,0);stroke-width:1\" >\n",
       "\n",
       "  <!-- Horizontal lines -->\n",
       "  <line x1=\"0\" y1=\"0\" x2=\"25\" y2=\"0\" style=\"stroke-width:2\" />\n",
       "  <line x1=\"0\" y1=\"5\" x2=\"25\" y2=\"5\" />\n",
       "  <line x1=\"0\" y1=\"11\" x2=\"25\" y2=\"11\" />\n",
       "  <line x1=\"0\" y1=\"17\" x2=\"25\" y2=\"17\" />\n",
       "  <line x1=\"0\" y1=\"25\" x2=\"25\" y2=\"25\" />\n",
       "  <line x1=\"0\" y1=\"31\" x2=\"25\" y2=\"31\" />\n",
       "  <line x1=\"0\" y1=\"37\" x2=\"25\" y2=\"37\" />\n",
       "  <line x1=\"0\" y1=\"44\" x2=\"25\" y2=\"44\" />\n",
       "  <line x1=\"0\" y1=\"50\" x2=\"25\" y2=\"50\" />\n",
       "  <line x1=\"0\" y1=\"56\" x2=\"25\" y2=\"56\" />\n",
       "  <line x1=\"0\" y1=\"63\" x2=\"25\" y2=\"63\" />\n",
       "  <line x1=\"0\" y1=\"69\" x2=\"25\" y2=\"69\" />\n",
       "  <line x1=\"0\" y1=\"75\" x2=\"25\" y2=\"75\" />\n",
       "  <line x1=\"0\" y1=\"82\" x2=\"25\" y2=\"82\" />\n",
       "  <line x1=\"0\" y1=\"88\" x2=\"25\" y2=\"88\" />\n",
       "  <line x1=\"0\" y1=\"94\" x2=\"25\" y2=\"94\" />\n",
       "  <line x1=\"0\" y1=\"101\" x2=\"25\" y2=\"101\" />\n",
       "  <line x1=\"0\" y1=\"107\" x2=\"25\" y2=\"107\" />\n",
       "  <line x1=\"0\" y1=\"113\" x2=\"25\" y2=\"113\" />\n",
       "  <line x1=\"0\" y1=\"120\" x2=\"25\" y2=\"120\" style=\"stroke-width:2\" />\n",
       "\n",
       "  <!-- Vertical lines -->\n",
       "  <line x1=\"0\" y1=\"0\" x2=\"0\" y2=\"120\" style=\"stroke-width:2\" />\n",
       "  <line x1=\"25\" y1=\"0\" x2=\"25\" y2=\"120\" style=\"stroke-width:2\" />\n",
       "\n",
       "  <!-- Colored Rectangle -->\n",
       "  <polygon points=\"0.0,0.0 25.41261651458249,0.0 25.41261651458249,120.0 0.0,120.0\" style=\"fill:#8B4903A0;stroke-width:0\"/>\n",
       "\n",
       "  <!-- Text -->\n",
       "  <text x=\"12.706308\" y=\"140.000000\" font-size=\"1.0rem\" font-weight=\"100\" text-anchor=\"middle\" >100</text>\n",
       "  <text x=\"45.412617\" y=\"60.000000\" font-size=\"1.0rem\" font-weight=\"100\" text-anchor=\"middle\" transform=\"rotate(-90,45.412617,60.000000)\">10000000</text>\n",
       "</svg>\n",
       "</td>\n",
       "</tr>\n",
       "</table>"
      ],
      "text/plain": [
       "dask.array<getitem, shape=(10000000, 100), dtype=float64, chunksize=(100000, 100), chunktype=numpy.ndarray>"
      ]
     },
     "execution_count": 37,
     "metadata": {},
     "output_type": "execute_result"
    }
   ],
   "source": [
    "# the other generated data instead simulate the larger dataset on which we are going to make predictions\n",
    "\n",
    "X = X[5000:]\n",
    "y = y[5000:]\n",
    "\n",
    "X"
   ]
  },
  {
   "cell_type": "code",
   "execution_count": 38,
   "id": "4a56ea1b",
   "metadata": {},
   "outputs": [
    {
     "name": "stdout",
     "output_type": "stream",
     "text": [
      "Iteration 1, loss = 98948.80178931\n",
      "Validation score: 0.002730\n",
      "Iteration 2, loss = 97765.75734905\n",
      "Validation score: 0.022542\n",
      "Iteration 3, loss = 94383.50470512\n",
      "Validation score: 0.072046\n",
      "Iteration 4, loss = 87112.74156366\n",
      "Validation score: 0.168614\n",
      "Iteration 5, loss = 74474.12754072\n",
      "Validation score: 0.321428\n",
      "Iteration 6, loss = 56376.40590764\n",
      "Validation score: 0.521137\n",
      "Iteration 7, loss = 35580.26784739\n",
      "Validation score: 0.725354\n",
      "Iteration 8, loss = 17434.85124129\n",
      "Validation score: 0.876198\n",
      "Iteration 9, loss = 6645.80309413\n",
      "Validation score: 0.953268\n",
      "Iteration 10, loss = 2428.79496469\n",
      "Validation score: 0.979561\n",
      "Iteration 11, loss = 1169.58371193\n",
      "Validation score: 0.988619\n",
      "Iteration 12, loss = 682.26160424\n",
      "Validation score: 0.993054\n",
      "Iteration 13, loss = 420.70917645\n",
      "Validation score: 0.995272\n",
      "Iteration 14, loss = 294.28825505\n",
      "Validation score: 0.996527\n",
      "Iteration 15, loss = 230.93755069\n",
      "Validation score: 0.997211\n",
      "Iteration 16, loss = 198.80396355\n",
      "Validation score: 0.997553\n",
      "Iteration 17, loss = 183.06868709\n",
      "Validation score: 0.997820\n",
      "Iteration 18, loss = 173.99234163\n",
      "Validation score: 0.997942\n",
      "Iteration 19, loss = 165.52123403\n",
      "Validation score: 0.997922\n",
      "Iteration 20, loss = 160.62379131\n",
      "Validation score: 0.998071\n",
      "Iteration 21, loss = 155.45214979\n",
      "Validation score: 0.998119\n",
      "Iteration 22, loss = 150.35811905\n",
      "Validation score: 0.998139\n",
      "Iteration 23, loss = 145.57007145\n",
      "Validation score: 0.998197\n",
      "Iteration 24, loss = 140.63238224\n",
      "Validation score: 0.998230\n",
      "Iteration 25, loss = 136.79087064\n",
      "Validation score: 0.998244\n",
      "Iteration 26, loss = 132.61371038\n",
      "Validation score: 0.998275\n",
      "Iteration 27, loss = 128.83229871\n",
      "Validation score: 0.998318\n",
      "Iteration 28, loss = 124.82382931\n",
      "Validation score: 0.998352\n",
      "Iteration 29, loss = 120.73418930\n",
      "Validation score: 0.998356\n",
      "Iteration 30, loss = 117.41510109\n",
      "Validation score: 0.998414\n",
      "Iteration 31, loss = 113.96209154\n",
      "Validation score: 0.998446\n",
      "Validation score did not improve more than tol=0.000100 for 10 consecutive epochs. Stopping.\n"
     ]
    },
    {
     "data": {
      "text/plain": [
       "MLPRegressor(early_stopping=True, hidden_layer_sizes=(150, 50),\n",
       "             learning_rate='adaptive', random_state=0, verbose=1)"
      ]
     },
     "execution_count": 38,
     "metadata": {},
     "output_type": "execute_result"
    }
   ],
   "source": [
    "# just train our model using sklearn \n",
    "\n",
    "model = MLPRegressor(\n",
    "    hidden_layer_sizes=(150, 50),\n",
    "    activation=\"relu\",\n",
    "    solver=\"adam\",\n",
    "    learning_rate=\"adaptive\",\n",
    "    max_iter=200,\n",
    "    random_state=rs,\n",
    "    early_stopping=True,\n",
    "    validation_fraction=.1,\n",
    "    verbose=1\n",
    ")\n",
    "\n",
    "model.fit(X_train, y_train)"
   ]
  },
  {
   "cell_type": "code",
   "execution_count": 39,
   "id": "fb363fdc",
   "metadata": {},
   "outputs": [],
   "source": [
    "# import the wrapper from dask\n",
    "from dask_ml.wrappers import ParallelPostFit"
   ]
  },
  {
   "cell_type": "code",
   "execution_count": 40,
   "id": "d2cab8ce",
   "metadata": {},
   "outputs": [
    {
     "data": {
      "text/plain": [
       "ParallelPostFit(estimator=MLPRegressor(early_stopping=True,\n",
       "                                       hidden_layer_sizes=(150, 50),\n",
       "                                       learning_rate='adaptive', random_state=0,\n",
       "                                       verbose=1),\n",
       "                scoring='neg_mean_squared_error')"
      ]
     },
     "execution_count": 40,
     "metadata": {},
     "output_type": "execute_result"
    }
   ],
   "source": [
    "# scale out the predictions\n",
    "\n",
    "model = ParallelPostFit(model, scoring=\"neg_mean_squared_error\")\n",
    "model"
   ]
  },
  {
   "cell_type": "code",
   "execution_count": 41,
   "id": "a53682df",
   "metadata": {},
   "outputs": [
    {
     "data": {
      "text/html": [
       "<table>\n",
       "<tr>\n",
       "<td>\n",
       "<table>\n",
       "  <thead>\n",
       "    <tr><td> </td><th> Array </th><th> Chunk </th></tr>\n",
       "  </thead>\n",
       "  <tbody>\n",
       "    <tr><th> Bytes </th><td> 76.29 MiB </td> <td> 781.25 kiB </td></tr>\n",
       "    <tr><th> Shape </th><td> (10000000,) </td> <td> (100000,) </td></tr>\n",
       "    <tr><th> Count </th><td> 303 Tasks </td><td> 101 Chunks </td></tr>\n",
       "    <tr><th> Type </th><td> int64 </td><td> numpy.ndarray </td></tr>\n",
       "  </tbody>\n",
       "</table>\n",
       "</td>\n",
       "<td>\n",
       "<svg width=\"170\" height=\"75\" style=\"stroke:rgb(0,0,0);stroke-width:1\" >\n",
       "\n",
       "  <!-- Horizontal lines -->\n",
       "  <line x1=\"0\" y1=\"0\" x2=\"120\" y2=\"0\" style=\"stroke-width:2\" />\n",
       "  <line x1=\"0\" y1=\"25\" x2=\"120\" y2=\"25\" style=\"stroke-width:2\" />\n",
       "\n",
       "  <!-- Vertical lines -->\n",
       "  <line x1=\"0\" y1=\"0\" x2=\"0\" y2=\"25\" style=\"stroke-width:2\" />\n",
       "  <line x1=\"5\" y1=\"0\" x2=\"5\" y2=\"25\" />\n",
       "  <line x1=\"11\" y1=\"0\" x2=\"11\" y2=\"25\" />\n",
       "  <line x1=\"17\" y1=\"0\" x2=\"17\" y2=\"25\" />\n",
       "  <line x1=\"25\" y1=\"0\" x2=\"25\" y2=\"25\" />\n",
       "  <line x1=\"31\" y1=\"0\" x2=\"31\" y2=\"25\" />\n",
       "  <line x1=\"37\" y1=\"0\" x2=\"37\" y2=\"25\" />\n",
       "  <line x1=\"44\" y1=\"0\" x2=\"44\" y2=\"25\" />\n",
       "  <line x1=\"50\" y1=\"0\" x2=\"50\" y2=\"25\" />\n",
       "  <line x1=\"56\" y1=\"0\" x2=\"56\" y2=\"25\" />\n",
       "  <line x1=\"63\" y1=\"0\" x2=\"63\" y2=\"25\" />\n",
       "  <line x1=\"69\" y1=\"0\" x2=\"69\" y2=\"25\" />\n",
       "  <line x1=\"75\" y1=\"0\" x2=\"75\" y2=\"25\" />\n",
       "  <line x1=\"82\" y1=\"0\" x2=\"82\" y2=\"25\" />\n",
       "  <line x1=\"88\" y1=\"0\" x2=\"88\" y2=\"25\" />\n",
       "  <line x1=\"94\" y1=\"0\" x2=\"94\" y2=\"25\" />\n",
       "  <line x1=\"101\" y1=\"0\" x2=\"101\" y2=\"25\" />\n",
       "  <line x1=\"107\" y1=\"0\" x2=\"107\" y2=\"25\" />\n",
       "  <line x1=\"113\" y1=\"0\" x2=\"113\" y2=\"25\" />\n",
       "  <line x1=\"120\" y1=\"0\" x2=\"120\" y2=\"25\" style=\"stroke-width:2\" />\n",
       "\n",
       "  <!-- Colored Rectangle -->\n",
       "  <polygon points=\"0.0,0.0 120.0,0.0 120.0,25.412616514582485 0.0,25.412616514582485\" style=\"fill:#8B4903A0;stroke-width:0\"/>\n",
       "\n",
       "  <!-- Text -->\n",
       "  <text x=\"60.000000\" y=\"45.412617\" font-size=\"1.0rem\" font-weight=\"100\" text-anchor=\"middle\" >10000000</text>\n",
       "  <text x=\"140.000000\" y=\"12.706308\" font-size=\"1.0rem\" font-weight=\"100\" text-anchor=\"middle\" transform=\"rotate(0,140.000000,12.706308)\">1</text>\n",
       "</svg>\n",
       "</td>\n",
       "</tr>\n",
       "</table>"
      ],
      "text/plain": [
       "dask.array<_predict, shape=(10000000,), dtype=int64, chunksize=(100000,), chunktype=numpy.ndarray>"
      ]
     },
     "execution_count": 41,
     "metadata": {},
     "output_type": "execute_result"
    }
   ],
   "source": [
    "# we have performed the prediction on ~ 7Gb and the result is just ~ 76 Mb\n",
    "# we can now collect the result as a numpy array and proceed with the computation\n",
    "\n",
    "y_pred = model.predict(X)\n",
    "y_pred\n",
    "# call .compute() to actually compute the task"
   ]
  },
  {
   "cell_type": "code",
   "execution_count": 42,
   "id": "2351e56c",
   "metadata": {},
   "outputs": [
    {
     "name": "stdout",
     "output_type": "stream",
     "text": [
      "MSE = 317.39214400881167\n"
     ]
    }
   ],
   "source": [
    "print(f\"MSE = {-model.score(X,y)}\")"
   ]
  },
  {
   "cell_type": "code",
   "execution_count": 43,
   "id": "862510b3",
   "metadata": {},
   "outputs": [
    {
     "data": {
      "text/html": [
       "<table style=\"border: 2px solid white;\">\n",
       "<tr>\n",
       "<td style=\"vertical-align: top; border: 0px solid white\">\n",
       "<h3 style=\"text-align: left;\">Client</h3>\n",
       "<ul style=\"text-align: left; list-style: none; margin: 0; padding: 0;\">\n",
       "  <li><b>Scheduler: </b>tcp://dask-scheduler:8786</li>\n",
       "  <li><b>Dashboard: </b><a href='http://dask-scheduler:8787/status' target='_blank'>http://dask-scheduler:8787/status</a></li>\n",
       "</ul>\n",
       "</td>\n",
       "<td style=\"vertical-align: top; border: 0px solid white\">\n",
       "<h3 style=\"text-align: left;\">Cluster</h3>\n",
       "<ul style=\"text-align: left; list-style:none; margin: 0; padding: 0;\">\n",
       "  <li><b>Workers: </b>6</li>\n",
       "  <li><b>Cores: </b>6</li>\n",
       "  <li><b>Memory: </b>5.59 GiB</li>\n",
       "</ul>\n",
       "</td>\n",
       "</tr>\n",
       "</table>"
      ],
      "text/plain": [
       "<Client: 'tcp://172.21.0.2:8786' processes=6 threads=6, memory=5.59 GiB>"
      ]
     },
     "execution_count": 43,
     "metadata": {},
     "output_type": "execute_result"
    }
   ],
   "source": [
    "client.restart()"
   ]
  },
  {
   "cell_type": "markdown",
   "id": "aef5263b",
   "metadata": {},
   "source": [
    "## Incremental Learning\n",
    "\n",
    "Some estimators can be trained incrementally, without seeing the whole dataset at once (as for batch training for instance). Estimators which support this functionality are the ones that implement the `partial_fit` API. The list of methods which implemets `partial_fit` can be read [here](https://scikit-learn.org/stable/computing/scaling_strategies.html#incremental-learning).\n",
    "\n",
    "Dask provides the `Incremental` wrapper: with this, Dask pass each block of a Dask Array to the estimator `partial_fit`.\n",
    "\n",
    "*NB: `Incremental` does not work well hyper-parameters optimizations routines like `sklearn.model_selection.GridSearchCV`; use appropriate Dask methods for this.*"
   ]
  },
  {
   "cell_type": "code",
   "execution_count": 44,
   "id": "c5230186",
   "metadata": {},
   "outputs": [],
   "source": [
    "rs =0"
   ]
  },
  {
   "cell_type": "code",
   "execution_count": 45,
   "id": "d5b07385",
   "metadata": {},
   "outputs": [],
   "source": [
    "n_samples = 5*int(1e06)\n",
    "n_features = 100\n",
    "n_informative = 50\n",
    "n_redundant = 25"
   ]
  },
  {
   "cell_type": "code",
   "execution_count": 46,
   "id": "cafd8198",
   "metadata": {},
   "outputs": [
    {
     "name": "stderr",
     "output_type": "stream",
     "text": [
      "/usr/local/lib/python3.8/site-packages/dask_ml/datasets.py:377: PerformanceWarning: Slicing is producing a large chunk. To accept the large\n",
      "chunk and silence this warning, set the option\n",
      "    >>> with dask.config.set(**{'array.slicing.split_large_chunks': False}):\n",
      "    ...     array[indexer]\n",
      "\n",
      "To avoid creating the large chunks, set the option\n",
      "    >>> with dask.config.set(**{'array.slicing.split_large_chunks': True}):\n",
      "    ...     array[indexer]\n",
      "  z0 = X[:, informative_idx].dot(beta[informative_idx])\n"
     ]
    },
    {
     "data": {
      "text/html": [
       "<table>\n",
       "<tr>\n",
       "<td>\n",
       "<table>\n",
       "  <thead>\n",
       "    <tr><td> </td><th> Array </th><th> Chunk </th></tr>\n",
       "  </thead>\n",
       "  <tbody>\n",
       "    <tr><th> Bytes </th><td> 3.35 GiB </td> <td> 34.33 MiB </td></tr>\n",
       "    <tr><th> Shape </th><td> (4500000, 100) </td> <td> (45000, 100) </td></tr>\n",
       "    <tr><th> Count </th><td> 700 Tasks </td><td> 100 Chunks </td></tr>\n",
       "    <tr><th> Type </th><td> float64 </td><td> numpy.ndarray </td></tr>\n",
       "  </tbody>\n",
       "</table>\n",
       "</td>\n",
       "<td>\n",
       "<svg width=\"75\" height=\"170\" style=\"stroke:rgb(0,0,0);stroke-width:1\" >\n",
       "\n",
       "  <!-- Horizontal lines -->\n",
       "  <line x1=\"0\" y1=\"0\" x2=\"25\" y2=\"0\" style=\"stroke-width:2\" />\n",
       "  <line x1=\"0\" y1=\"6\" x2=\"25\" y2=\"6\" />\n",
       "  <line x1=\"0\" y1=\"12\" x2=\"25\" y2=\"12\" />\n",
       "  <line x1=\"0\" y1=\"18\" x2=\"25\" y2=\"18\" />\n",
       "  <line x1=\"0\" y1=\"25\" x2=\"25\" y2=\"25\" />\n",
       "  <line x1=\"0\" y1=\"31\" x2=\"25\" y2=\"31\" />\n",
       "  <line x1=\"0\" y1=\"37\" x2=\"25\" y2=\"37\" />\n",
       "  <line x1=\"0\" y1=\"43\" x2=\"25\" y2=\"43\" />\n",
       "  <line x1=\"0\" y1=\"50\" x2=\"25\" y2=\"50\" />\n",
       "  <line x1=\"0\" y1=\"56\" x2=\"25\" y2=\"56\" />\n",
       "  <line x1=\"0\" y1=\"62\" x2=\"25\" y2=\"62\" />\n",
       "  <line x1=\"0\" y1=\"68\" x2=\"25\" y2=\"68\" />\n",
       "  <line x1=\"0\" y1=\"75\" x2=\"25\" y2=\"75\" />\n",
       "  <line x1=\"0\" y1=\"81\" x2=\"25\" y2=\"81\" />\n",
       "  <line x1=\"0\" y1=\"87\" x2=\"25\" y2=\"87\" />\n",
       "  <line x1=\"0\" y1=\"93\" x2=\"25\" y2=\"93\" />\n",
       "  <line x1=\"0\" y1=\"100\" x2=\"25\" y2=\"100\" />\n",
       "  <line x1=\"0\" y1=\"106\" x2=\"25\" y2=\"106\" />\n",
       "  <line x1=\"0\" y1=\"112\" x2=\"25\" y2=\"112\" />\n",
       "  <line x1=\"0\" y1=\"120\" x2=\"25\" y2=\"120\" style=\"stroke-width:2\" />\n",
       "\n",
       "  <!-- Vertical lines -->\n",
       "  <line x1=\"0\" y1=\"0\" x2=\"0\" y2=\"120\" style=\"stroke-width:2\" />\n",
       "  <line x1=\"25\" y1=\"0\" x2=\"25\" y2=\"120\" style=\"stroke-width:2\" />\n",
       "\n",
       "  <!-- Colored Rectangle -->\n",
       "  <polygon points=\"0.0,0.0 25.41261651458249,0.0 25.41261651458249,120.0 0.0,120.0\" style=\"fill:#8B4903A0;stroke-width:0\"/>\n",
       "\n",
       "  <!-- Text -->\n",
       "  <text x=\"12.706308\" y=\"140.000000\" font-size=\"1.0rem\" font-weight=\"100\" text-anchor=\"middle\" >100</text>\n",
       "  <text x=\"45.412617\" y=\"60.000000\" font-size=\"1.0rem\" font-weight=\"100\" text-anchor=\"middle\" transform=\"rotate(-90,45.412617,60.000000)\">4500000</text>\n",
       "</svg>\n",
       "</td>\n",
       "</tr>\n",
       "</table>"
      ],
      "text/plain": [
       "dask.array<concatenate, shape=(4500000, 100), dtype=float64, chunksize=(45000, 100), chunktype=numpy.ndarray>"
      ]
     },
     "execution_count": 46,
     "metadata": {},
     "output_type": "execute_result"
    }
   ],
   "source": [
    "import dask_ml.model_selection\n",
    "\n",
    "X, y = dask_ml.datasets.make_classification(\n",
    "    n_samples=n_samples,\n",
    "    n_features=n_features, \n",
    "    n_informative=n_informative, \n",
    "    n_redundant=n_redundant, \n",
    "    n_classes=2, \n",
    "    random_state=rs, \n",
    "    chunks=5*int(1e04)\n",
    ")\n",
    "X_train, X_test, y_train, y_test = dask_ml.model_selection.train_test_split(X, y, test_size=.1, random_state=rs)\n",
    "X_train"
   ]
  },
  {
   "cell_type": "code",
   "execution_count": 47,
   "id": "0a55eaad",
   "metadata": {},
   "outputs": [
    {
     "data": {
      "text/plain": [
       "Incremental(estimator=MLPClassifier(hidden_layer_sizes=(100, 50),\n",
       "                                    learning_rate='adaptive', max_iter=100,\n",
       "                                    random_state=0, verbose=1),\n",
       "            scoring='accuracy')"
      ]
     },
     "execution_count": 47,
     "metadata": {},
     "output_type": "execute_result"
    }
   ],
   "source": [
    "from dask_ml.wrappers import Incremental\n",
    "\n",
    "model = MLPClassifier(\n",
    "    hidden_layer_sizes=(100,50),\n",
    "    activation=\"relu\",\n",
    "    solver=\"adam\",\n",
    "    learning_rate=\"adaptive\",\n",
    "    max_iter=100,\n",
    "    random_state=rs,\n",
    "    early_stopping=False,\n",
    "    verbose=1\n",
    ")\n",
    "\n",
    "model = Incremental(model, scoring=\"accuracy\")\n",
    "model"
   ]
  },
  {
   "cell_type": "code",
   "execution_count": 48,
   "id": "13ac2a5d",
   "metadata": {
    "scrolled": false
   },
   "outputs": [
    {
     "name": "stdout",
     "output_type": "stream",
     "text": [
      "CPU times: user 165 ms, sys: 7.16 ms, total: 172 ms\n",
      "Wall time: 55.5 s\n"
     ]
    },
    {
     "data": {
      "text/plain": [
       "Incremental(estimator=MLPClassifier(hidden_layer_sizes=(100, 50),\n",
       "                                    learning_rate='adaptive', max_iter=100,\n",
       "                                    random_state=0, verbose=1),\n",
       "            scoring='accuracy')"
      ]
     },
     "execution_count": 48,
     "metadata": {},
     "output_type": "execute_result"
    }
   ],
   "source": [
    "%%time\n",
    "\n",
    "# when fitting an Incremental estimator, you must provide the possible labels\n",
    "# since not all batches may contain all the different classes\n",
    "\n",
    "model.fit(X_train, y_train, classes=[0,1])"
   ]
  },
  {
   "cell_type": "code",
   "execution_count": 49,
   "id": "1f2c704f",
   "metadata": {},
   "outputs": [
    {
     "data": {
      "text/plain": [
       "0.903134"
      ]
     },
     "execution_count": 49,
     "metadata": {},
     "output_type": "execute_result"
    }
   ],
   "source": [
    "model.score(X_test, y_test)"
   ]
  },
  {
   "cell_type": "code",
   "execution_count": 50,
   "id": "700656fc",
   "metadata": {},
   "outputs": [
    {
     "data": {
      "text/html": [
       "<table style=\"border: 2px solid white;\">\n",
       "<tr>\n",
       "<td style=\"vertical-align: top; border: 0px solid white\">\n",
       "<h3 style=\"text-align: left;\">Client</h3>\n",
       "<ul style=\"text-align: left; list-style: none; margin: 0; padding: 0;\">\n",
       "  <li><b>Scheduler: </b>tcp://dask-scheduler:8786</li>\n",
       "  <li><b>Dashboard: </b><a href='http://dask-scheduler:8787/status' target='_blank'>http://dask-scheduler:8787/status</a></li>\n",
       "</ul>\n",
       "</td>\n",
       "<td style=\"vertical-align: top; border: 0px solid white\">\n",
       "<h3 style=\"text-align: left;\">Cluster</h3>\n",
       "<ul style=\"text-align: left; list-style:none; margin: 0; padding: 0;\">\n",
       "  <li><b>Workers: </b>6</li>\n",
       "  <li><b>Cores: </b>6</li>\n",
       "  <li><b>Memory: </b>5.59 GiB</li>\n",
       "</ul>\n",
       "</td>\n",
       "</tr>\n",
       "</table>"
      ],
      "text/plain": [
       "<Client: 'tcp://172.21.0.2:8786' processes=0 threads=0, memory=0 B>"
      ]
     },
     "execution_count": 50,
     "metadata": {},
     "output_type": "execute_result"
    }
   ],
   "source": [
    "client.restart()"
   ]
  },
  {
   "cell_type": "markdown",
   "id": "153cc30a",
   "metadata": {},
   "source": [
    "## Exercise\n",
    "\n",
    "In the `dateset/cifar10` folder you can find the [cifar10](https://keras.io/api/datasets/cifar10/) dataset. It is composed by $32 \\times 32$ RGB images, where each pixel is an integer in the range `[0, 255]`, belonging to 10 different classes. Images have been flattened and then saved as a dataframe (one image per row) in parquet format. In addition, there are two more columns representing the class label and if the image is part of the training or test set.\n",
    "\n",
    "1. Read the parquet files using Dask and plot some example images with their labels.\n",
    "2. Split the data into training and test set using the appropriate column.\n",
    "3. Try a couple of classification algorithms on the flatten images without any preprocessing:\n",
    "    - distribute the training of the RandomForestClassifier (or XGBoost if you want to install it) using joblib with dask backend\n",
    "    - perform an Incremental learning with the MLPClassifier\n",
    "    - try an hyper-parameter search on the MLPClassifier usign the [HyperbandSearchCV](https://ml.dask.org/modules/generated/dask_ml.model_selection.HyperbandSearchCV.html#dask_ml.model_selection.HyperbandSearchCV). This algorithm essentially performs a RandomizedCV, but it stops estimators that perform poorly.\n",
    "    - use dask PCA and LogisticRegression\n",
    "4. Convert the images to GrayScale and rescale the pixels in the range `[0,1]`. Train an `SGDClassifier` with `sklearn` on the test set (which is smaller), and then use Dask wrapper to perform the prediction of the training one.\n",
    "5. **Extra**. Tensorflow/Keras and PyTorch do not follow the `sklearn` API directly; hence it is not immediate to use dask with them. However, you can use some wrappers (`scikeras` and `skorch` respectively) which provide such API to those libraries. Build a simple convolutional network (eg. one conv layers and a couple of dense one) with Keras, use `scikeras` wrapper and Dask Incremental learning."
   ]
  },
  {
   "cell_type": "code",
   "execution_count": null,
   "id": "d2bc0cba",
   "metadata": {},
   "outputs": [],
   "source": []
  }
 ],
 "metadata": {
  "kernelspec": {
   "display_name": "Python [conda env:ml]",
   "language": "python",
   "name": "conda-env-ml-py"
  },
  "language_info": {
   "codemirror_mode": {
    "name": "ipython",
    "version": 3
   },
   "file_extension": ".py",
   "mimetype": "text/x-python",
   "name": "python",
   "nbconvert_exporter": "python",
   "pygments_lexer": "ipython3",
   "version": "3.9.12"
  }
 },
 "nbformat": 4,
 "nbformat_minor": 5
}
