{
 "cells": [
  {
   "attachments": {
    "Screenshot%20from%202021-05-19%2023-02-42.png": {
     "image/png": "[encoded data removed]"
    }
   },
   "cell_type": "markdown",
   "id": "6e36c55b",
   "metadata": {},
   "source": [
    "# Kafka + Spark Structured Streaming\n",
    "\n",
    "Kafka can be integrated relatively easily with Spark streaming APIs to act as either a `source` or a `sink` for the streaming data.\n",
    "\n",
    "![Screenshot%20from%202021-05-19%2023-02-42.png](attachment:Screenshot%20from%202021-05-19%2023-02-42.png)\n",
    "\n",
    "In Spark 3.1.1 the kafka integration is unfortunately not available for the pySpark Streaming API (while is still available for the scala and java counter-parts).\n",
    "\n",
    "pySpark however also enables stream processing with the Structured Streaming.\n",
    "\n",
    "Spark Streaming discretizes the input data stream into micro-batches of RDDs (DStream), which can be later treated as static RDDs.\n",
    "\n",
    "Spark Structured Streaming is intended to be used with the DataFrame API. There is however no strict batch concept, as new data can be intended as new rows of an unbounded table.\n",
    "\n",
    "Three DataFrame increment modes are available:\n",
    "- Complete --> The entire Table is written to the sink\n",
    "- Append --> Only the new rows appended since the last trigger will be written \n",
    "- Update --> Only the rows that were updated since the last trigger will be written "
   ]
  },
  {
   "cell_type": "code",
   "execution_count": 1,
   "id": "36daf2d5",
   "metadata": {},
   "outputs": [],
   "source": [
    "# set this variable with one of the following values\n",
    "# -> 'local'\n",
    "# -> 'docker_cluster'\n",
    "CLUSTER_TYPE ='docker_cluster'"
   ]
  },
  {
   "cell_type": "code",
   "execution_count": 2,
   "id": "6b3d194e",
   "metadata": {},
   "outputs": [],
   "source": [
    "import os\n",
    "from pyspark.sql import SparkSession\n",
    "\n",
    "KAFKA_BOOTSTRAP_SERVERS = ''\n",
    "\n",
    "if CLUSTER_TYPE == 'local':\n",
    "    \n",
    "    spark = SparkSession.builder \\\n",
    "        .master(\"spark://localhost:7077\")\\\n",
    "        .appName(\"Spark structured streaming application\")\\\n",
    "        .config(\"spark.sql.execution.arrow.pyspark.enabled\", \"true\")\\\n",
    "        .config(\"spark.sql.execution.arrow.pyspark.fallback.enabled\", \"false\")\\\n",
    "        .config(\"spark.jars.packages\",\"org.apache.spark:spark-sql-kafka-0-10_2.12:3.1.1\")\\\n",
    "        .getOrCreate()\n",
    "\n",
    "    KAFKA_HOME = '<PATH_TO_YOUR_kafka_2.13-2.7.0_FOLDER>'\n",
    "    KAFKA_BOOTSTRAP_SERVERS = 'localhost:9092'\n",
    "    \n",
    "    # Start Zookeeper    \n",
    "    os.system('{0}/bin/zookeeper-server-start.sh {0}/config/zookeeper.properties'.format(KAFKA_HOME)) \n",
    "    \n",
    "    # Start one Kafka Broker\n",
    "    os.system('{0}/bin/kafka-server-start.sh {0}/config/server.properties'.format(KAFKA_HOME)) \n",
    "    \n",
    "elif CLUSTER_TYPE == 'docker_cluster':\n",
    "    \n",
    "    spark = SparkSession.builder \\\n",
    "        .master(\"spark://spark-master:7077\")\\\n",
    "        .appName(\"Spark structured streaming application\")\\\n",
    "        .config(\"spark.executor.memory\", \"512m\")\\\n",
    "        .config(\"spark.sql.execution.arrow.pyspark.enabled\", \"true\")\\\n",
    "        .config(\"spark.sql.execution.arrow.pyspark.fallback.enabled\", \"false\")\\\n",
    "        .config(\"spark.jars.packages\",\"org.apache.spark:spark-sql-kafka-0-10_2.12:3.1.1\")\\\n",
    "        .getOrCreate()\n",
    "\n",
    "    KAFKA_BOOTSTRAP_SERVERS = 'kafka-broker:9092'"
   ]
  },
  {
   "cell_type": "code",
   "execution_count": 3,
   "id": "195523e6",
   "metadata": {},
   "outputs": [
    {
     "data": {
      "text/html": [
       "\n",
       "        <div>\n",
       "            <p><b>SparkContext</b></p>\n",
       "\n",
       "            <p><a href=\"http://e99b2f869913:4040\">Spark UI</a></p>\n",
       "\n",
       "            <dl>\n",
       "              <dt>Version</dt>\n",
       "                <dd><code>v3.1.1</code></dd>\n",
       "              <dt>Master</dt>\n",
       "                <dd><code>spark://spark-master:7077</code></dd>\n",
       "              <dt>AppName</dt>\n",
       "                <dd><code>Spark structured streaming application</code></dd>\n",
       "            </dl>\n",
       "        </div>\n",
       "        "
      ],
      "text/plain": [
       "<SparkContext master=spark://spark-master:7077 appName=Spark structured streaming application>"
      ]
     },
     "execution_count": 3,
     "metadata": {},
     "output_type": "execute_result"
    }
   ],
   "source": [
    "sc = spark.sparkContext\n",
    "sc"
   ]
  },
  {
   "cell_type": "markdown",
   "id": "ad79775a",
   "metadata": {},
   "source": [
    "## Read data from kafka\n",
    "\n",
    "We first create a DataFrame representing the stream of input lines from kafka by connecting to the appropriate servers and topic.\n",
    "\n",
    "`readStream` and `format(\"kafka\")` are the key components to connect to the source."
   ]
  },
  {
   "cell_type": "code",
   "execution_count": 4,
   "id": "41d019b6",
   "metadata": {},
   "outputs": [],
   "source": [
    "inputDF = spark\\\n",
    "    .readStream\\\n",
    "    .format(\"kafka\")\\\n",
    "    .option(\"kafka.bootstrap.servers\", KAFKA_BOOTSTRAP_SERVERS)\\\n",
    "    .option('subscribe', 'a_partitioned_topic')\\\n",
    "    .option(\"startingOffsets\", \"latest\") \\\n",
    "    .load()"
   ]
  },
  {
   "cell_type": "markdown",
   "id": "0f5d4a60",
   "metadata": {},
   "source": [
    "Nothing happens at this stage because the streaming has not started yet.\n",
    "At this stage it was just defined the source of the streaming application.\n",
    "\n",
    "The `inputDF` can be treated as if it was a static DataFrame in Spark.\n",
    "\n",
    "Currently, `inputDF` contains the messages from kafka, which are further composed of a `<key,value>` pair, a timestamp, and other information."
   ]
  },
  {
   "cell_type": "code",
   "execution_count": 17,
   "id": "12527529",
   "metadata": {},
   "outputs": [],
   "source": [
    "# inputDF.printSchema()"
   ]
  },
  {
   "cell_type": "markdown",
   "id": "aa83f9ba",
   "metadata": {},
   "source": [
    "We are clearly interested in the `value` of the message, which in turn is a json format.\n",
    "\n",
    "We can exploit the pyspark.sql functions to define a schema for our (structured) data, and interpred the data as such."
   ]
  },
  {
   "cell_type": "code",
   "execution_count": 18,
   "id": "99a39a82",
   "metadata": {},
   "outputs": [],
   "source": [
    "from pyspark.sql.functions import from_json, col\n",
    "from pyspark.sql.types import StructField, StructType, StringType, DoubleType, IntegerType\n",
    "\n",
    "## the schema of the json data format used to create the messages\n",
    "schema = StructType(\n",
    "        [\n",
    "                StructField(\"name\", StringType()),\n",
    "                StructField(\"surname\", StringType()),\n",
    "                StructField(\"amount\", StringType()),\n",
    "                StructField(\"delta_t\", StringType()),\n",
    "                StructField(\"flag\", IntegerType())\n",
    "        ]\n",
    ")\n",
    "\n",
    "## a new DF can be created from the previous by using the pyspark.sql functions\n",
    "# jsonDF = inputDF.select(from_json(col(\"value\").alias('value').cast(\"string\"), schema).alias('value'))"
   ]
  },
  {
   "cell_type": "code",
   "execution_count": 19,
   "id": "ae27bd69",
   "metadata": {},
   "outputs": [],
   "source": [
    "# jsonDF.printSchema()"
   ]
  },
  {
   "cell_type": "markdown",
   "id": "24fd6013",
   "metadata": {},
   "source": [
    "It's possible to inspect the data actually reaching the `jsonDF` by starting a stream with a `console` sink.\n",
    "The output of the streaming processing in this case will be redirected to the shell running the jupyter-notebook.\n",
    "\n",
    "We should expect a dataframe with 1 single column, containing a json-like object per message."
   ]
  },
  {
   "cell_type": "code",
   "execution_count": 20,
   "id": "d98a5f24",
   "metadata": {},
   "outputs": [],
   "source": [
    "# jsonDF.writeStream\\\n",
    "#     .outputMode(\"append\")\\\n",
    "#     .format(\"console\")\\\n",
    "#     .start()\\\n",
    "#     .awaitTermination()"
   ]
  },
  {
   "cell_type": "markdown",
   "id": "ebaec6d2",
   "metadata": {},
   "source": [
    "To flatten the jsonDF into a proper DataFrame we can rely on `selectExpr` "
   ]
  },
  {
   "cell_type": "code",
   "execution_count": 8,
   "id": "a0364fc6",
   "metadata": {},
   "outputs": [],
   "source": [
    "flatDF = jsonDF.selectExpr(\"value.name\", \n",
    "                           \"value.surname\", \n",
    "                           \"value.amount\",\n",
    "                           \"value.delta_t\",\n",
    "                           \"value.flag\")"
   ]
  },
  {
   "cell_type": "code",
   "execution_count": 9,
   "id": "2eadda6e",
   "metadata": {},
   "outputs": [],
   "source": [
    "# flatDF.writeStream\\\n",
    "#     .outputMode(\"append\")\\\n",
    "#     .format(\"console\")\\\n",
    "#     .start()\\\n",
    "#     .awaitTermination()"
   ]
  },
  {
   "cell_type": "markdown",
   "id": "42cb41b0",
   "metadata": {},
   "source": [
    "### Simple fraud detection + Kafka sink\n",
    "\n",
    "Let's plug in the same simplistic \"fraud detection\" logic we already used in our previous Spark Streaming example.\n",
    "\n",
    "We might be interested to have Spark doing the heavy-lifting, and then other consumers to access the results of this operations (e.g. to display the results on a dashboard, or to trigger some action).\n",
    "\n",
    "We can use kafka as a sink for the resulting data."
   ]
  },
  {
   "cell_type": "code",
   "execution_count": 11,
   "id": "dc1be720",
   "metadata": {},
   "outputs": [],
   "source": [
    "from pyspark.sql.functions import concat, col, lit, countDistinct\n",
    "\n",
    "# find number of transactions for each user when flag = 1 \n",
    "num_transactions = flatDF \\\n",
    "    .where(col('flag')==1) \\\n",
    "    .withColumn('id', concat(col('name'), col('surname'))) \\\n",
    "    .groupBy('id') \\\n",
    "    .count() \\\n",
    "    \n",
    "# find suspicious transactions\n",
    "sus_transactions = num_transactions \\\n",
    "    .where(col('count')>1) \\\n",
    "    .withColumn('fraud', lit(1)) \\\n",
    "    .select(col(\"id\").alias(\"key\"),\n",
    "            col(\"fraud\").cast(StringType()).alias(\"value\"))"
   ]
  },
  {
   "cell_type": "markdown",
   "id": "34a4080d",
   "metadata": {},
   "source": [
    "At this point all these new derived DataFrames look like they are not connected in any way or form to the input streaming kafka source.\n",
    "\n",
    "We can however check this by issuing a `isStreaming` to a DataFrame"
   ]
  },
  {
   "cell_type": "code",
   "execution_count": 12,
   "id": "aa2ef438",
   "metadata": {},
   "outputs": [
    {
     "data": {
      "text/plain": [
       "True"
      ]
     },
     "execution_count": 12,
     "metadata": {},
     "output_type": "execute_result"
    }
   ],
   "source": [
    "sus_transactions.isStreaming"
   ]
  },
  {
   "cell_type": "markdown",
   "id": "87a07db7",
   "metadata": {},
   "source": [
    "The `sus_transactions` DataFrame is still a streaming DF! It can be seen as the result of the propagation of the transformations acting on the original inputDF, originating from the streaming source."
   ]
  },
  {
   "cell_type": "code",
   "execution_count": 14,
   "id": "0043b044",
   "metadata": {},
   "outputs": [],
   "source": [
    "# sus_transactions.writeStream\\\n",
    "#     .outputMode(\"update\")\\\n",
    "#     .format(\"console\")\\\n",
    "#     .start()\\\n",
    "#     .awaitTermination()"
   ]
  },
  {
   "cell_type": "markdown",
   "id": "e7ed6057",
   "metadata": {},
   "source": [
    "Finally, let's wrap the message up and write it on a `results` topic back to kafka, for other consumers to make use of its data"
   ]
  },
  {
   "cell_type": "code",
   "execution_count": null,
   "id": "6aaca154",
   "metadata": {},
   "outputs": [],
   "source": [
    "sus_transactions.writeStream\\\n",
    "    .outputMode(\"update\")\\\n",
    "    .format(\"kafka\") \\\n",
    "    .option(\"kafka.bootstrap.servers\", KAFKA_BOOTSTRAP_SERVERS) \\\n",
    "    .option(\"topic\", \"results\") \\\n",
    "    .option(\"checkpointLocation\", \"checkpoint\") \\\n",
    "    .start() \\\n",
    "    .awaitTermination()"
   ]
  }
 ],
 "metadata": {
  "kernelspec": {
   "display_name": "Python 3 (ipykernel)",
   "language": "python",
   "name": "python3"
  },
  "language_info": {
   "codemirror_mode": {
    "name": "ipython",
    "version": 3
   },
   "file_extension": ".py",
   "mimetype": "text/x-python",
   "name": "python",
   "nbconvert_exporter": "python",
   "pygments_lexer": "ipython3",
   "version": "3.9.7"
  }
 },
 "nbformat": 4,
 "nbformat_minor": 5
}
