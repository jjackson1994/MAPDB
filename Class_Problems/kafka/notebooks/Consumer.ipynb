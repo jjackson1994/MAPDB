{
 "cells": [
  {
   "cell_type": "markdown",
   "id": "9c2cbecd",
   "metadata": {},
   "source": [
    "# Kafka Consumer"
   ]
  },
  {
   "cell_type": "code",
   "execution_count": 1,
   "id": "15160cf8",
   "metadata": {},
   "outputs": [],
   "source": [
    "# set this variable with one of the following values\n",
    "# -> 'local'\n",
    "# -> 'docker_cluster'\n",
    "CLUSTER_TYPE ='docker_cluster'"
   ]
  },
  {
   "cell_type": "code",
   "execution_count": 2,
   "id": "2445704d",
   "metadata": {},
   "outputs": [],
   "source": [
    "import os\n",
    "\n",
    "KAFKA_BOOTSTRAP_SERVERS = ''\n",
    "\n",
    "if CLUSTER_TYPE == 'local':\n",
    "\n",
    "    KAFKA_HOME = '<PATH_TO_YOUR_kafka_2.13-2.7.0_FOLDER>'\n",
    "    KAFKA_BOOTSTRAP_SERVERS = ['localhost:9092']\n",
    "    \n",
    "    # Start Zookeeper    \n",
    "    os.system('{0}/bin/zookeeper-server-start.sh {0}/config/zookeeper.properties'.format(KAFKA_HOME)) \n",
    "    \n",
    "    # Start one Kafka Broker\n",
    "    os.system('{0}/bin/kafka-server-start.sh {0}/config/server.properties'.format(KAFKA_HOME)) \n",
    "    \n",
    "elif CLUSTER_TYPE == 'docker_cluster':\n",
    "\n",
    "    KAFKA_BOOTSTRAP_SERVERS = ['kafka-broker:9092']"
   ]
  },
  {
   "cell_type": "code",
   "execution_count": 3,
   "id": "b643cba9",
   "metadata": {},
   "outputs": [
    {
     "name": "stdout",
     "output_type": "stream",
     "text": [
      "Requirement already satisfied: kafka-python in /opt/conda/lib/python3.8/site-packages (2.0.2)\r\n"
     ]
    }
   ],
   "source": [
    "! pip install kafka-python"
   ]
  },
  {
   "cell_type": "code",
   "execution_count": 4,
   "id": "34a48bb9",
   "metadata": {},
   "outputs": [],
   "source": [
    "from kafka import KafkaConsumer"
   ]
  },
  {
   "cell_type": "markdown",
   "id": "91b7fb22",
   "metadata": {},
   "source": [
    "Kafka consumers can be instantiated via the KafkaConsumer class\n",
    "\n",
    "```python\n",
    "#--- A TYPICAL CONSUMER\n",
    "consumer = KafkaConsumer(\n",
    "    bootstrap_servers=['62.30.10.23:9092'],  #<<<--- list of brokers\n",
    "    security_protocol=\"SSL\",                 #<<<--- security protocol (if any) \n",
    "    ssl_cafile=\"./ca.pem\",                   #<<<--- certificate details (if any)\n",
    "    ssl_certfile=\"./service.cert\",           #           ...\n",
    "    ssl_keyfile=\"./service.key\",             #           ...\n",
    "    value_deserializer=msgpack.unpackb,      #<<<--- message value deserialization function (e.g. unpack the message from a specific format)\n",
    "    auto_offset_reset='earliest',            #<<<--- automatically bring the reading offset to the earliest message\n",
    "    group_id=\"group_A\",                      #<<<--- identify this consumer as part of group_A\n",
    ")\n",
    "```\n",
    "\n",
    "\n",
    "Once more we'll use a simple implementation of the consumer, with no specific configurations used in this example."
   ]
  },
  {
   "cell_type": "code",
   "execution_count": 5,
   "id": "fdc0fa50",
   "metadata": {},
   "outputs": [],
   "source": [
    "consumer = KafkaConsumer(bootstrap_servers=KAFKA_BOOTSTRAP_SERVERS,\n",
    "                         consumer_timeout_ms=10000)"
   ]
  },
  {
   "cell_type": "markdown",
   "id": "af812bde",
   "metadata": {},
   "source": [
    "Inspect the brokers for the available topics"
   ]
  },
  {
   "cell_type": "code",
   "execution_count": 73,
   "id": "f3dd2eb2",
   "metadata": {},
   "outputs": [],
   "source": [
    "consumer.topics()"
   ]
  },
  {
   "cell_type": "markdown",
   "id": "e777fb8a",
   "metadata": {},
   "source": [
    "And subscribe to the topics of choice.\n",
    "Subscribing doesn't mean any message is actually received/consumed... it only means that from now on the consumer will be able to poll from the partitions of the chosen topics hosted on the brokers."
   ]
  },
  {
   "cell_type": "code",
   "execution_count": 74,
   "id": "31cf57ef",
   "metadata": {},
   "outputs": [],
   "source": [
    "consumer.subscribe('my_awesome_topic')\n",
    "consumer.subscription()"
   ]
  },
  {
   "cell_type": "markdown",
   "id": "5da14c3c",
   "metadata": {},
   "source": [
    "We can inspect how many partitions the specific topic is made of:"
   ]
  },
  {
   "cell_type": "code",
   "execution_count": 75,
   "id": "37749170",
   "metadata": {},
   "outputs": [],
   "source": [
    "consumer.partitions_for_topic('my_awesome_topic')"
   ]
  },
  {
   "cell_type": "markdown",
   "id": "5914791c",
   "metadata": {},
   "source": [
    "And set the consumer polling logic to a custom set of parameters."
   ]
  },
  {
   "cell_type": "code",
   "execution_count": 76,
   "id": "55bc3795",
   "metadata": {},
   "outputs": [],
   "source": [
    "consumer.poll(timeout_ms=0,         #<<--- do not enable dead-times before one poll to the next\n",
    "              max_records=None,     #<<--- do not limit the number of records to consume at once \n",
    "              update_offsets=True   #<<--- update the reading offsets on this topic\n",
    "             )"
   ]
  },
  {
   "cell_type": "markdown",
   "id": "4c9a7f87",
   "metadata": {},
   "source": [
    "This enables to start reading from the topic:"
   ]
  },
  {
   "cell_type": "code",
   "execution_count": 77,
   "id": "780612dc",
   "metadata": {},
   "outputs": [],
   "source": [
    "# this consumer will keep polling and reading for messages until stopped (or it reaches the consumer_timeout_ms)\n",
    "for message in consumer:\n",
    "    print (message)"
   ]
  },
  {
   "cell_type": "markdown",
   "id": "3ddc31e9",
   "metadata": {},
   "source": [
    "The reading offset can also be brought back to the beginning of the topic, to re-read the entire topic:"
   ]
  },
  {
   "cell_type": "code",
   "execution_count": 78,
   "id": "f189ba1c",
   "metadata": {},
   "outputs": [],
   "source": [
    "consumer.seek_to_beginning()\n",
    "\n",
    "for message in consumer:\n",
    "    print (message)"
   ]
  },
  {
   "cell_type": "code",
   "execution_count": 79,
   "id": "12053e1e",
   "metadata": {},
   "outputs": [],
   "source": [
    "from datetime import datetime\n",
    "\n",
    "consumer.seek_to_beginning()\n",
    "\n",
    "# break down the message into its main components\n",
    "for message in consumer:\n",
    "    print (\"%d:%d [%s] k=%s v=%s\" % (message.partition,\n",
    "                          message.offset,\n",
    "                          message.timestamp, #datetime.fromtimestamp(message.timestamp/1000).time(),\n",
    "                          message.key,\n",
    "                          message.value))"
   ]
  },
  {
   "cell_type": "markdown",
   "id": "4249fa80",
   "metadata": {},
   "source": [
    "Let's change the topic to which the consumer is subscribed to a partitioned one:"
   ]
  },
  {
   "cell_type": "code",
   "execution_count": 80,
   "id": "47eeca28",
   "metadata": {},
   "outputs": [],
   "source": [
    "consumer.subscribe('a_partitioned_topic')\n",
    "consumer.subscription()"
   ]
  },
  {
   "cell_type": "markdown",
   "id": "8ca9fa3f",
   "metadata": {},
   "source": [
    "By inspecting the number of partitions for this topic we do see now 2 partitions: partition #0 and partition #1"
   ]
  },
  {
   "cell_type": "code",
   "execution_count": null,
   "id": "0b41a865",
   "metadata": {},
   "outputs": [],
   "source": [
    "consumer.partitions_for_topic('a_partitioned_topic')"
   ]
  },
  {
   "cell_type": "markdown",
   "id": "176d8c1e",
   "metadata": {},
   "source": [
    "Reading out from a partitioned topic it's easy to see that the messages are sent to the two partitions in a seemengly arbitrary way:"
   ]
  },
  {
   "cell_type": "code",
   "execution_count": null,
   "id": "4377d062",
   "metadata": {},
   "outputs": [],
   "source": [
    "import json\n",
    "\n",
    "consumer.seek_to_beginning()\n",
    "\n",
    "for message in consumer:\n",
    "    print (\"%d:%d:\\t v=%s\" % (message.partition,\n",
    "                          message.offset,\n",
    "                          json.loads(message.value)))"
   ]
  },
  {
   "cell_type": "markdown",
   "id": "2d840375",
   "metadata": {},
   "source": [
    "### Creating a consumer accessing only one partition\n",
    "\n",
    "Publishing records to a partitioned topic is typycally* transparent for the user: the producer publishes to the topic, and the kafka cluster will redirect the message to the partition leader, later replicating that to the followers.\n",
    "\n",
    "The same goes for a generic* consumer. As we have just seen data is consumed from all partitions within the topic.\n",
    "\n",
    "In some cases it can however be more suitable to instantiate multiple consumers, each reading from a specific partition of a topic.\n",
    "\n",
    "Let's assign a consumer specific to access the data of partition #0 of the previous partitioned topic."
   ]
  },
  {
   "cell_type": "code",
   "execution_count": 82,
   "id": "8b829ae5",
   "metadata": {},
   "outputs": [],
   "source": [
    "from kafka import TopicPartition\n",
    "\n",
    "consumer_part_0 = KafkaConsumer(bootstrap_servers=KAFKA_BOOTSTRAP_SERVERS,\n",
    "                                client_id='consumer_n_0',\n",
    "                                consumer_timeout_ms=10000)\n",
    "\n",
    "consumer_part_0.assign([TopicPartition('a_partitioned_topic', 0)]) # <<--- name of the topic, partition id"
   ]
  },
  {
   "cell_type": "code",
   "execution_count": null,
   "id": "66c1ec10",
   "metadata": {},
   "outputs": [],
   "source": [
    "consumer_part_0.seek_to_beginning()\n",
    "\n",
    "for message in consumer_part_0:\n",
    "    print (\"%d:%d:\\t v=%s\" % (message.partition,\n",
    "                          message.offset,\n",
    "                          json.loads(message.value)))"
   ]
  },
  {
   "cell_type": "markdown",
   "id": "4ba94b5b",
   "metadata": {},
   "source": [
    "### Creating a consumer group\n",
    "\n",
    "Multiple consumers can read from the same topic.\n",
    "\n",
    "In kafka, each consumer is part of a consumer group. \n",
    "A consumer group is a number (1 or more) of cooperating consumers gathering data from the same topic, balancing the load across them and redistributing the consume calls dynamically.\n",
    "\n",
    "If a consumer inside a consumer group fails, the others from the same group will keep reading the whole data from the topic to which they are subscribed."
   ]
  },
  {
   "cell_type": "code",
   "execution_count": 68,
   "id": "86ac6556",
   "metadata": {},
   "outputs": [],
   "source": [
    "consumer_one = KafkaConsumer(bootstrap_servers=KAFKA_BOOTSTRAP_SERVERS,\n",
    "                             client_id='consumer_one',\n",
    "                             group_id='my_group',\n",
    "                             consumer_timeout_ms=10000)"
   ]
  },
  {
   "cell_type": "code",
   "execution_count": 69,
   "id": "f38d1314",
   "metadata": {},
   "outputs": [],
   "source": [
    "consumer_one.subscribe('a_partitioned_topic')"
   ]
  },
  {
   "cell_type": "markdown",
   "id": "db55fc88",
   "metadata": {},
   "source": [
    "Each consumer within a group is going to be an independent process (should be run in parallel from the others) and will provide access to a fraction of the incoming data"
   ]
  },
  {
   "cell_type": "code",
   "execution_count": null,
   "id": "5b5cfb31",
   "metadata": {},
   "outputs": [],
   "source": [
    "# Use multiple consumers in parallel --> typically you would run each on a different thread / process / executor\n",
    "for message in consumer_one:\n",
    "    print (\"%d:%d: k=%s v=%s\" % (message.partition,\n",
    "                          message.offset,\n",
    "                          message.key,\n",
    "                          json.loads(message.value)))"
   ]
  },
  {
   "cell_type": "markdown",
   "id": "48df54a2",
   "metadata": {},
   "source": [
    "## Reading from the Kafka+Spark results topic\n",
    "\n",
    "Let's subscribe to the `results` topic and monitor the frauds"
   ]
  },
  {
   "cell_type": "code",
   "execution_count": null,
   "id": "09f5720b",
   "metadata": {},
   "outputs": [],
   "source": [
    "# consumer.subscribe('results')\n",
    "for message in consumer:\n",
    "    print (\"%d:%d: k=%s v=%s\" % (message.partition,\n",
    "                          message.offset,\n",
    "                          message.key,\n",
    "                          message.value))\n",
    "    print ('--> sending alert message to user %s',message.key)"
   ]
  }
 ],
 "metadata": {
  "kernelspec": {
   "display_name": "Python 3 (ipykernel)",
   "language": "python",
   "name": "python3"
  },
  "language_info": {
   "codemirror_mode": {
    "name": "ipython",
    "version": 3
   },
   "file_extension": ".py",
   "mimetype": "text/x-python",
   "name": "python",
   "nbconvert_exporter": "python",
   "pygments_lexer": "ipython3",
   "version": "3.9.7"
  }
 },
 "nbformat": 4,
 "nbformat_minor": 5
}
