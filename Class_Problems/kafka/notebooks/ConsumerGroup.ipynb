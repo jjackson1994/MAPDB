{
 "cells": [
  {
   "cell_type": "code",
   "execution_count": 5,
   "id": "b0fb21de",
   "metadata": {},
   "outputs": [],
   "source": [
    "# set this variable with one of the following values\n",
    "# -> 'local'\n",
    "# -> 'docker_cluster'\n",
    "CLUSTER_TYPE ='docker_cluster'"
   ]
  },
  {
   "cell_type": "code",
   "execution_count": 6,
   "id": "471f760e",
   "metadata": {},
   "outputs": [],
   "source": [
    "KAFKA_BOOTSTRAP_SERVERS = ''\n",
    "\n",
    "if CLUSTER_TYPE == 'local':\n",
    "\n",
    "    KAFKA_BOOTSTRAP_SERVERS = 'localhost:9092'\n",
    "    \n",
    "elif CLUSTER_TYPE == 'docker_cluster':\n",
    "\n",
    "    KAFKA_BOOTSTRAP_SERVERS = 'kafka-broker:9092'"
   ]
  },
  {
   "cell_type": "code",
   "execution_count": 7,
   "id": "a3d28578",
   "metadata": {},
   "outputs": [
    {
     "name": "stdout",
     "output_type": "stream",
     "text": [
      "Requirement already satisfied: kafka-python in /opt/conda/lib/python3.8/site-packages (2.0.2)\r\n"
     ]
    }
   ],
   "source": [
    "! pip install kafka-python"
   ]
  },
  {
   "cell_type": "code",
   "execution_count": 8,
   "id": "5b3e602c",
   "metadata": {},
   "outputs": [],
   "source": [
    "from kafka import KafkaConsumer"
   ]
  },
  {
   "cell_type": "code",
   "execution_count": 15,
   "id": "874e6a4c",
   "metadata": {},
   "outputs": [],
   "source": [
    "consumer_two = KafkaConsumer(bootstrap_servers=[KAFKA_BOOTSTRAP_SERVERS],\n",
    "                             client_id='consumer_two',\n",
    "                             group_id='my_group',\n",
    "                             consumer_timeout_ms=10000)                             "
   ]
  },
  {
   "cell_type": "code",
   "execution_count": 16,
   "id": "91d2a9f4",
   "metadata": {},
   "outputs": [],
   "source": [
    "consumer_two.subscribe('a_partitioned_topic')"
   ]
  },
  {
   "cell_type": "code",
   "execution_count": null,
   "id": "f54b91a7",
   "metadata": {},
   "outputs": [],
   "source": [
    "for message in consumer_two:\n",
    "    print (\"%d:%d: k=%s v=%s\" % (message.partition,\n",
    "                          message.offset,\n",
    "                          message.key,\n",
    "                          message.value))"
   ]
  }
 ],
 "metadata": {
  "kernelspec": {
   "display_name": "Python 3 (ipykernel)",
   "language": "python",
   "name": "python3"
  },
  "language_info": {
   "codemirror_mode": {
    "name": "ipython",
    "version": 3
   },
   "file_extension": ".py",
   "mimetype": "text/x-python",
   "name": "python",
   "nbconvert_exporter": "python",
   "pygments_lexer": "ipython3",
   "version": "3.9.7"
  }
 },
 "nbformat": 4,
 "nbformat_minor": 5
}
