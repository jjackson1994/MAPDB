{
 "cells": [
  {
   "cell_type": "markdown",
   "id": "bb40c3f9",
   "metadata": {},
   "source": [
    "# Lecture 3: Spark Streaming\n",
    "\n",
    "_Spark Streaming_ is an extension of the Spark API that enables scalabe stream processing.\n",
    "\n",
    "The continous stream of input data can be ingested from many data sources such as **Kafka**, **Amazon s3** or **TCP sockets**. \n",
    "\n",
    "The Spark API allows to process data via high-level functions such as *map* and *reduce*. As we are going to see, it is also possible to use dataframe operations. \n",
    "\n",
    "Processed data can be exported to an external database and used to make live dashboards or offline analyses, or stored in files, or be used in a further stage of a Kafka pipeline. \n",
    "\n",
    "Spark streaming works by dividing the input data into _micro-batches_ that can be treated as static datasets. In Spark this is referred to as a *discretized stream* (*DStream*). The DStream is represented using RDDs.\n",
    "\n",
    "![DStream](imgs/lecture3/DStream.png)\n",
    "\n",
    "Any transformation applied on the DStream, i.e. anything like a `Dstream.map()`, will act independently on each batch. For example, in the image below, we can filter the original RDD to remove some data and produce a new stream. \n",
    "\n",
    "![DStream_filter](imgs/lecture3/Dstream_filter.png)\n",
    "\n",
    "In this lecture we will see how to setup a simple stream using a TCP socket as a data source."
   ]
  },
  {
   "cell_type": "markdown",
   "id": "77789660",
   "metadata": {},
   "source": [
    "## Setup"
   ]
  },
  {
   "cell_type": "code",
   "execution_count": 1,
   "id": "43dbb40d",
   "metadata": {},
   "outputs": [],
   "source": [
    "# set this variable with one of the following values\n",
    "# -> 'local'\n",
    "# -> 'docker_container'\n",
    "# -> 'docker_cluster'\n",
    "CLUSTER_TYPE ='docker_cluster'"
   ]
  },
  {
   "cell_type": "code",
   "execution_count": 2,
   "id": "f4330629",
   "metadata": {},
   "outputs": [
    {
     "name": "stdout",
     "output_type": "stream",
     "text": [
      "env: CLUSTER_TYPE=docker_cluster\n"
     ]
    }
   ],
   "source": [
    "# set env variable\n",
    "%env CLUSTER_TYPE $CLUSTER_TYPE"
   ]
  },
  {
   "cell_type": "markdown",
   "id": "07ccf872",
   "metadata": {},
   "source": [
    "## Start the cluster \n",
    "\n",
    "Environment variables need to be set only in the case of a local cluster"
   ]
  },
  {
   "cell_type": "code",
   "execution_count": 3,
   "id": "fdc44b1f",
   "metadata": {},
   "outputs": [],
   "source": [
    "if CLUSTER_TYPE=='local':\n",
    "    import findspark\n",
    "    findspark.init('/home/ubuntu/MAPDB/MAPD-B/spark/spark-3.2.1-bin-hadoop3.2')"
   ]
  },
  {
   "cell_type": "code",
   "execution_count": 4,
   "id": "1231432e",
   "metadata": {
    "scrolled": true
   },
   "outputs": [],
   "source": [
    "%%script bash --no-raise-error\n",
    "\n",
    "if [[ \"$CLUSTER_TYPE\" != \"docker_cluster\" ]]; then\n",
    "    echo \"Launching master and worker\"\n",
    "    \n",
    "    # start master \n",
    "    $SPARK_HOME/sbin/start-master.sh --host localhost \\\n",
    "        --port 7077 --webui-port 8080\n",
    "    \n",
    "    # start worker\n",
    "    $SPARK_HOME/sbin/start-worker.sh spark://localhost:7077 \\\n",
    "        --cores 4 --memory 2g\n",
    "fi"
   ]
  },
  {
   "cell_type": "markdown",
   "id": "14513840",
   "metadata": {},
   "source": [
    "## Create the Spark session\n",
    "\n",
    "Later on we will explain what is the role of [Apache Arrow](), but first we need to install it and create the spark session with it."
   ]
  },
  {
   "cell_type": "code",
   "execution_count": 5,
   "id": "86d10fc5",
   "metadata": {},
   "outputs": [
    {
     "name": "stderr",
     "output_type": "stream",
     "text": [
      "WARNING: An illegal reflective access operation has occurred\n",
      "WARNING: Illegal reflective access by org.apache.spark.unsafe.Platform (file:/usr/bin/spark-3.2.1-bin-hadoop3.2/jars/spark-unsafe_2.12-3.2.1.jar) to constructor java.nio.DirectByteBuffer(long,int)\n",
      "WARNING: Please consider reporting this to the maintainers of org.apache.spark.unsafe.Platform\n",
      "WARNING: Use --illegal-access=warn to enable warnings of further illegal reflective access operations\n",
      "WARNING: All illegal access operations will be denied in a future release\n",
      "Using Spark's default log4j profile: org/apache/spark/log4j-defaults.properties\n",
      "Setting default log level to \"WARN\".\n",
      "To adjust logging level use sc.setLogLevel(newLevel). For SparkR, use setLogLevel(newLevel).\n",
      "22/05/17 08:21:25 WARN NativeCodeLoader: Unable to load native-hadoop library for your platform... using builtin-java classes where applicable\n"
     ]
    }
   ],
   "source": [
    "from pyspark.sql import SparkSession\n",
    "\n",
    "if CLUSTER_TYPE in ['local', 'docker_container']:\n",
    "    \n",
    "    spark = SparkSession.builder \\\n",
    "        .master(\"spark://localhost:7077\")\\\n",
    "        .appName(\"Spark streaming application\")\\\n",
    "        .config(\"spark.sql.execution.arrow.pyspark.enabled\", \"true\")\\\n",
    "        .config(\"spark.sql.execution.arrow.pyspark.fallback.enabled\", \"false\")\\\n",
    "        .getOrCreate()\n",
    "\n",
    "elif CLUSTER_TYPE == 'docker_cluster':\n",
    "    \n",
    "    # use the provided master\n",
    "    spark = SparkSession.builder \\\n",
    "        .master(\"spark://spark-master:7077\")\\\n",
    "        .appName(\"Spark streaming application\")\\\n",
    "        .config(\"spark.executor.memory\", \"512m\")\\\n",
    "        .config(\"spark.sql.execution.arrow.pyspark.enabled\", \"true\")\\\n",
    "        .config(\"spark.sql.execution.arrow.pyspark.fallback.enabled\", \"false\")\\\n",
    "        .getOrCreate()"
   ]
  },
  {
   "cell_type": "code",
   "execution_count": 6,
   "id": "323d6601",
   "metadata": {},
   "outputs": [
    {
     "data": {
      "text/html": [
       "\n",
       "        <div>\n",
       "            <p><b>SparkContext</b></p>\n",
       "\n",
       "            <p><a href=\"http://c2a1de432d75:4040\">Spark UI</a></p>\n",
       "\n",
       "            <dl>\n",
       "              <dt>Version</dt>\n",
       "                <dd><code>v3.2.1</code></dd>\n",
       "              <dt>Master</dt>\n",
       "                <dd><code>spark://spark-master:7077</code></dd>\n",
       "              <dt>AppName</dt>\n",
       "                <dd><code>Spark streaming application</code></dd>\n",
       "            </dl>\n",
       "        </div>\n",
       "        "
      ],
      "text/plain": [
       "<SparkContext master=spark://spark-master:7077 appName=Spark streaming application>"
      ]
     },
     "execution_count": 6,
     "metadata": {},
     "output_type": "execute_result"
    }
   ],
   "source": [
    "sc = spark.sparkContext\n",
    "sc"
   ]
  },
  {
   "cell_type": "markdown",
   "id": "7b253c26",
   "metadata": {},
   "source": [
    "## Spark _Streaming_ context\n",
    "\n",
    "The first step of a Spark streaming application is the creation of a `StreamingContext`. \n",
    "\n",
    "It is a similar concept to the `sparkContext` but it requires to be initialized with some additional information on how to handle the micro-batches.\n",
    "\n",
    "The context can be initialized using `StreamingContext(SparkContext, batch_interval`). \n",
    "The `batch_interval` parameter represents the wall-time between two batches, i.e. the batch duration in seconds.\n",
    "\n",
    "There could be at most one `StreamingContext` for each Spark application. \n",
    "\n",
    "The processing start when `StreamingContext.start()` is called, and it can be stopped with `StreamingContext.stop()`. \n",
    "\n",
    "By default, if the `StreamingContext` is stoped without passing the `stopSparkContext=False` option, the sparkContext is also stopped (thus the application is closed)."
   ]
  },
  {
   "cell_type": "code",
   "execution_count": 7,
   "id": "256cf2be",
   "metadata": {},
   "outputs": [],
   "source": [
    "from pyspark.streaming import StreamingContext\n",
    "\n",
    "# create a streaming context with a batch interval of 2 seconds\n",
    "ssc = StreamingContext(sc, 2) "
   ]
  },
  {
   "cell_type": "markdown",
   "id": "922cfde8",
   "metadata": {},
   "source": [
    "For this example spark will read data from a TCP socket. \n",
    "\n",
    "A dummy data stream is generated by a simple python program that can be found in `utils/producer.py`. \n",
    "When executed, the producer will write data on port `5555` of `localhost`. \n",
    "\n",
    "The dataset consists of fake credit card transactions.\n",
    "\n",
    "Have a look at the code from the producer before executing it."
   ]
  },
  {
   "cell_type": "code",
   "execution_count": 8,
   "id": "ab8d890a",
   "metadata": {},
   "outputs": [
    {
     "name": "stdout",
     "output_type": "stream",
     "text": [
      "import socket\r\n",
      "import json\r\n",
      "import time\r\n",
      "import random\r\n",
      "import argparse\r\n",
      "\r\n",
      "first_names=('John','Andy','Joe','Alice')\r\n",
      "last_names=('Johnson','Smith','Jones', 'Millers')\r\n",
      "\r\n",
      "def send_messages(client_socket):\r\n",
      "    try:\r\n",
      "        while 1:\r\n",
      "            msg = {\r\n",
      "                'name': random.choice(first_names),\r\n",
      "                'surname': random.choice(last_names),\r\n",
      "                'amount': '{:.2f}'.format(random.random()*1000),\r\n",
      "                'delta_t': '{:.2f}'.format(random.random()*10),\r\n",
      "                'flag': random.choices([0,1], weights=[0.8, 0.2])[0]\r\n",
      "            }\r\n",
      "            client_socket.send((json.dumps(msg)+\"\\n\").encode('utf-8'))\r\n",
      "            time.sleep(0.1)\r\n",
      "\r\n",
      "    except KeyboardInterrupt:\r\n",
      "        exit()\r\n",
      "\r\n",
      "if __name__ == \"__main__\":\r\n",
      "\r\n",
      "    parser = argparse.ArgumentParser()\r\n",
      "    parser.add_argument('--hostname', type=str, required=True)\r\n",
      "    args = parser.parse_args()\r\n",
      "    print('Using hostname:', args.hostname)\r\n",
      "\r\n",
      "    new_skt = socket.socket()\r\n",
      "    host = args.hostname\r\n",
      "    port = 5555 \r\n",
      "    new_skt.bind((host, port))\r\n",
      "    print(\"Now listening on port: %s\" % str(port))\r\n",
      "\r\n",
      "    new_skt.listen(5) #  waiting for client connection.\r\n",
      "    c, addr = new_skt.accept()\r\n",
      "    print(\"Received request from: \" + str(addr))\r\n",
      "    # connection established, send messaged\r\n",
      "    send_messages(c)\r\n",
      "    \r\n"
     ]
    }
   ],
   "source": [
    "! cat utils/producer.py"
   ]
  },
  {
   "cell_type": "markdown",
   "id": "478a375f",
   "metadata": {},
   "source": [
    "The producer will generate new records in the form of a random combination of:\n",
    "- firstname\n",
    "- lastname\n",
    "- amount\n",
    "- delta time\n",
    "- flag\n",
    "\n",
    "These information will be formatted into a .json data format"
   ]
  },
  {
   "cell_type": "markdown",
   "id": "3d127aa0",
   "metadata": {},
   "source": [
    "To declare to Spark that the StreamingContext data source will be a TCP socket, located at a given `hostname` and `port`, we can use the following \n",
    "\n",
    "`socketTextStream(hostname, port)`\n",
    "\n",
    "Have a look at the StreamingContext documentation to see all the available options, at the [link](https://spark.apache.org/docs/latest/api/python/reference/api/pyspark.streaming.StreamingContext.html)"
   ]
  },
  {
   "cell_type": "code",
   "execution_count": 9,
   "id": "4b95ad16",
   "metadata": {},
   "outputs": [],
   "source": [
    "# create a socket stream from the hostname where we collect data from\n",
    "if CLUSTER_TYPE in ['local', 'docker_container']:\n",
    "    hostname = \"localhost\"\n",
    "    \n",
    "elif CLUSTER_TYPE == 'docker_cluster':\n",
    "    hostname = \"spark-master\"\n",
    "\n",
    "\n",
    "# and set the port to 5555\n",
    "socket_stream = ssc.socketTextStream(hostname, 5555)"
   ]
  },
  {
   "cell_type": "markdown",
   "id": "92ad88b4",
   "metadata": {},
   "source": [
    "#### start the python producer.py script\n",
    "\n",
    "Depending on the Spark deployment mode for this exercise, do either of the following:\n",
    "\n",
    "**Local** \n",
    "- from a terminal, run the python script with the option `--hostname localhost`\n",
    "\n",
    "\n",
    "**Single Docker container**\n",
    "- from a terminal, identify the id of the container using `docker ps`\n",
    "- connect to the Docker container using the `docker exec -it <CONTAINER_ID> bash` command\n",
    "- from the docker container, run the python script with the option `--hostname localhost`\n",
    "  \n",
    "**Docker cluster**\n",
    "- from a terminal, identify the id of the `spark-master` container using `docker ps`\n",
    "- connect to the Docker container using the `docker exec -it <CONTAINER_ID> bash` command\n",
    "- from the docker container, run the python script with the option `--hostname spark-master`"
   ]
  },
  {
   "cell_type": "markdown",
   "id": "163466ca",
   "metadata": {},
   "source": [
    "The first thing we need to to is load the json describing each transaction."
   ]
  },
  {
   "cell_type": "code",
   "execution_count": 10,
   "id": "a3e7ab07",
   "metadata": {},
   "outputs": [],
   "source": [
    "import json\n",
    "\n",
    "# use the map() transformation to apply the same function to all rdds\n",
    "# the function we want to run is the json.load() of the messages\n",
    "json_stream = socket_stream.map(lambda msg: json.loads(msg))"
   ]
  },
  {
   "cell_type": "markdown",
   "id": "64806443",
   "metadata": {},
   "source": [
    "It is possible to print some elements of each batch with `pprint()`. This can be used to explore the RDDs."
   ]
  },
  {
   "cell_type": "code",
   "execution_count": 11,
   "id": "49c29264",
   "metadata": {},
   "outputs": [],
   "source": [
    "json_stream.pprint()"
   ]
  },
  {
   "cell_type": "markdown",
   "id": "dfa0ad3b",
   "metadata": {},
   "source": [
    "Start the computations with `ssc.start()` and stop with `ssc.stop(stopSparkContext=False)`. Remember that after this last instruction the streaming context must be defined again."
   ]
  },
  {
   "cell_type": "code",
   "execution_count": 12,
   "id": "21738d69",
   "metadata": {
    "scrolled": true
   },
   "outputs": [
    {
     "name": "stderr",
     "output_type": "stream",
     "text": [
      "                                                                                \r"
     ]
    },
    {
     "name": "stdout",
     "output_type": "stream",
     "text": [
      "-------------------------------------------\n",
      "Time: 2022-05-17 08:22:26\n",
      "-------------------------------------------\n",
      "{'name': 'John', 'surname': 'Jones', 'amount': '999.35', 'delta_t': '7.83', 'flag': 1}\n",
      "{'name': 'John', 'surname': 'Millers', 'amount': '691.91', 'delta_t': '1.29', 'flag': 0}\n",
      "{'name': 'John', 'surname': 'Smith', 'amount': '558.26', 'delta_t': '9.28', 'flag': 1}\n",
      "{'name': 'Andy', 'surname': 'Jones', 'amount': '412.05', 'delta_t': '7.29', 'flag': 1}\n",
      "{'name': 'John', 'surname': 'Jones', 'amount': '861.39', 'delta_t': '3.87', 'flag': 0}\n",
      "{'name': 'Andy', 'surname': 'Millers', 'amount': '476.84', 'delta_t': '7.16', 'flag': 0}\n",
      "\n"
     ]
    },
    {
     "name": "stderr",
     "output_type": "stream",
     "text": [
      "                                                                                \r"
     ]
    },
    {
     "name": "stdout",
     "output_type": "stream",
     "text": [
      "-------------------------------------------\n",
      "Time: 2022-05-17 08:22:28\n",
      "-------------------------------------------\n",
      "{'name': 'Andy', 'surname': 'Millers', 'amount': '493.26', 'delta_t': '2.52', 'flag': 0}\n",
      "{'name': 'Alice', 'surname': 'Johnson', 'amount': '883.92', 'delta_t': '6.42', 'flag': 0}\n",
      "{'name': 'Alice', 'surname': 'Jones', 'amount': '716.36', 'delta_t': '8.71', 'flag': 0}\n",
      "{'name': 'Alice', 'surname': 'Millers', 'amount': '966.70', 'delta_t': '6.81', 'flag': 1}\n",
      "{'name': 'Joe', 'surname': 'Jones', 'amount': '509.31', 'delta_t': '7.73', 'flag': 0}\n",
      "{'name': 'John', 'surname': 'Smith', 'amount': '174.35', 'delta_t': '7.12', 'flag': 0}\n",
      "{'name': 'John', 'surname': 'Jones', 'amount': '524.66', 'delta_t': '0.95', 'flag': 0}\n",
      "{'name': 'Alice', 'surname': 'Johnson', 'amount': '860.73', 'delta_t': '9.16', 'flag': 1}\n",
      "{'name': 'John', 'surname': 'Smith', 'amount': '654.39', 'delta_t': '5.85', 'flag': 0}\n",
      "{'name': 'John', 'surname': 'Jones', 'amount': '55.76', 'delta_t': '6.99', 'flag': 0}\n",
      "...\n",
      "\n"
     ]
    },
    {
     "name": "stderr",
     "output_type": "stream",
     "text": [
      "                                                                                \r"
     ]
    },
    {
     "name": "stdout",
     "output_type": "stream",
     "text": [
      "-------------------------------------------\n",
      "Time: 2022-05-17 08:22:30\n",
      "-------------------------------------------\n",
      "{'name': 'John', 'surname': 'Smith', 'amount': '502.74', 'delta_t': '5.67', 'flag': 0}\n",
      "{'name': 'John', 'surname': 'Smith', 'amount': '994.56', 'delta_t': '9.74', 'flag': 0}\n",
      "{'name': 'Joe', 'surname': 'Jones', 'amount': '923.01', 'delta_t': '2.87', 'flag': 0}\n",
      "{'name': 'Alice', 'surname': 'Millers', 'amount': '957.97', 'delta_t': '9.62', 'flag': 0}\n",
      "{'name': 'Andy', 'surname': 'Smith', 'amount': '53.69', 'delta_t': '3.61', 'flag': 1}\n",
      "{'name': 'Andy', 'surname': 'Smith', 'amount': '852.39', 'delta_t': '6.34', 'flag': 0}\n",
      "{'name': 'Alice', 'surname': 'Millers', 'amount': '621.82', 'delta_t': '0.71', 'flag': 0}\n",
      "{'name': 'Alice', 'surname': 'Jones', 'amount': '548.69', 'delta_t': '7.78', 'flag': 0}\n",
      "{'name': 'Andy', 'surname': 'Smith', 'amount': '675.73', 'delta_t': '3.49', 'flag': 0}\n",
      "{'name': 'Joe', 'surname': 'Jones', 'amount': '41.75', 'delta_t': '4.20', 'flag': 0}\n",
      "...\n",
      "\n"
     ]
    },
    {
     "name": "stderr",
     "output_type": "stream",
     "text": [
      "                                                                                \r"
     ]
    },
    {
     "name": "stdout",
     "output_type": "stream",
     "text": [
      "-------------------------------------------\n",
      "Time: 2022-05-17 08:22:32\n",
      "-------------------------------------------\n",
      "{'name': 'John', 'surname': 'Millers', 'amount': '320.22', 'delta_t': '5.12', 'flag': 0}\n",
      "{'name': 'Andy', 'surname': 'Johnson', 'amount': '156.95', 'delta_t': '1.60', 'flag': 0}\n",
      "{'name': 'Alice', 'surname': 'Millers', 'amount': '113.32', 'delta_t': '8.96', 'flag': 0}\n",
      "{'name': 'Alice', 'surname': 'Smith', 'amount': '109.42', 'delta_t': '1.52', 'flag': 0}\n",
      "{'name': 'Andy', 'surname': 'Millers', 'amount': '508.72', 'delta_t': '8.73', 'flag': 0}\n",
      "{'name': 'Andy', 'surname': 'Johnson', 'amount': '917.82', 'delta_t': '2.44', 'flag': 0}\n",
      "{'name': 'John', 'surname': 'Johnson', 'amount': '858.18', 'delta_t': '5.27', 'flag': 0}\n",
      "{'name': 'Andy', 'surname': 'Johnson', 'amount': '568.43', 'delta_t': '8.74', 'flag': 1}\n",
      "{'name': 'John', 'surname': 'Johnson', 'amount': '916.86', 'delta_t': '8.22', 'flag': 0}\n",
      "{'name': 'Joe', 'surname': 'Millers', 'amount': '666.68', 'delta_t': '8.64', 'flag': 0}\n",
      "...\n",
      "\n"
     ]
    },
    {
     "name": "stderr",
     "output_type": "stream",
     "text": [
      "                                                                                \r"
     ]
    },
    {
     "name": "stdout",
     "output_type": "stream",
     "text": [
      "-------------------------------------------\n",
      "Time: 2022-05-17 08:22:34\n",
      "-------------------------------------------\n",
      "{'name': 'Andy', 'surname': 'Smith', 'amount': '25.99', 'delta_t': '2.61', 'flag': 0}\n",
      "{'name': 'Alice', 'surname': 'Jones', 'amount': '421.63', 'delta_t': '4.83', 'flag': 1}\n",
      "{'name': 'Joe', 'surname': 'Jones', 'amount': '495.55', 'delta_t': '2.74', 'flag': 0}\n",
      "{'name': 'Alice', 'surname': 'Jones', 'amount': '571.09', 'delta_t': '7.23', 'flag': 1}\n",
      "{'name': 'Joe', 'surname': 'Smith', 'amount': '139.98', 'delta_t': '4.84', 'flag': 0}\n",
      "{'name': 'John', 'surname': 'Jones', 'amount': '952.07', 'delta_t': '4.24', 'flag': 1}\n",
      "{'name': 'Joe', 'surname': 'Johnson', 'amount': '220.32', 'delta_t': '4.78', 'flag': 0}\n",
      "{'name': 'Andy', 'surname': 'Millers', 'amount': '80.61', 'delta_t': '6.44', 'flag': 0}\n",
      "{'name': 'Joe', 'surname': 'Johnson', 'amount': '636.90', 'delta_t': '1.40', 'flag': 0}\n",
      "{'name': 'Joe', 'surname': 'Jones', 'amount': '829.10', 'delta_t': '3.09', 'flag': 0}\n",
      "...\n",
      "\n"
     ]
    },
    {
     "name": "stderr",
     "output_type": "stream",
     "text": [
      "                                                                                \r"
     ]
    },
    {
     "name": "stdout",
     "output_type": "stream",
     "text": [
      "-------------------------------------------\n",
      "Time: 2022-05-17 08:22:36\n",
      "-------------------------------------------\n",
      "{'name': 'Andy', 'surname': 'Millers', 'amount': '384.93', 'delta_t': '9.07', 'flag': 1}\n",
      "{'name': 'Joe', 'surname': 'Jones', 'amount': '264.38', 'delta_t': '8.59', 'flag': 0}\n",
      "{'name': 'Alice', 'surname': 'Jones', 'amount': '338.02', 'delta_t': '2.01', 'flag': 0}\n",
      "{'name': 'Alice', 'surname': 'Millers', 'amount': '320.40', 'delta_t': '6.44', 'flag': 0}\n",
      "{'name': 'John', 'surname': 'Smith', 'amount': '687.02', 'delta_t': '8.74', 'flag': 0}\n",
      "{'name': 'Alice', 'surname': 'Jones', 'amount': '260.13', 'delta_t': '9.74', 'flag': 0}\n",
      "{'name': 'Joe', 'surname': 'Jones', 'amount': '325.59', 'delta_t': '3.60', 'flag': 1}\n",
      "{'name': 'John', 'surname': 'Jones', 'amount': '722.46', 'delta_t': '4.92', 'flag': 0}\n",
      "{'name': 'Alice', 'surname': 'Millers', 'amount': '729.62', 'delta_t': '3.71', 'flag': 0}\n",
      "{'name': 'Joe', 'surname': 'Jones', 'amount': '291.02', 'delta_t': '2.98', 'flag': 0}\n",
      "...\n",
      "\n"
     ]
    },
    {
     "name": "stderr",
     "output_type": "stream",
     "text": [
      "                                                                                \r"
     ]
    },
    {
     "name": "stdout",
     "output_type": "stream",
     "text": [
      "-------------------------------------------\n",
      "Time: 2022-05-17 08:22:38\n",
      "-------------------------------------------\n",
      "{'name': 'John', 'surname': 'Millers', 'amount': '892.76', 'delta_t': '8.97', 'flag': 1}\n",
      "{'name': 'Andy', 'surname': 'Jones', 'amount': '548.41', 'delta_t': '0.03', 'flag': 0}\n",
      "{'name': 'Joe', 'surname': 'Millers', 'amount': '504.18', 'delta_t': '7.89', 'flag': 0}\n",
      "{'name': 'Andy', 'surname': 'Jones', 'amount': '562.21', 'delta_t': '6.93', 'flag': 1}\n",
      "{'name': 'John', 'surname': 'Smith', 'amount': '977.23', 'delta_t': '7.42', 'flag': 0}\n",
      "{'name': 'Andy', 'surname': 'Smith', 'amount': '316.54', 'delta_t': '2.54', 'flag': 0}\n",
      "{'name': 'John', 'surname': 'Jones', 'amount': '53.38', 'delta_t': '0.82', 'flag': 0}\n",
      "{'name': 'Joe', 'surname': 'Jones', 'amount': '410.14', 'delta_t': '2.94', 'flag': 0}\n",
      "{'name': 'Joe', 'surname': 'Johnson', 'amount': '707.59', 'delta_t': '2.60', 'flag': 0}\n",
      "{'name': 'Joe', 'surname': 'Millers', 'amount': '302.63', 'delta_t': '8.93', 'flag': 0}\n",
      "...\n",
      "\n"
     ]
    },
    {
     "name": "stderr",
     "output_type": "stream",
     "text": [
      "                                                                                \r"
     ]
    },
    {
     "name": "stdout",
     "output_type": "stream",
     "text": [
      "-------------------------------------------\n",
      "Time: 2022-05-17 08:22:40\n",
      "-------------------------------------------\n",
      "{'name': 'Andy', 'surname': 'Smith', 'amount': '485.60', 'delta_t': '6.56', 'flag': 1}\n",
      "{'name': 'Joe', 'surname': 'Millers', 'amount': '756.50', 'delta_t': '7.60', 'flag': 0}\n",
      "{'name': 'Joe', 'surname': 'Smith', 'amount': '434.60', 'delta_t': '4.43', 'flag': 0}\n",
      "{'name': 'John', 'surname': 'Millers', 'amount': '307.30', 'delta_t': '0.22', 'flag': 0}\n",
      "{'name': 'Andy', 'surname': 'Smith', 'amount': '876.72', 'delta_t': '1.62', 'flag': 1}\n",
      "{'name': 'Alice', 'surname': 'Millers', 'amount': '513.30', 'delta_t': '2.37', 'flag': 1}\n",
      "{'name': 'Joe', 'surname': 'Smith', 'amount': '657.67', 'delta_t': '8.91', 'flag': 0}\n",
      "{'name': 'Andy', 'surname': 'Jones', 'amount': '395.53', 'delta_t': '6.41', 'flag': 0}\n",
      "{'name': 'Alice', 'surname': 'Johnson', 'amount': '237.26', 'delta_t': '6.69', 'flag': 0}\n",
      "{'name': 'Andy', 'surname': 'Jones', 'amount': '379.30', 'delta_t': '3.86', 'flag': 0}\n",
      "...\n",
      "\n"
     ]
    },
    {
     "name": "stderr",
     "output_type": "stream",
     "text": [
      "                                                                                \r"
     ]
    },
    {
     "name": "stdout",
     "output_type": "stream",
     "text": [
      "-------------------------------------------\n",
      "Time: 2022-05-17 08:22:42\n",
      "-------------------------------------------\n",
      "{'name': 'John', 'surname': 'Smith', 'amount': '420.36', 'delta_t': '8.83', 'flag': 1}\n",
      "{'name': 'Andy', 'surname': 'Millers', 'amount': '603.17', 'delta_t': '7.86', 'flag': 0}\n",
      "{'name': 'Andy', 'surname': 'Millers', 'amount': '91.99', 'delta_t': '9.79', 'flag': 0}\n",
      "{'name': 'Alice', 'surname': 'Jones', 'amount': '982.72', 'delta_t': '3.85', 'flag': 1}\n",
      "{'name': 'Andy', 'surname': 'Jones', 'amount': '535.58', 'delta_t': '1.45', 'flag': 0}\n",
      "{'name': 'Alice', 'surname': 'Millers', 'amount': '145.65', 'delta_t': '0.58', 'flag': 0}\n",
      "{'name': 'John', 'surname': 'Jones', 'amount': '475.81', 'delta_t': '3.08', 'flag': 0}\n",
      "{'name': 'Andy', 'surname': 'Smith', 'amount': '692.78', 'delta_t': '4.79', 'flag': 0}\n",
      "{'name': 'John', 'surname': 'Jones', 'amount': '422.81', 'delta_t': '4.11', 'flag': 1}\n",
      "{'name': 'Andy', 'surname': 'Smith', 'amount': '903.13', 'delta_t': '7.62', 'flag': 0}\n",
      "...\n",
      "\n"
     ]
    },
    {
     "name": "stderr",
     "output_type": "stream",
     "text": [
      "                                                                                \r"
     ]
    },
    {
     "name": "stdout",
     "output_type": "stream",
     "text": [
      "-------------------------------------------\n",
      "Time: 2022-05-17 08:22:44\n",
      "-------------------------------------------\n",
      "{'name': 'Joe', 'surname': 'Jones', 'amount': '590.75', 'delta_t': '3.21', 'flag': 0}\n",
      "{'name': 'Joe', 'surname': 'Johnson', 'amount': '389.61', 'delta_t': '4.80', 'flag': 0}\n",
      "{'name': 'Alice', 'surname': 'Johnson', 'amount': '637.97', 'delta_t': '3.17', 'flag': 0}\n",
      "{'name': 'Joe', 'surname': 'Johnson', 'amount': '442.70', 'delta_t': '1.17', 'flag': 0}\n",
      "{'name': 'Joe', 'surname': 'Jones', 'amount': '269.47', 'delta_t': '6.00', 'flag': 0}\n",
      "{'name': 'Alice', 'surname': 'Johnson', 'amount': '91.31', 'delta_t': '7.69', 'flag': 0}\n",
      "{'name': 'Alice', 'surname': 'Millers', 'amount': '795.14', 'delta_t': '1.98', 'flag': 0}\n",
      "{'name': 'Andy', 'surname': 'Millers', 'amount': '774.13', 'delta_t': '3.14', 'flag': 1}\n",
      "{'name': 'Andy', 'surname': 'Millers', 'amount': '198.19', 'delta_t': '3.39', 'flag': 0}\n",
      "{'name': 'Alice', 'surname': 'Jones', 'amount': '60.48', 'delta_t': '5.23', 'flag': 0}\n",
      "...\n",
      "\n"
     ]
    },
    {
     "name": "stderr",
     "output_type": "stream",
     "text": [
      "                                                                                \r"
     ]
    },
    {
     "name": "stdout",
     "output_type": "stream",
     "text": [
      "-------------------------------------------\n",
      "Time: 2022-05-17 08:22:46\n",
      "-------------------------------------------\n",
      "{'name': 'Alice', 'surname': 'Millers', 'amount': '279.29', 'delta_t': '1.65', 'flag': 0}\n",
      "{'name': 'Andy', 'surname': 'Millers', 'amount': '546.67', 'delta_t': '1.08', 'flag': 0}\n",
      "{'name': 'Alice', 'surname': 'Jones', 'amount': '618.87', 'delta_t': '5.39', 'flag': 0}\n",
      "{'name': 'Andy', 'surname': 'Jones', 'amount': '901.59', 'delta_t': '1.44', 'flag': 0}\n",
      "{'name': 'Andy', 'surname': 'Johnson', 'amount': '737.27', 'delta_t': '2.35', 'flag': 1}\n",
      "{'name': 'Alice', 'surname': 'Jones', 'amount': '393.73', 'delta_t': '4.41', 'flag': 1}\n",
      "{'name': 'Joe', 'surname': 'Millers', 'amount': '879.62', 'delta_t': '3.25', 'flag': 0}\n",
      "{'name': 'John', 'surname': 'Millers', 'amount': '484.50', 'delta_t': '5.06', 'flag': 0}\n",
      "{'name': 'Alice', 'surname': 'Millers', 'amount': '982.02', 'delta_t': '6.00', 'flag': 1}\n",
      "{'name': 'John', 'surname': 'Smith', 'amount': '533.49', 'delta_t': '1.13', 'flag': 0}\n",
      "...\n",
      "\n"
     ]
    },
    {
     "name": "stderr",
     "output_type": "stream",
     "text": [
      "                                                                                \r"
     ]
    },
    {
     "name": "stdout",
     "output_type": "stream",
     "text": [
      "-------------------------------------------\n",
      "Time: 2022-05-17 08:22:48\n",
      "-------------------------------------------\n",
      "{'name': 'Alice', 'surname': 'Jones', 'amount': '939.69', 'delta_t': '8.09', 'flag': 0}\n",
      "{'name': 'Alice', 'surname': 'Millers', 'amount': '155.92', 'delta_t': '7.37', 'flag': 0}\n",
      "{'name': 'Joe', 'surname': 'Jones', 'amount': '364.68', 'delta_t': '4.26', 'flag': 0}\n",
      "{'name': 'Alice', 'surname': 'Millers', 'amount': '223.85', 'delta_t': '0.67', 'flag': 0}\n",
      "{'name': 'John', 'surname': 'Jones', 'amount': '629.63', 'delta_t': '8.50', 'flag': 0}\n",
      "{'name': 'Joe', 'surname': 'Millers', 'amount': '607.17', 'delta_t': '5.61', 'flag': 0}\n",
      "{'name': 'Andy', 'surname': 'Jones', 'amount': '206.68', 'delta_t': '1.91', 'flag': 1}\n",
      "{'name': 'Joe', 'surname': 'Smith', 'amount': '468.07', 'delta_t': '7.92', 'flag': 0}\n",
      "{'name': 'Joe', 'surname': 'Millers', 'amount': '36.21', 'delta_t': '2.15', 'flag': 0}\n",
      "{'name': 'John', 'surname': 'Millers', 'amount': '156.45', 'delta_t': '3.53', 'flag': 0}\n",
      "...\n",
      "\n"
     ]
    },
    {
     "name": "stderr",
     "output_type": "stream",
     "text": [
      "                                                                                \r"
     ]
    },
    {
     "name": "stdout",
     "output_type": "stream",
     "text": [
      "-------------------------------------------\n",
      "Time: 2022-05-17 08:22:50\n",
      "-------------------------------------------\n",
      "{'name': 'Andy', 'surname': 'Johnson', 'amount': '568.54', 'delta_t': '6.28', 'flag': 1}\n",
      "{'name': 'John', 'surname': 'Millers', 'amount': '664.38', 'delta_t': '0.45', 'flag': 0}\n",
      "{'name': 'Joe', 'surname': 'Millers', 'amount': '775.05', 'delta_t': '3.44', 'flag': 0}\n",
      "{'name': 'Alice', 'surname': 'Smith', 'amount': '705.14', 'delta_t': '7.40', 'flag': 0}\n",
      "{'name': 'John', 'surname': 'Millers', 'amount': '109.72', 'delta_t': '7.89', 'flag': 0}\n",
      "{'name': 'Andy', 'surname': 'Smith', 'amount': '384.84', 'delta_t': '0.56', 'flag': 0}\n",
      "{'name': 'Alice', 'surname': 'Jones', 'amount': '407.23', 'delta_t': '4.54', 'flag': 0}\n",
      "{'name': 'Alice', 'surname': 'Jones', 'amount': '527.05', 'delta_t': '1.89', 'flag': 0}\n",
      "{'name': 'Andy', 'surname': 'Jones', 'amount': '517.81', 'delta_t': '5.61', 'flag': 1}\n",
      "{'name': 'Andy', 'surname': 'Johnson', 'amount': '795.85', 'delta_t': '2.09', 'flag': 0}\n",
      "...\n",
      "\n"
     ]
    },
    {
     "name": "stderr",
     "output_type": "stream",
     "text": [
      "                                                                                \r"
     ]
    },
    {
     "name": "stdout",
     "output_type": "stream",
     "text": [
      "-------------------------------------------\n",
      "Time: 2022-05-17 08:22:52\n",
      "-------------------------------------------\n",
      "{'name': 'Joe', 'surname': 'Jones', 'amount': '571.69', 'delta_t': '0.39', 'flag': 0}\n",
      "{'name': 'Joe', 'surname': 'Millers', 'amount': '677.90', 'delta_t': '8.84', 'flag': 0}\n",
      "{'name': 'Joe', 'surname': 'Johnson', 'amount': '926.51', 'delta_t': '3.93', 'flag': 0}\n",
      "{'name': 'John', 'surname': 'Smith', 'amount': '944.25', 'delta_t': '1.06', 'flag': 0}\n",
      "{'name': 'Andy', 'surname': 'Jones', 'amount': '601.31', 'delta_t': '9.72', 'flag': 0}\n",
      "{'name': 'John', 'surname': 'Jones', 'amount': '978.89', 'delta_t': '6.69', 'flag': 0}\n",
      "{'name': 'John', 'surname': 'Millers', 'amount': '647.31', 'delta_t': '4.11', 'flag': 0}\n",
      "{'name': 'Joe', 'surname': 'Johnson', 'amount': '487.91', 'delta_t': '9.91', 'flag': 1}\n",
      "{'name': 'Andy', 'surname': 'Smith', 'amount': '464.75', 'delta_t': '4.08', 'flag': 0}\n",
      "{'name': 'Andy', 'surname': 'Smith', 'amount': '797.89', 'delta_t': '0.70', 'flag': 0}\n",
      "...\n",
      "\n"
     ]
    },
    {
     "name": "stderr",
     "output_type": "stream",
     "text": [
      "                                                                                \r"
     ]
    },
    {
     "name": "stdout",
     "output_type": "stream",
     "text": [
      "-------------------------------------------\n",
      "Time: 2022-05-17 08:22:54\n",
      "-------------------------------------------\n",
      "{'name': 'John', 'surname': 'Smith', 'amount': '381.82', 'delta_t': '2.30', 'flag': 0}\n",
      "{'name': 'Joe', 'surname': 'Jones', 'amount': '717.18', 'delta_t': '9.36', 'flag': 0}\n",
      "{'name': 'Alice', 'surname': 'Johnson', 'amount': '880.76', 'delta_t': '4.66', 'flag': 0}\n",
      "{'name': 'Joe', 'surname': 'Jones', 'amount': '186.50', 'delta_t': '4.81', 'flag': 0}\n",
      "{'name': 'Joe', 'surname': 'Smith', 'amount': '607.42', 'delta_t': '7.68', 'flag': 0}\n",
      "{'name': 'Andy', 'surname': 'Millers', 'amount': '927.91', 'delta_t': '5.88', 'flag': 0}\n",
      "{'name': 'Alice', 'surname': 'Jones', 'amount': '503.04', 'delta_t': '0.05', 'flag': 0}\n",
      "{'name': 'Joe', 'surname': 'Johnson', 'amount': '678.65', 'delta_t': '8.64', 'flag': 1}\n",
      "{'name': 'Alice', 'surname': 'Millers', 'amount': '132.22', 'delta_t': '3.63', 'flag': 1}\n",
      "{'name': 'Alice', 'surname': 'Millers', 'amount': '68.29', 'delta_t': '6.64', 'flag': 0}\n",
      "...\n",
      "\n"
     ]
    },
    {
     "name": "stderr",
     "output_type": "stream",
     "text": [
      "                                                                                \r"
     ]
    },
    {
     "name": "stdout",
     "output_type": "stream",
     "text": [
      "-------------------------------------------\n",
      "Time: 2022-05-17 08:22:56\n",
      "-------------------------------------------\n",
      "{'name': 'John', 'surname': 'Smith', 'amount': '105.75', 'delta_t': '5.42', 'flag': 0}\n",
      "{'name': 'Alice', 'surname': 'Johnson', 'amount': '960.89', 'delta_t': '1.23', 'flag': 0}\n",
      "{'name': 'Andy', 'surname': 'Johnson', 'amount': '202.44', 'delta_t': '6.84', 'flag': 1}\n",
      "{'name': 'John', 'surname': 'Millers', 'amount': '994.57', 'delta_t': '9.34', 'flag': 0}\n",
      "{'name': 'John', 'surname': 'Smith', 'amount': '622.22', 'delta_t': '7.08', 'flag': 0}\n",
      "{'name': 'Alice', 'surname': 'Johnson', 'amount': '89.62', 'delta_t': '1.04', 'flag': 0}\n",
      "{'name': 'Alice', 'surname': 'Johnson', 'amount': '368.80', 'delta_t': '3.58', 'flag': 0}\n",
      "{'name': 'John', 'surname': 'Jones', 'amount': '834.25', 'delta_t': '0.21', 'flag': 0}\n",
      "{'name': 'John', 'surname': 'Smith', 'amount': '989.35', 'delta_t': '3.09', 'flag': 0}\n",
      "{'name': 'Alice', 'surname': 'Smith', 'amount': '12.97', 'delta_t': '7.13', 'flag': 0}\n",
      "...\n",
      "\n"
     ]
    },
    {
     "name": "stderr",
     "output_type": "stream",
     "text": [
      "                                                                                \r"
     ]
    },
    {
     "name": "stdout",
     "output_type": "stream",
     "text": [
      "-------------------------------------------\n",
      "Time: 2022-05-17 08:22:58\n",
      "-------------------------------------------\n",
      "{'name': 'Alice', 'surname': 'Johnson', 'amount': '927.94', 'delta_t': '1.06', 'flag': 1}\n",
      "{'name': 'Joe', 'surname': 'Johnson', 'amount': '141.65', 'delta_t': '3.48', 'flag': 1}\n",
      "{'name': 'Alice', 'surname': 'Smith', 'amount': '511.86', 'delta_t': '6.63', 'flag': 0}\n",
      "{'name': 'Alice', 'surname': 'Millers', 'amount': '278.49', 'delta_t': '4.73', 'flag': 0}\n",
      "{'name': 'Alice', 'surname': 'Millers', 'amount': '205.12', 'delta_t': '5.79', 'flag': 0}\n",
      "{'name': 'John', 'surname': 'Millers', 'amount': '991.53', 'delta_t': '1.33', 'flag': 0}\n",
      "{'name': 'John', 'surname': 'Jones', 'amount': '637.64', 'delta_t': '8.39', 'flag': 0}\n",
      "{'name': 'Andy', 'surname': 'Smith', 'amount': '21.94', 'delta_t': '5.77', 'flag': 0}\n",
      "{'name': 'Joe', 'surname': 'Johnson', 'amount': '354.98', 'delta_t': '9.43', 'flag': 0}\n",
      "{'name': 'Joe', 'surname': 'Jones', 'amount': '782.39', 'delta_t': '2.41', 'flag': 0}\n",
      "...\n",
      "\n"
     ]
    },
    {
     "name": "stderr",
     "output_type": "stream",
     "text": [
      "                                                                                \r"
     ]
    },
    {
     "name": "stdout",
     "output_type": "stream",
     "text": [
      "-------------------------------------------\n",
      "Time: 2022-05-17 08:23:00\n",
      "-------------------------------------------\n",
      "{'name': 'Alice', 'surname': 'Smith', 'amount': '156.61', 'delta_t': '0.95', 'flag': 1}\n",
      "{'name': 'Alice', 'surname': 'Johnson', 'amount': '138.01', 'delta_t': '4.38', 'flag': 0}\n",
      "{'name': 'Joe', 'surname': 'Millers', 'amount': '214.52', 'delta_t': '9.10', 'flag': 0}\n",
      "{'name': 'Alice', 'surname': 'Johnson', 'amount': '756.83', 'delta_t': '1.02', 'flag': 0}\n",
      "{'name': 'John', 'surname': 'Jones', 'amount': '308.12', 'delta_t': '6.38', 'flag': 1}\n",
      "{'name': 'Alice', 'surname': 'Smith', 'amount': '666.26', 'delta_t': '9.52', 'flag': 0}\n",
      "{'name': 'John', 'surname': 'Millers', 'amount': '189.47', 'delta_t': '5.15', 'flag': 0}\n",
      "{'name': 'Alice', 'surname': 'Jones', 'amount': '224.71', 'delta_t': '8.96', 'flag': 0}\n",
      "{'name': 'Joe', 'surname': 'Smith', 'amount': '98.79', 'delta_t': '6.84', 'flag': 1}\n",
      "{'name': 'Alice', 'surname': 'Johnson', 'amount': '170.02', 'delta_t': '4.39', 'flag': 0}\n",
      "...\n",
      "\n"
     ]
    },
    {
     "name": "stderr",
     "output_type": "stream",
     "text": [
      "                                                                                \r"
     ]
    },
    {
     "name": "stdout",
     "output_type": "stream",
     "text": [
      "-------------------------------------------\n",
      "Time: 2022-05-17 08:23:02\n",
      "-------------------------------------------\n",
      "{'name': 'Joe', 'surname': 'Jones', 'amount': '71.64', 'delta_t': '3.89', 'flag': 0}\n",
      "{'name': 'Joe', 'surname': 'Jones', 'amount': '888.91', 'delta_t': '1.01', 'flag': 0}\n",
      "{'name': 'Alice', 'surname': 'Millers', 'amount': '62.04', 'delta_t': '5.29', 'flag': 0}\n",
      "{'name': 'Alice', 'surname': 'Millers', 'amount': '772.70', 'delta_t': '5.54', 'flag': 0}\n",
      "{'name': 'Andy', 'surname': 'Johnson', 'amount': '842.42', 'delta_t': '2.19', 'flag': 0}\n",
      "{'name': 'Alice', 'surname': 'Jones', 'amount': '57.05', 'delta_t': '9.68', 'flag': 0}\n",
      "{'name': 'Alice', 'surname': 'Smith', 'amount': '370.71', 'delta_t': '4.63', 'flag': 0}\n",
      "{'name': 'Alice', 'surname': 'Millers', 'amount': '996.89', 'delta_t': '0.43', 'flag': 1}\n",
      "{'name': 'Andy', 'surname': 'Smith', 'amount': '84.27', 'delta_t': '3.27', 'flag': 1}\n",
      "{'name': 'Alice', 'surname': 'Smith', 'amount': '500.04', 'delta_t': '2.54', 'flag': 1}\n",
      "...\n",
      "\n"
     ]
    },
    {
     "name": "stderr",
     "output_type": "stream",
     "text": [
      "                                                                                \r"
     ]
    },
    {
     "name": "stdout",
     "output_type": "stream",
     "text": [
      "-------------------------------------------\n",
      "Time: 2022-05-17 08:23:04\n",
      "-------------------------------------------\n",
      "{'name': 'Joe', 'surname': 'Smith', 'amount': '809.73', 'delta_t': '6.03', 'flag': 0}\n",
      "{'name': 'John', 'surname': 'Smith', 'amount': '819.64', 'delta_t': '4.71', 'flag': 0}\n",
      "{'name': 'Alice', 'surname': 'Millers', 'amount': '631.27', 'delta_t': '6.23', 'flag': 0}\n",
      "{'name': 'John', 'surname': 'Millers', 'amount': '977.15', 'delta_t': '9.72', 'flag': 1}\n",
      "{'name': 'Joe', 'surname': 'Smith', 'amount': '525.28', 'delta_t': '7.47', 'flag': 1}\n",
      "{'name': 'Joe', 'surname': 'Johnson', 'amount': '935.02', 'delta_t': '9.71', 'flag': 0}\n",
      "{'name': 'Alice', 'surname': 'Jones', 'amount': '130.17', 'delta_t': '2.55', 'flag': 0}\n",
      "{'name': 'Joe', 'surname': 'Millers', 'amount': '167.45', 'delta_t': '5.48', 'flag': 0}\n",
      "{'name': 'Alice', 'surname': 'Millers', 'amount': '822.64', 'delta_t': '1.43', 'flag': 0}\n",
      "{'name': 'Andy', 'surname': 'Millers', 'amount': '293.23', 'delta_t': '9.83', 'flag': 1}\n",
      "...\n",
      "\n"
     ]
    },
    {
     "name": "stderr",
     "output_type": "stream",
     "text": [
      "                                                                                \r"
     ]
    },
    {
     "name": "stdout",
     "output_type": "stream",
     "text": [
      "-------------------------------------------\n",
      "Time: 2022-05-17 08:23:06\n",
      "-------------------------------------------\n",
      "{'name': 'John', 'surname': 'Jones', 'amount': '823.28', 'delta_t': '0.61', 'flag': 0}\n",
      "{'name': 'Joe', 'surname': 'Johnson', 'amount': '86.08', 'delta_t': '2.80', 'flag': 0}\n",
      "{'name': 'John', 'surname': 'Johnson', 'amount': '727.05', 'delta_t': '2.99', 'flag': 1}\n",
      "{'name': 'Alice', 'surname': 'Smith', 'amount': '728.54', 'delta_t': '8.19', 'flag': 0}\n",
      "{'name': 'Alice', 'surname': 'Smith', 'amount': '962.77', 'delta_t': '8.80', 'flag': 0}\n",
      "{'name': 'Alice', 'surname': 'Johnson', 'amount': '800.89', 'delta_t': '2.84', 'flag': 0}\n",
      "{'name': 'Alice', 'surname': 'Johnson', 'amount': '749.12', 'delta_t': '8.44', 'flag': 0}\n",
      "{'name': 'Joe', 'surname': 'Millers', 'amount': '570.90', 'delta_t': '6.13', 'flag': 0}\n",
      "{'name': 'John', 'surname': 'Smith', 'amount': '414.71', 'delta_t': '2.26', 'flag': 1}\n",
      "{'name': 'John', 'surname': 'Jones', 'amount': '917.28', 'delta_t': '5.79', 'flag': 0}\n",
      "...\n",
      "\n"
     ]
    },
    {
     "name": "stderr",
     "output_type": "stream",
     "text": [
      "                                                                                \r"
     ]
    },
    {
     "name": "stdout",
     "output_type": "stream",
     "text": [
      "-------------------------------------------\n",
      "Time: 2022-05-17 08:23:08\n",
      "-------------------------------------------\n",
      "{'name': 'Andy', 'surname': 'Smith', 'amount': '47.10', 'delta_t': '5.25', 'flag': 0}\n",
      "{'name': 'Andy', 'surname': 'Smith', 'amount': '953.67', 'delta_t': '6.00', 'flag': 0}\n",
      "{'name': 'John', 'surname': 'Johnson', 'amount': '886.81', 'delta_t': '6.63', 'flag': 0}\n",
      "{'name': 'Joe', 'surname': 'Johnson', 'amount': '72.04', 'delta_t': '5.56', 'flag': 0}\n",
      "{'name': 'Andy', 'surname': 'Jones', 'amount': '367.99', 'delta_t': '6.70', 'flag': 0}\n",
      "{'name': 'John', 'surname': 'Smith', 'amount': '750.35', 'delta_t': '7.33', 'flag': 0}\n",
      "{'name': 'Andy', 'surname': 'Smith', 'amount': '519.23', 'delta_t': '9.08', 'flag': 0}\n",
      "{'name': 'John', 'surname': 'Millers', 'amount': '675.04', 'delta_t': '6.70', 'flag': 0}\n",
      "{'name': 'John', 'surname': 'Johnson', 'amount': '901.36', 'delta_t': '7.21', 'flag': 1}\n",
      "{'name': 'Alice', 'surname': 'Millers', 'amount': '469.94', 'delta_t': '2.14', 'flag': 0}\n",
      "...\n",
      "\n"
     ]
    },
    {
     "name": "stderr",
     "output_type": "stream",
     "text": [
      "                                                                                \r"
     ]
    },
    {
     "name": "stdout",
     "output_type": "stream",
     "text": [
      "-------------------------------------------\n",
      "Time: 2022-05-17 08:23:10\n",
      "-------------------------------------------\n",
      "{'name': 'John', 'surname': 'Smith', 'amount': '460.70', 'delta_t': '7.07', 'flag': 0}\n",
      "{'name': 'Alice', 'surname': 'Millers', 'amount': '739.71', 'delta_t': '0.61', 'flag': 0}\n",
      "{'name': 'John', 'surname': 'Jones', 'amount': '30.45', 'delta_t': '0.98', 'flag': 0}\n",
      "{'name': 'Alice', 'surname': 'Smith', 'amount': '179.95', 'delta_t': '7.25', 'flag': 0}\n",
      "{'name': 'Andy', 'surname': 'Johnson', 'amount': '9.02', 'delta_t': '6.31', 'flag': 0}\n",
      "{'name': 'Joe', 'surname': 'Millers', 'amount': '588.80', 'delta_t': '0.58', 'flag': 0}\n",
      "{'name': 'Andy', 'surname': 'Jones', 'amount': '324.44', 'delta_t': '9.50', 'flag': 1}\n",
      "{'name': 'Andy', 'surname': 'Smith', 'amount': '954.58', 'delta_t': '1.04', 'flag': 0}\n",
      "{'name': 'John', 'surname': 'Smith', 'amount': '557.64', 'delta_t': '5.91', 'flag': 0}\n",
      "{'name': 'Alice', 'surname': 'Johnson', 'amount': '651.11', 'delta_t': '9.70', 'flag': 1}\n",
      "...\n",
      "\n"
     ]
    },
    {
     "name": "stderr",
     "output_type": "stream",
     "text": [
      "                                                                                \r"
     ]
    },
    {
     "name": "stdout",
     "output_type": "stream",
     "text": [
      "-------------------------------------------\n",
      "Time: 2022-05-17 08:23:12\n",
      "-------------------------------------------\n",
      "{'name': 'John', 'surname': 'Smith', 'amount': '833.70', 'delta_t': '6.29', 'flag': 0}\n",
      "{'name': 'Andy', 'surname': 'Jones', 'amount': '694.45', 'delta_t': '0.25', 'flag': 0}\n",
      "{'name': 'Andy', 'surname': 'Millers', 'amount': '437.71', 'delta_t': '5.06', 'flag': 0}\n",
      "{'name': 'Alice', 'surname': 'Smith', 'amount': '682.84', 'delta_t': '1.25', 'flag': 0}\n",
      "{'name': 'John', 'surname': 'Jones', 'amount': '953.50', 'delta_t': '3.08', 'flag': 1}\n",
      "{'name': 'Andy', 'surname': 'Smith', 'amount': '415.26', 'delta_t': '0.64', 'flag': 0}\n",
      "{'name': 'Andy', 'surname': 'Johnson', 'amount': '486.85', 'delta_t': '7.62', 'flag': 1}\n",
      "{'name': 'Andy', 'surname': 'Millers', 'amount': '591.12', 'delta_t': '6.58', 'flag': 0}\n",
      "{'name': 'John', 'surname': 'Jones', 'amount': '854.13', 'delta_t': '1.97', 'flag': 0}\n",
      "{'name': 'Joe', 'surname': 'Johnson', 'amount': '531.93', 'delta_t': '0.90', 'flag': 0}\n",
      "...\n",
      "\n"
     ]
    },
    {
     "name": "stderr",
     "output_type": "stream",
     "text": [
      "                                                                                \r"
     ]
    },
    {
     "name": "stdout",
     "output_type": "stream",
     "text": [
      "-------------------------------------------\n",
      "Time: 2022-05-17 08:23:14\n",
      "-------------------------------------------\n",
      "{'name': 'Alice', 'surname': 'Smith', 'amount': '777.97', 'delta_t': '0.21', 'flag': 0}\n",
      "{'name': 'Alice', 'surname': 'Jones', 'amount': '982.06', 'delta_t': '9.52', 'flag': 0}\n",
      "{'name': 'John', 'surname': 'Johnson', 'amount': '931.89', 'delta_t': '6.31', 'flag': 0}\n",
      "{'name': 'John', 'surname': 'Jones', 'amount': '692.10', 'delta_t': '0.63', 'flag': 0}\n",
      "{'name': 'Joe', 'surname': 'Smith', 'amount': '464.47', 'delta_t': '8.54', 'flag': 0}\n",
      "{'name': 'Andy', 'surname': 'Jones', 'amount': '384.48', 'delta_t': '7.11', 'flag': 0}\n",
      "{'name': 'Andy', 'surname': 'Johnson', 'amount': '683.16', 'delta_t': '9.10', 'flag': 0}\n",
      "{'name': 'Alice', 'surname': 'Millers', 'amount': '592.35', 'delta_t': '2.50', 'flag': 0}\n",
      "{'name': 'John', 'surname': 'Jones', 'amount': '83.17', 'delta_t': '1.02', 'flag': 1}\n",
      "{'name': 'Andy', 'surname': 'Jones', 'amount': '369.31', 'delta_t': '6.53', 'flag': 0}\n",
      "...\n",
      "\n"
     ]
    },
    {
     "name": "stderr",
     "output_type": "stream",
     "text": [
      "                                                                                \r"
     ]
    },
    {
     "name": "stdout",
     "output_type": "stream",
     "text": [
      "-------------------------------------------\n",
      "Time: 2022-05-17 08:23:16\n",
      "-------------------------------------------\n",
      "{'name': 'Joe', 'surname': 'Johnson', 'amount': '567.88', 'delta_t': '6.66', 'flag': 0}\n",
      "{'name': 'Alice', 'surname': 'Johnson', 'amount': '266.42', 'delta_t': '7.46', 'flag': 0}\n",
      "{'name': 'Alice', 'surname': 'Millers', 'amount': '99.14', 'delta_t': '9.72', 'flag': 1}\n",
      "{'name': 'Andy', 'surname': 'Jones', 'amount': '683.82', 'delta_t': '4.57', 'flag': 0}\n",
      "{'name': 'Andy', 'surname': 'Smith', 'amount': '486.81', 'delta_t': '3.11', 'flag': 1}\n",
      "{'name': 'John', 'surname': 'Johnson', 'amount': '976.27', 'delta_t': '3.69', 'flag': 0}\n",
      "{'name': 'John', 'surname': 'Smith', 'amount': '443.86', 'delta_t': '0.11', 'flag': 0}\n",
      "{'name': 'Andy', 'surname': 'Johnson', 'amount': '377.41', 'delta_t': '6.56', 'flag': 0}\n",
      "{'name': 'Alice', 'surname': 'Millers', 'amount': '940.05', 'delta_t': '8.81', 'flag': 0}\n",
      "{'name': 'Joe', 'surname': 'Johnson', 'amount': '92.97', 'delta_t': '9.89', 'flag': 1}\n",
      "...\n",
      "\n"
     ]
    },
    {
     "name": "stderr",
     "output_type": "stream",
     "text": [
      "                                                                                \r"
     ]
    },
    {
     "name": "stdout",
     "output_type": "stream",
     "text": [
      "-------------------------------------------\n",
      "Time: 2022-05-17 08:23:18\n",
      "-------------------------------------------\n",
      "{'name': 'Andy', 'surname': 'Johnson', 'amount': '637.88', 'delta_t': '5.81', 'flag': 0}\n",
      "{'name': 'Andy', 'surname': 'Smith', 'amount': '849.43', 'delta_t': '1.67', 'flag': 0}\n",
      "{'name': 'Joe', 'surname': 'Millers', 'amount': '3.48', 'delta_t': '4.66', 'flag': 0}\n",
      "{'name': 'Alice', 'surname': 'Johnson', 'amount': '859.65', 'delta_t': '4.58', 'flag': 0}\n",
      "{'name': 'John', 'surname': 'Smith', 'amount': '719.48', 'delta_t': '0.32', 'flag': 0}\n",
      "{'name': 'Alice', 'surname': 'Smith', 'amount': '36.67', 'delta_t': '0.58', 'flag': 1}\n",
      "{'name': 'John', 'surname': 'Jones', 'amount': '789.63', 'delta_t': '0.43', 'flag': 0}\n",
      "{'name': 'Andy', 'surname': 'Millers', 'amount': '124.29', 'delta_t': '9.62', 'flag': 0}\n",
      "{'name': 'Joe', 'surname': 'Smith', 'amount': '530.60', 'delta_t': '3.77', 'flag': 1}\n",
      "{'name': 'Joe', 'surname': 'Millers', 'amount': '716.68', 'delta_t': '3.23', 'flag': 0}\n",
      "...\n",
      "\n"
     ]
    },
    {
     "name": "stderr",
     "output_type": "stream",
     "text": [
      "                                                                                \r"
     ]
    },
    {
     "name": "stdout",
     "output_type": "stream",
     "text": [
      "-------------------------------------------\n",
      "Time: 2022-05-17 08:23:20\n",
      "-------------------------------------------\n",
      "{'name': 'Alice', 'surname': 'Millers', 'amount': '511.30', 'delta_t': '2.34', 'flag': 0}\n",
      "{'name': 'Alice', 'surname': 'Smith', 'amount': '89.07', 'delta_t': '1.91', 'flag': 0}\n",
      "{'name': 'John', 'surname': 'Jones', 'amount': '74.79', 'delta_t': '2.12', 'flag': 0}\n",
      "{'name': 'John', 'surname': 'Jones', 'amount': '413.42', 'delta_t': '6.86', 'flag': 0}\n",
      "{'name': 'Alice', 'surname': 'Smith', 'amount': '538.61', 'delta_t': '0.65', 'flag': 0}\n",
      "{'name': 'John', 'surname': 'Millers', 'amount': '154.06', 'delta_t': '1.18', 'flag': 0}\n",
      "{'name': 'Andy', 'surname': 'Smith', 'amount': '945.36', 'delta_t': '3.61', 'flag': 1}\n",
      "{'name': 'John', 'surname': 'Jones', 'amount': '986.10', 'delta_t': '4.98', 'flag': 0}\n",
      "{'name': 'Alice', 'surname': 'Millers', 'amount': '924.92', 'delta_t': '8.57', 'flag': 0}\n",
      "{'name': 'John', 'surname': 'Jones', 'amount': '608.30', 'delta_t': '9.88', 'flag': 0}\n",
      "...\n",
      "\n"
     ]
    },
    {
     "name": "stderr",
     "output_type": "stream",
     "text": [
      "                                                                                \r"
     ]
    },
    {
     "name": "stdout",
     "output_type": "stream",
     "text": [
      "-------------------------------------------\n",
      "Time: 2022-05-17 08:23:22\n",
      "-------------------------------------------\n",
      "{'name': 'Andy', 'surname': 'Jones', 'amount': '103.25', 'delta_t': '2.83', 'flag': 0}\n",
      "{'name': 'Andy', 'surname': 'Smith', 'amount': '483.35', 'delta_t': '4.30', 'flag': 1}\n",
      "{'name': 'Alice', 'surname': 'Jones', 'amount': '256.53', 'delta_t': '4.51', 'flag': 0}\n",
      "{'name': 'Joe', 'surname': 'Millers', 'amount': '391.82', 'delta_t': '2.39', 'flag': 0}\n",
      "{'name': 'Alice', 'surname': 'Johnson', 'amount': '21.42', 'delta_t': '9.49', 'flag': 1}\n",
      "{'name': 'Joe', 'surname': 'Millers', 'amount': '840.27', 'delta_t': '7.86', 'flag': 0}\n",
      "{'name': 'Andy', 'surname': 'Smith', 'amount': '922.78', 'delta_t': '7.91', 'flag': 0}\n",
      "{'name': 'Joe', 'surname': 'Millers', 'amount': '53.91', 'delta_t': '1.93', 'flag': 0}\n",
      "{'name': 'Andy', 'surname': 'Millers', 'amount': '543.53', 'delta_t': '6.09', 'flag': 0}\n",
      "{'name': 'Joe', 'surname': 'Johnson', 'amount': '859.53', 'delta_t': '1.60', 'flag': 0}\n",
      "...\n",
      "\n"
     ]
    },
    {
     "name": "stderr",
     "output_type": "stream",
     "text": [
      "                                                                                \r"
     ]
    },
    {
     "name": "stdout",
     "output_type": "stream",
     "text": [
      "-------------------------------------------\n",
      "Time: 2022-05-17 08:23:24\n",
      "-------------------------------------------\n",
      "{'name': 'Andy', 'surname': 'Millers', 'amount': '865.83', 'delta_t': '7.58', 'flag': 0}\n",
      "{'name': 'Andy', 'surname': 'Jones', 'amount': '269.03', 'delta_t': '8.83', 'flag': 0}\n",
      "{'name': 'Joe', 'surname': 'Jones', 'amount': '747.82', 'delta_t': '8.04', 'flag': 0}\n",
      "{'name': 'Alice', 'surname': 'Millers', 'amount': '400.90', 'delta_t': '1.32', 'flag': 1}\n",
      "{'name': 'Joe', 'surname': 'Johnson', 'amount': '873.80', 'delta_t': '8.05', 'flag': 0}\n",
      "{'name': 'Alice', 'surname': 'Smith', 'amount': '80.49', 'delta_t': '6.37', 'flag': 1}\n",
      "{'name': 'Alice', 'surname': 'Johnson', 'amount': '271.37', 'delta_t': '1.36', 'flag': 0}\n",
      "{'name': 'Alice', 'surname': 'Millers', 'amount': '647.95', 'delta_t': '8.31', 'flag': 0}\n",
      "{'name': 'Joe', 'surname': 'Smith', 'amount': '253.41', 'delta_t': '6.57', 'flag': 0}\n",
      "{'name': 'John', 'surname': 'Millers', 'amount': '980.97', 'delta_t': '0.07', 'flag': 0}\n",
      "...\n",
      "\n"
     ]
    },
    {
     "name": "stderr",
     "output_type": "stream",
     "text": [
      "                                                                                \r"
     ]
    },
    {
     "name": "stdout",
     "output_type": "stream",
     "text": [
      "-------------------------------------------\n",
      "Time: 2022-05-17 08:23:26\n",
      "-------------------------------------------\n",
      "{'name': 'Joe', 'surname': 'Jones', 'amount': '411.46', 'delta_t': '0.41', 'flag': 1}\n",
      "{'name': 'Alice', 'surname': 'Smith', 'amount': '932.88', 'delta_t': '1.12', 'flag': 0}\n",
      "{'name': 'Joe', 'surname': 'Smith', 'amount': '405.43', 'delta_t': '1.56', 'flag': 0}\n",
      "{'name': 'Andy', 'surname': 'Jones', 'amount': '260.02', 'delta_t': '8.83', 'flag': 0}\n",
      "{'name': 'John', 'surname': 'Jones', 'amount': '427.15', 'delta_t': '9.52', 'flag': 0}\n",
      "{'name': 'Joe', 'surname': 'Johnson', 'amount': '410.96', 'delta_t': '9.68', 'flag': 0}\n",
      "{'name': 'John', 'surname': 'Johnson', 'amount': '215.53', 'delta_t': '6.30', 'flag': 0}\n",
      "{'name': 'Alice', 'surname': 'Jones', 'amount': '505.03', 'delta_t': '4.85', 'flag': 1}\n",
      "{'name': 'Andy', 'surname': 'Johnson', 'amount': '933.09', 'delta_t': '4.58', 'flag': 0}\n",
      "{'name': 'Alice', 'surname': 'Millers', 'amount': '358.42', 'delta_t': '7.75', 'flag': 0}\n",
      "...\n",
      "\n"
     ]
    },
    {
     "name": "stderr",
     "output_type": "stream",
     "text": [
      "                                                                                \r"
     ]
    },
    {
     "name": "stdout",
     "output_type": "stream",
     "text": [
      "-------------------------------------------\n",
      "Time: 2022-05-17 08:23:28\n",
      "-------------------------------------------\n",
      "{'name': 'Andy', 'surname': 'Smith', 'amount': '767.46', 'delta_t': '8.19', 'flag': 0}\n",
      "{'name': 'Joe', 'surname': 'Jones', 'amount': '327.47', 'delta_t': '2.01', 'flag': 0}\n",
      "{'name': 'Andy', 'surname': 'Johnson', 'amount': '227.84', 'delta_t': '6.95', 'flag': 0}\n",
      "{'name': 'Joe', 'surname': 'Johnson', 'amount': '523.81', 'delta_t': '5.10', 'flag': 0}\n",
      "{'name': 'Andy', 'surname': 'Jones', 'amount': '254.41', 'delta_t': '0.98', 'flag': 0}\n",
      "{'name': 'John', 'surname': 'Johnson', 'amount': '875.00', 'delta_t': '5.58', 'flag': 0}\n",
      "{'name': 'John', 'surname': 'Johnson', 'amount': '263.45', 'delta_t': '7.81', 'flag': 0}\n",
      "{'name': 'Alice', 'surname': 'Millers', 'amount': '803.43', 'delta_t': '4.20', 'flag': 1}\n",
      "{'name': 'John', 'surname': 'Millers', 'amount': '308.76', 'delta_t': '9.17', 'flag': 0}\n",
      "{'name': 'Andy', 'surname': 'Smith', 'amount': '434.61', 'delta_t': '4.66', 'flag': 0}\n",
      "...\n",
      "\n"
     ]
    },
    {
     "name": "stderr",
     "output_type": "stream",
     "text": [
      "                                                                                \r"
     ]
    },
    {
     "name": "stdout",
     "output_type": "stream",
     "text": [
      "-------------------------------------------\n",
      "Time: 2022-05-17 08:23:30\n",
      "-------------------------------------------\n",
      "{'name': 'Joe', 'surname': 'Johnson', 'amount': '147.95', 'delta_t': '4.58', 'flag': 0}\n",
      "{'name': 'Alice', 'surname': 'Jones', 'amount': '417.50', 'delta_t': '3.29', 'flag': 0}\n",
      "{'name': 'Alice', 'surname': 'Johnson', 'amount': '869.28', 'delta_t': '4.58', 'flag': 0}\n",
      "{'name': 'John', 'surname': 'Johnson', 'amount': '549.51', 'delta_t': '3.97', 'flag': 0}\n",
      "{'name': 'John', 'surname': 'Johnson', 'amount': '576.09', 'delta_t': '4.06', 'flag': 0}\n",
      "{'name': 'John', 'surname': 'Millers', 'amount': '22.49', 'delta_t': '1.32', 'flag': 0}\n",
      "{'name': 'John', 'surname': 'Johnson', 'amount': '708.63', 'delta_t': '3.41', 'flag': 0}\n",
      "{'name': 'Andy', 'surname': 'Smith', 'amount': '807.90', 'delta_t': '3.43', 'flag': 0}\n",
      "{'name': 'Andy', 'surname': 'Smith', 'amount': '664.34', 'delta_t': '2.94', 'flag': 0}\n",
      "{'name': 'Joe', 'surname': 'Jones', 'amount': '551.52', 'delta_t': '3.50', 'flag': 1}\n",
      "...\n",
      "\n"
     ]
    },
    {
     "name": "stderr",
     "output_type": "stream",
     "text": [
      "                                                                                \r"
     ]
    },
    {
     "name": "stdout",
     "output_type": "stream",
     "text": [
      "-------------------------------------------\n",
      "Time: 2022-05-17 08:23:32\n",
      "-------------------------------------------\n",
      "{'name': 'Alice', 'surname': 'Johnson', 'amount': '510.37', 'delta_t': '3.16', 'flag': 1}\n",
      "{'name': 'Alice', 'surname': 'Johnson', 'amount': '371.63', 'delta_t': '0.11', 'flag': 1}\n",
      "{'name': 'Alice', 'surname': 'Smith', 'amount': '935.06', 'delta_t': '6.32', 'flag': 0}\n",
      "{'name': 'Joe', 'surname': 'Jones', 'amount': '183.82', 'delta_t': '9.06', 'flag': 1}\n",
      "{'name': 'Alice', 'surname': 'Johnson', 'amount': '488.10', 'delta_t': '2.36', 'flag': 1}\n",
      "{'name': 'Alice', 'surname': 'Millers', 'amount': '204.56', 'delta_t': '6.81', 'flag': 0}\n",
      "{'name': 'Andy', 'surname': 'Millers', 'amount': '338.12', 'delta_t': '3.33', 'flag': 0}\n",
      "{'name': 'John', 'surname': 'Millers', 'amount': '448.50', 'delta_t': '5.80', 'flag': 0}\n",
      "{'name': 'Joe', 'surname': 'Millers', 'amount': '767.38', 'delta_t': '1.42', 'flag': 0}\n",
      "{'name': 'Alice', 'surname': 'Jones', 'amount': '542.81', 'delta_t': '0.79', 'flag': 0}\n",
      "...\n",
      "\n"
     ]
    },
    {
     "name": "stderr",
     "output_type": "stream",
     "text": [
      "                                                                                \r"
     ]
    },
    {
     "name": "stdout",
     "output_type": "stream",
     "text": [
      "-------------------------------------------\n",
      "Time: 2022-05-17 08:23:34\n",
      "-------------------------------------------\n",
      "{'name': 'Joe', 'surname': 'Smith', 'amount': '139.85', 'delta_t': '8.28', 'flag': 0}\n",
      "{'name': 'John', 'surname': 'Johnson', 'amount': '27.04', 'delta_t': '6.89', 'flag': 1}\n",
      "{'name': 'Joe', 'surname': 'Smith', 'amount': '900.74', 'delta_t': '7.93', 'flag': 0}\n",
      "{'name': 'Joe', 'surname': 'Smith', 'amount': '514.82', 'delta_t': '6.33', 'flag': 0}\n",
      "{'name': 'Andy', 'surname': 'Johnson', 'amount': '525.47', 'delta_t': '6.45', 'flag': 0}\n",
      "{'name': 'Andy', 'surname': 'Millers', 'amount': '941.67', 'delta_t': '7.02', 'flag': 1}\n",
      "{'name': 'Alice', 'surname': 'Johnson', 'amount': '609.25', 'delta_t': '5.16', 'flag': 0}\n",
      "{'name': 'Joe', 'surname': 'Smith', 'amount': '474.41', 'delta_t': '8.82', 'flag': 0}\n",
      "{'name': 'John', 'surname': 'Smith', 'amount': '514.80', 'delta_t': '8.15', 'flag': 0}\n",
      "{'name': 'Andy', 'surname': 'Jones', 'amount': '508.76', 'delta_t': '1.63', 'flag': 0}\n",
      "...\n",
      "\n"
     ]
    },
    {
     "name": "stderr",
     "output_type": "stream",
     "text": [
      "                                                                                \r"
     ]
    },
    {
     "name": "stdout",
     "output_type": "stream",
     "text": [
      "-------------------------------------------\n",
      "Time: 2022-05-17 08:23:36\n",
      "-------------------------------------------\n",
      "{'name': 'Andy', 'surname': 'Johnson', 'amount': '941.01', 'delta_t': '4.66', 'flag': 0}\n",
      "{'name': 'John', 'surname': 'Johnson', 'amount': '630.03', 'delta_t': '3.52', 'flag': 0}\n",
      "{'name': 'John', 'surname': 'Smith', 'amount': '988.27', 'delta_t': '6.54', 'flag': 0}\n",
      "{'name': 'Andy', 'surname': 'Johnson', 'amount': '595.68', 'delta_t': '5.16', 'flag': 0}\n",
      "{'name': 'John', 'surname': 'Smith', 'amount': '520.72', 'delta_t': '3.14', 'flag': 0}\n",
      "{'name': 'Joe', 'surname': 'Smith', 'amount': '26.42', 'delta_t': '5.33', 'flag': 0}\n",
      "{'name': 'Joe', 'surname': 'Smith', 'amount': '465.89', 'delta_t': '2.87', 'flag': 0}\n",
      "{'name': 'John', 'surname': 'Smith', 'amount': '11.25', 'delta_t': '1.61', 'flag': 0}\n",
      "{'name': 'Alice', 'surname': 'Johnson', 'amount': '43.47', 'delta_t': '4.61', 'flag': 0}\n",
      "{'name': 'John', 'surname': 'Johnson', 'amount': '585.53', 'delta_t': '2.27', 'flag': 0}\n",
      "...\n",
      "\n"
     ]
    },
    {
     "name": "stderr",
     "output_type": "stream",
     "text": [
      "                                                                                \r"
     ]
    },
    {
     "name": "stdout",
     "output_type": "stream",
     "text": [
      "-------------------------------------------\n",
      "Time: 2022-05-17 08:23:38\n",
      "-------------------------------------------\n",
      "{'name': 'Alice', 'surname': 'Jones', 'amount': '624.57', 'delta_t': '6.36', 'flag': 0}\n",
      "{'name': 'Andy', 'surname': 'Jones', 'amount': '899.59', 'delta_t': '3.54', 'flag': 0}\n",
      "{'name': 'Joe', 'surname': 'Jones', 'amount': '493.44', 'delta_t': '1.04', 'flag': 1}\n",
      "{'name': 'John', 'surname': 'Smith', 'amount': '991.52', 'delta_t': '7.47', 'flag': 0}\n",
      "{'name': 'Alice', 'surname': 'Smith', 'amount': '950.61', 'delta_t': '3.46', 'flag': 0}\n",
      "{'name': 'Joe', 'surname': 'Millers', 'amount': '947.23', 'delta_t': '3.49', 'flag': 1}\n",
      "{'name': 'John', 'surname': 'Johnson', 'amount': '438.06', 'delta_t': '6.60', 'flag': 0}\n",
      "{'name': 'John', 'surname': 'Smith', 'amount': '69.40', 'delta_t': '0.85', 'flag': 0}\n",
      "{'name': 'Andy', 'surname': 'Jones', 'amount': '66.07', 'delta_t': '3.52', 'flag': 0}\n",
      "{'name': 'Joe', 'surname': 'Johnson', 'amount': '343.31', 'delta_t': '5.46', 'flag': 0}\n",
      "...\n",
      "\n"
     ]
    },
    {
     "name": "stderr",
     "output_type": "stream",
     "text": [
      "                                                                                \r"
     ]
    },
    {
     "name": "stdout",
     "output_type": "stream",
     "text": [
      "-------------------------------------------\n",
      "Time: 2022-05-17 08:23:40\n",
      "-------------------------------------------\n",
      "{'name': 'Andy', 'surname': 'Jones', 'amount': '533.13', 'delta_t': '5.15', 'flag': 0}\n",
      "{'name': 'John', 'surname': 'Jones', 'amount': '995.26', 'delta_t': '1.06', 'flag': 0}\n",
      "{'name': 'Andy', 'surname': 'Johnson', 'amount': '619.46', 'delta_t': '8.92', 'flag': 0}\n",
      "{'name': 'John', 'surname': 'Millers', 'amount': '433.39', 'delta_t': '7.16', 'flag': 0}\n",
      "{'name': 'Andy', 'surname': 'Jones', 'amount': '537.16', 'delta_t': '9.10', 'flag': 1}\n",
      "{'name': 'Joe', 'surname': 'Jones', 'amount': '652.10', 'delta_t': '8.29', 'flag': 0}\n",
      "{'name': 'Alice', 'surname': 'Jones', 'amount': '312.38', 'delta_t': '4.43', 'flag': 0}\n",
      "{'name': 'Joe', 'surname': 'Johnson', 'amount': '891.62', 'delta_t': '5.64', 'flag': 0}\n",
      "{'name': 'John', 'surname': 'Millers', 'amount': '380.01', 'delta_t': '5.78', 'flag': 1}\n",
      "{'name': 'Alice', 'surname': 'Jones', 'amount': '394.59', 'delta_t': '9.75', 'flag': 0}\n",
      "...\n",
      "\n"
     ]
    },
    {
     "name": "stderr",
     "output_type": "stream",
     "text": [
      "                                                                                \r"
     ]
    },
    {
     "name": "stdout",
     "output_type": "stream",
     "text": [
      "-------------------------------------------\n",
      "Time: 2022-05-17 08:23:42\n",
      "-------------------------------------------\n",
      "{'name': 'Andy', 'surname': 'Millers', 'amount': '712.57', 'delta_t': '7.89', 'flag': 0}\n",
      "{'name': 'Joe', 'surname': 'Millers', 'amount': '516.33', 'delta_t': '7.41', 'flag': 0}\n",
      "{'name': 'Andy', 'surname': 'Johnson', 'amount': '620.40', 'delta_t': '1.27', 'flag': 1}\n",
      "{'name': 'Andy', 'surname': 'Johnson', 'amount': '926.66', 'delta_t': '8.26', 'flag': 0}\n",
      "{'name': 'Alice', 'surname': 'Millers', 'amount': '673.66', 'delta_t': '8.48', 'flag': 0}\n",
      "{'name': 'Alice', 'surname': 'Jones', 'amount': '621.39', 'delta_t': '9.79', 'flag': 0}\n",
      "{'name': 'Alice', 'surname': 'Millers', 'amount': '850.00', 'delta_t': '5.37', 'flag': 0}\n",
      "{'name': 'Joe', 'surname': 'Jones', 'amount': '26.40', 'delta_t': '6.24', 'flag': 0}\n",
      "{'name': 'Joe', 'surname': 'Johnson', 'amount': '303.00', 'delta_t': '4.06', 'flag': 1}\n",
      "{'name': 'John', 'surname': 'Millers', 'amount': '782.99', 'delta_t': '6.46', 'flag': 0}\n",
      "...\n",
      "\n"
     ]
    },
    {
     "name": "stderr",
     "output_type": "stream",
     "text": [
      "                                                                                \r"
     ]
    },
    {
     "name": "stdout",
     "output_type": "stream",
     "text": [
      "-------------------------------------------\n",
      "Time: 2022-05-17 08:23:44\n",
      "-------------------------------------------\n",
      "{'name': 'Joe', 'surname': 'Jones', 'amount': '149.41', 'delta_t': '0.37', 'flag': 1}\n",
      "{'name': 'Alice', 'surname': 'Jones', 'amount': '339.45', 'delta_t': '7.81', 'flag': 1}\n",
      "{'name': 'Alice', 'surname': 'Johnson', 'amount': '984.75', 'delta_t': '0.70', 'flag': 1}\n",
      "{'name': 'Andy', 'surname': 'Smith', 'amount': '29.42', 'delta_t': '4.22', 'flag': 0}\n",
      "{'name': 'Alice', 'surname': 'Jones', 'amount': '377.60', 'delta_t': '2.83', 'flag': 1}\n",
      "{'name': 'Joe', 'surname': 'Johnson', 'amount': '619.65', 'delta_t': '6.29', 'flag': 0}\n",
      "{'name': 'Andy', 'surname': 'Smith', 'amount': '934.76', 'delta_t': '9.03', 'flag': 0}\n",
      "{'name': 'Alice', 'surname': 'Smith', 'amount': '336.66', 'delta_t': '7.88', 'flag': 0}\n",
      "{'name': 'Alice', 'surname': 'Millers', 'amount': '395.22', 'delta_t': '8.52', 'flag': 1}\n",
      "{'name': 'John', 'surname': 'Johnson', 'amount': '278.66', 'delta_t': '5.23', 'flag': 0}\n",
      "...\n",
      "\n"
     ]
    },
    {
     "name": "stderr",
     "output_type": "stream",
     "text": [
      "                                                                                \r"
     ]
    },
    {
     "name": "stdout",
     "output_type": "stream",
     "text": [
      "-------------------------------------------\n",
      "Time: 2022-05-17 08:23:46\n",
      "-------------------------------------------\n",
      "{'name': 'Joe', 'surname': 'Millers', 'amount': '325.13', 'delta_t': '6.37', 'flag': 0}\n",
      "{'name': 'John', 'surname': 'Smith', 'amount': '741.80', 'delta_t': '4.76', 'flag': 0}\n",
      "{'name': 'Joe', 'surname': 'Jones', 'amount': '18.79', 'delta_t': '4.85', 'flag': 0}\n",
      "{'name': 'Joe', 'surname': 'Millers', 'amount': '744.72', 'delta_t': '4.54', 'flag': 0}\n",
      "{'name': 'Andy', 'surname': 'Johnson', 'amount': '464.94', 'delta_t': '6.98', 'flag': 0}\n",
      "{'name': 'Andy', 'surname': 'Millers', 'amount': '111.96', 'delta_t': '4.28', 'flag': 0}\n",
      "{'name': 'John', 'surname': 'Millers', 'amount': '952.18', 'delta_t': '6.07', 'flag': 1}\n",
      "{'name': 'Joe', 'surname': 'Smith', 'amount': '907.05', 'delta_t': '1.93', 'flag': 0}\n",
      "{'name': 'John', 'surname': 'Jones', 'amount': '864.17', 'delta_t': '2.88', 'flag': 0}\n",
      "{'name': 'Alice', 'surname': 'Millers', 'amount': '349.42', 'delta_t': '9.50', 'flag': 0}\n",
      "...\n",
      "\n"
     ]
    },
    {
     "name": "stderr",
     "output_type": "stream",
     "text": [
      "                                                                                \r"
     ]
    },
    {
     "name": "stdout",
     "output_type": "stream",
     "text": [
      "-------------------------------------------\n",
      "Time: 2022-05-17 08:23:48\n",
      "-------------------------------------------\n",
      "{'name': 'Joe', 'surname': 'Johnson', 'amount': '151.06', 'delta_t': '0.44', 'flag': 0}\n",
      "{'name': 'Alice', 'surname': 'Smith', 'amount': '34.55', 'delta_t': '6.47', 'flag': 0}\n",
      "{'name': 'Joe', 'surname': 'Smith', 'amount': '926.44', 'delta_t': '6.00', 'flag': 0}\n",
      "{'name': 'John', 'surname': 'Smith', 'amount': '761.93', 'delta_t': '2.88', 'flag': 0}\n",
      "{'name': 'John', 'surname': 'Millers', 'amount': '571.91', 'delta_t': '6.41', 'flag': 0}\n",
      "{'name': 'Andy', 'surname': 'Millers', 'amount': '781.61', 'delta_t': '1.11', 'flag': 0}\n",
      "{'name': 'Andy', 'surname': 'Jones', 'amount': '947.74', 'delta_t': '6.86', 'flag': 0}\n",
      "{'name': 'Alice', 'surname': 'Millers', 'amount': '807.34', 'delta_t': '9.17', 'flag': 0}\n",
      "{'name': 'Andy', 'surname': 'Johnson', 'amount': '655.33', 'delta_t': '4.86', 'flag': 0}\n",
      "{'name': 'John', 'surname': 'Millers', 'amount': '348.32', 'delta_t': '6.00', 'flag': 0}\n",
      "...\n",
      "\n"
     ]
    },
    {
     "name": "stderr",
     "output_type": "stream",
     "text": [
      "                                                                                \r"
     ]
    },
    {
     "name": "stdout",
     "output_type": "stream",
     "text": [
      "-------------------------------------------\n",
      "Time: 2022-05-17 08:23:50\n",
      "-------------------------------------------\n",
      "{'name': 'John', 'surname': 'Johnson', 'amount': '229.36', 'delta_t': '3.76', 'flag': 0}\n",
      "{'name': 'Alice', 'surname': 'Smith', 'amount': '371.28', 'delta_t': '7.62', 'flag': 0}\n",
      "{'name': 'Joe', 'surname': 'Jones', 'amount': '896.21', 'delta_t': '9.37', 'flag': 1}\n",
      "{'name': 'Alice', 'surname': 'Jones', 'amount': '574.65', 'delta_t': '4.73', 'flag': 0}\n",
      "{'name': 'Alice', 'surname': 'Smith', 'amount': '734.19', 'delta_t': '3.01', 'flag': 1}\n",
      "{'name': 'Alice', 'surname': 'Jones', 'amount': '146.18', 'delta_t': '9.11', 'flag': 1}\n",
      "{'name': 'John', 'surname': 'Johnson', 'amount': '438.38', 'delta_t': '4.72', 'flag': 0}\n",
      "{'name': 'Alice', 'surname': 'Smith', 'amount': '155.22', 'delta_t': '4.88', 'flag': 1}\n",
      "{'name': 'Andy', 'surname': 'Smith', 'amount': '6.53', 'delta_t': '7.64', 'flag': 0}\n",
      "{'name': 'Alice', 'surname': 'Millers', 'amount': '535.52', 'delta_t': '5.46', 'flag': 0}\n",
      "...\n",
      "\n"
     ]
    },
    {
     "name": "stderr",
     "output_type": "stream",
     "text": [
      "                                                                                \r"
     ]
    },
    {
     "name": "stdout",
     "output_type": "stream",
     "text": [
      "-------------------------------------------\n",
      "Time: 2022-05-17 08:23:52\n",
      "-------------------------------------------\n",
      "{'name': 'John', 'surname': 'Johnson', 'amount': '241.22', 'delta_t': '7.33', 'flag': 0}\n",
      "{'name': 'Alice', 'surname': 'Smith', 'amount': '708.81', 'delta_t': '6.33', 'flag': 1}\n",
      "{'name': 'Alice', 'surname': 'Johnson', 'amount': '309.69', 'delta_t': '1.65', 'flag': 0}\n",
      "{'name': 'Alice', 'surname': 'Johnson', 'amount': '911.95', 'delta_t': '1.94', 'flag': 0}\n",
      "{'name': 'Joe', 'surname': 'Smith', 'amount': '339.74', 'delta_t': '2.34', 'flag': 0}\n",
      "{'name': 'Andy', 'surname': 'Johnson', 'amount': '610.82', 'delta_t': '9.35', 'flag': 0}\n",
      "{'name': 'John', 'surname': 'Smith', 'amount': '230.36', 'delta_t': '8.45', 'flag': 0}\n",
      "{'name': 'Andy', 'surname': 'Johnson', 'amount': '590.89', 'delta_t': '9.69', 'flag': 0}\n",
      "{'name': 'Alice', 'surname': 'Millers', 'amount': '417.98', 'delta_t': '2.68', 'flag': 0}\n",
      "{'name': 'Joe', 'surname': 'Smith', 'amount': '376.71', 'delta_t': '6.42', 'flag': 0}\n",
      "...\n",
      "\n"
     ]
    },
    {
     "name": "stderr",
     "output_type": "stream",
     "text": [
      "                                                                                \r"
     ]
    },
    {
     "name": "stdout",
     "output_type": "stream",
     "text": [
      "-------------------------------------------\n",
      "Time: 2022-05-17 08:23:54\n",
      "-------------------------------------------\n",
      "{'name': 'Andy', 'surname': 'Johnson', 'amount': '171.23', 'delta_t': '0.77', 'flag': 1}\n",
      "{'name': 'Joe', 'surname': 'Jones', 'amount': '71.04', 'delta_t': '1.62', 'flag': 0}\n",
      "{'name': 'Alice', 'surname': 'Millers', 'amount': '232.61', 'delta_t': '7.48', 'flag': 0}\n",
      "{'name': 'John', 'surname': 'Johnson', 'amount': '758.24', 'delta_t': '8.28', 'flag': 0}\n",
      "{'name': 'Andy', 'surname': 'Johnson', 'amount': '124.73', 'delta_t': '1.51', 'flag': 0}\n",
      "{'name': 'John', 'surname': 'Jones', 'amount': '859.25', 'delta_t': '6.93', 'flag': 0}\n",
      "{'name': 'Joe', 'surname': 'Johnson', 'amount': '277.31', 'delta_t': '7.85', 'flag': 0}\n",
      "{'name': 'John', 'surname': 'Jones', 'amount': '367.84', 'delta_t': '3.31', 'flag': 0}\n",
      "{'name': 'John', 'surname': 'Smith', 'amount': '656.68', 'delta_t': '8.88', 'flag': 0}\n",
      "{'name': 'Alice', 'surname': 'Johnson', 'amount': '805.47', 'delta_t': '3.02', 'flag': 0}\n",
      "...\n",
      "\n"
     ]
    },
    {
     "name": "stderr",
     "output_type": "stream",
     "text": [
      "                                                                                \r"
     ]
    },
    {
     "name": "stdout",
     "output_type": "stream",
     "text": [
      "-------------------------------------------\n",
      "Time: 2022-05-17 08:23:56\n",
      "-------------------------------------------\n",
      "{'name': 'Alice', 'surname': 'Millers', 'amount': '351.50', 'delta_t': '9.62', 'flag': 0}\n",
      "{'name': 'Joe', 'surname': 'Jones', 'amount': '786.94', 'delta_t': '0.45', 'flag': 0}\n",
      "{'name': 'Andy', 'surname': 'Jones', 'amount': '197.47', 'delta_t': '8.98', 'flag': 0}\n",
      "{'name': 'Alice', 'surname': 'Smith', 'amount': '542.06', 'delta_t': '0.98', 'flag': 0}\n",
      "{'name': 'Joe', 'surname': 'Smith', 'amount': '319.73', 'delta_t': '7.73', 'flag': 0}\n",
      "{'name': 'Joe', 'surname': 'Smith', 'amount': '589.12', 'delta_t': '8.28', 'flag': 0}\n",
      "{'name': 'John', 'surname': 'Johnson', 'amount': '14.34', 'delta_t': '6.61', 'flag': 0}\n",
      "{'name': 'Andy', 'surname': 'Jones', 'amount': '337.17', 'delta_t': '9.70', 'flag': 1}\n",
      "{'name': 'Alice', 'surname': 'Jones', 'amount': '554.62', 'delta_t': '1.69', 'flag': 0}\n",
      "{'name': 'Alice', 'surname': 'Millers', 'amount': '413.17', 'delta_t': '2.83', 'flag': 1}\n",
      "...\n",
      "\n"
     ]
    },
    {
     "name": "stderr",
     "output_type": "stream",
     "text": [
      "                                                                                \r"
     ]
    },
    {
     "name": "stdout",
     "output_type": "stream",
     "text": [
      "-------------------------------------------\n",
      "Time: 2022-05-17 08:23:58\n",
      "-------------------------------------------\n",
      "{'name': 'Alice', 'surname': 'Millers', 'amount': '828.00', 'delta_t': '8.52', 'flag': 0}\n",
      "{'name': 'Andy', 'surname': 'Millers', 'amount': '771.99', 'delta_t': '3.81', 'flag': 0}\n",
      "{'name': 'John', 'surname': 'Johnson', 'amount': '177.72', 'delta_t': '2.54', 'flag': 0}\n",
      "{'name': 'Joe', 'surname': 'Millers', 'amount': '978.94', 'delta_t': '4.80', 'flag': 0}\n",
      "{'name': 'Andy', 'surname': 'Millers', 'amount': '84.80', 'delta_t': '9.58', 'flag': 0}\n",
      "{'name': 'Andy', 'surname': 'Smith', 'amount': '268.39', 'delta_t': '3.15', 'flag': 1}\n",
      "{'name': 'Alice', 'surname': 'Millers', 'amount': '242.55', 'delta_t': '3.70', 'flag': 0}\n",
      "{'name': 'Alice', 'surname': 'Smith', 'amount': '348.85', 'delta_t': '7.81', 'flag': 0}\n",
      "{'name': 'Andy', 'surname': 'Millers', 'amount': '606.82', 'delta_t': '6.68', 'flag': 0}\n",
      "{'name': 'Andy', 'surname': 'Jones', 'amount': '661.82', 'delta_t': '6.78', 'flag': 0}\n",
      "...\n",
      "\n"
     ]
    },
    {
     "name": "stderr",
     "output_type": "stream",
     "text": [
      "                                                                                \r"
     ]
    },
    {
     "name": "stdout",
     "output_type": "stream",
     "text": [
      "-------------------------------------------\n",
      "Time: 2022-05-17 08:24:00\n",
      "-------------------------------------------\n",
      "{'name': 'Andy', 'surname': 'Millers', 'amount': '904.54', 'delta_t': '6.96', 'flag': 0}\n",
      "{'name': 'Alice', 'surname': 'Jones', 'amount': '778.53', 'delta_t': '5.95', 'flag': 0}\n",
      "{'name': 'Andy', 'surname': 'Jones', 'amount': '874.15', 'delta_t': '3.68', 'flag': 0}\n",
      "{'name': 'Joe', 'surname': 'Jones', 'amount': '502.78', 'delta_t': '4.32', 'flag': 0}\n",
      "{'name': 'Joe', 'surname': 'Johnson', 'amount': '908.02', 'delta_t': '0.63', 'flag': 1}\n",
      "{'name': 'Joe', 'surname': 'Johnson', 'amount': '451.05', 'delta_t': '9.63', 'flag': 0}\n",
      "{'name': 'John', 'surname': 'Jones', 'amount': '3.16', 'delta_t': '4.73', 'flag': 1}\n",
      "{'name': 'John', 'surname': 'Smith', 'amount': '849.22', 'delta_t': '4.21', 'flag': 0}\n",
      "{'name': 'Joe', 'surname': 'Millers', 'amount': '24.18', 'delta_t': '6.13', 'flag': 0}\n",
      "{'name': 'Andy', 'surname': 'Jones', 'amount': '931.63', 'delta_t': '0.95', 'flag': 0}\n",
      "...\n",
      "\n"
     ]
    },
    {
     "name": "stderr",
     "output_type": "stream",
     "text": [
      "                                                                                \r"
     ]
    },
    {
     "name": "stdout",
     "output_type": "stream",
     "text": [
      "-------------------------------------------\n",
      "Time: 2022-05-17 08:24:02\n",
      "-------------------------------------------\n",
      "{'name': 'John', 'surname': 'Johnson', 'amount': '217.70', 'delta_t': '8.02', 'flag': 0}\n",
      "{'name': 'Andy', 'surname': 'Johnson', 'amount': '657.52', 'delta_t': '3.50', 'flag': 0}\n",
      "{'name': 'Joe', 'surname': 'Johnson', 'amount': '776.33', 'delta_t': '2.72', 'flag': 0}\n",
      "{'name': 'Andy', 'surname': 'Millers', 'amount': '856.09', 'delta_t': '5.98', 'flag': 0}\n",
      "{'name': 'Joe', 'surname': 'Millers', 'amount': '660.12', 'delta_t': '3.50', 'flag': 1}\n",
      "{'name': 'Joe', 'surname': 'Johnson', 'amount': '292.09', 'delta_t': '3.13', 'flag': 0}\n",
      "{'name': 'John', 'surname': 'Smith', 'amount': '571.92', 'delta_t': '7.67', 'flag': 0}\n",
      "{'name': 'John', 'surname': 'Smith', 'amount': '175.70', 'delta_t': '2.49', 'flag': 0}\n",
      "{'name': 'Andy', 'surname': 'Millers', 'amount': '8.68', 'delta_t': '7.23', 'flag': 1}\n",
      "{'name': 'Joe', 'surname': 'Jones', 'amount': '166.13', 'delta_t': '4.37', 'flag': 1}\n",
      "...\n",
      "\n"
     ]
    },
    {
     "name": "stderr",
     "output_type": "stream",
     "text": [
      "                                                                                \r"
     ]
    },
    {
     "name": "stdout",
     "output_type": "stream",
     "text": [
      "-------------------------------------------\n",
      "Time: 2022-05-17 08:24:04\n",
      "-------------------------------------------\n",
      "{'name': 'Alice', 'surname': 'Millers', 'amount': '590.38', 'delta_t': '2.74', 'flag': 1}\n",
      "{'name': 'John', 'surname': 'Johnson', 'amount': '865.63', 'delta_t': '3.49', 'flag': 0}\n",
      "{'name': 'Andy', 'surname': 'Jones', 'amount': '375.48', 'delta_t': '8.01', 'flag': 0}\n",
      "{'name': 'Andy', 'surname': 'Millers', 'amount': '601.33', 'delta_t': '5.86', 'flag': 0}\n",
      "{'name': 'Andy', 'surname': 'Millers', 'amount': '177.10', 'delta_t': '8.85', 'flag': 0}\n",
      "{'name': 'Andy', 'surname': 'Smith', 'amount': '20.06', 'delta_t': '7.21', 'flag': 1}\n",
      "{'name': 'John', 'surname': 'Johnson', 'amount': '257.98', 'delta_t': '2.20', 'flag': 0}\n",
      "{'name': 'John', 'surname': 'Smith', 'amount': '317.10', 'delta_t': '0.53', 'flag': 0}\n",
      "{'name': 'Joe', 'surname': 'Johnson', 'amount': '610.24', 'delta_t': '4.24', 'flag': 0}\n",
      "{'name': 'John', 'surname': 'Smith', 'amount': '389.00', 'delta_t': '7.65', 'flag': 0}\n",
      "...\n",
      "\n"
     ]
    },
    {
     "name": "stderr",
     "output_type": "stream",
     "text": [
      "                                                                                \r"
     ]
    },
    {
     "name": "stdout",
     "output_type": "stream",
     "text": [
      "-------------------------------------------\n",
      "Time: 2022-05-17 08:24:06\n",
      "-------------------------------------------\n",
      "{'name': 'Joe', 'surname': 'Smith', 'amount': '654.90', 'delta_t': '3.85', 'flag': 0}\n",
      "{'name': 'Andy', 'surname': 'Millers', 'amount': '638.68', 'delta_t': '2.27', 'flag': 0}\n",
      "{'name': 'John', 'surname': 'Jones', 'amount': '782.12', 'delta_t': '5.51', 'flag': 1}\n",
      "{'name': 'Joe', 'surname': 'Smith', 'amount': '1.54', 'delta_t': '1.64', 'flag': 0}\n",
      "{'name': 'Andy', 'surname': 'Millers', 'amount': '707.11', 'delta_t': '3.36', 'flag': 0}\n",
      "{'name': 'Andy', 'surname': 'Millers', 'amount': '977.47', 'delta_t': '2.03', 'flag': 1}\n",
      "{'name': 'Andy', 'surname': 'Smith', 'amount': '25.35', 'delta_t': '5.39', 'flag': 0}\n",
      "{'name': 'Joe', 'surname': 'Smith', 'amount': '245.10', 'delta_t': '0.59', 'flag': 1}\n",
      "{'name': 'Alice', 'surname': 'Johnson', 'amount': '340.21', 'delta_t': '9.02', 'flag': 0}\n",
      "{'name': 'Alice', 'surname': 'Jones', 'amount': '634.37', 'delta_t': '6.11', 'flag': 0}\n",
      "...\n",
      "\n"
     ]
    },
    {
     "name": "stderr",
     "output_type": "stream",
     "text": [
      "                                                                                \r"
     ]
    },
    {
     "name": "stdout",
     "output_type": "stream",
     "text": [
      "-------------------------------------------\n",
      "Time: 2022-05-17 08:24:08\n",
      "-------------------------------------------\n",
      "{'name': 'Joe', 'surname': 'Millers', 'amount': '431.92', 'delta_t': '3.24', 'flag': 0}\n",
      "{'name': 'Joe', 'surname': 'Smith', 'amount': '267.94', 'delta_t': '2.00', 'flag': 1}\n",
      "{'name': 'Alice', 'surname': 'Smith', 'amount': '281.67', 'delta_t': '8.09', 'flag': 0}\n",
      "{'name': 'Alice', 'surname': 'Johnson', 'amount': '915.18', 'delta_t': '4.49', 'flag': 1}\n",
      "{'name': 'Andy', 'surname': 'Smith', 'amount': '396.63', 'delta_t': '3.97', 'flag': 1}\n",
      "{'name': 'Andy', 'surname': 'Jones', 'amount': '354.97', 'delta_t': '2.00', 'flag': 0}\n",
      "{'name': 'John', 'surname': 'Johnson', 'amount': '375.28', 'delta_t': '3.84', 'flag': 0}\n",
      "{'name': 'Alice', 'surname': 'Millers', 'amount': '131.23', 'delta_t': '2.99', 'flag': 0}\n",
      "{'name': 'Joe', 'surname': 'Smith', 'amount': '31.10', 'delta_t': '1.02', 'flag': 0}\n",
      "{'name': 'Andy', 'surname': 'Johnson', 'amount': '886.17', 'delta_t': '5.40', 'flag': 1}\n",
      "...\n",
      "\n"
     ]
    },
    {
     "name": "stderr",
     "output_type": "stream",
     "text": [
      "                                                                                \r"
     ]
    },
    {
     "name": "stdout",
     "output_type": "stream",
     "text": [
      "-------------------------------------------\n",
      "Time: 2022-05-17 08:24:10\n",
      "-------------------------------------------\n",
      "{'name': 'Alice', 'surname': 'Johnson', 'amount': '286.58', 'delta_t': '6.32', 'flag': 0}\n",
      "{'name': 'Andy', 'surname': 'Smith', 'amount': '314.56', 'delta_t': '9.45', 'flag': 0}\n",
      "{'name': 'John', 'surname': 'Smith', 'amount': '951.32', 'delta_t': '8.87', 'flag': 0}\n",
      "{'name': 'Joe', 'surname': 'Johnson', 'amount': '453.13', 'delta_t': '7.95', 'flag': 0}\n",
      "{'name': 'Alice', 'surname': 'Jones', 'amount': '18.57', 'delta_t': '4.99', 'flag': 1}\n",
      "{'name': 'Alice', 'surname': 'Smith', 'amount': '929.03', 'delta_t': '8.98', 'flag': 0}\n",
      "{'name': 'Andy', 'surname': 'Millers', 'amount': '181.03', 'delta_t': '2.59', 'flag': 1}\n",
      "{'name': 'Joe', 'surname': 'Johnson', 'amount': '858.88', 'delta_t': '1.37', 'flag': 0}\n",
      "{'name': 'Joe', 'surname': 'Smith', 'amount': '897.14', 'delta_t': '0.90', 'flag': 0}\n",
      "{'name': 'Alice', 'surname': 'Smith', 'amount': '789.62', 'delta_t': '4.62', 'flag': 0}\n",
      "...\n",
      "\n"
     ]
    },
    {
     "name": "stderr",
     "output_type": "stream",
     "text": [
      "                                                                                \r"
     ]
    },
    {
     "name": "stdout",
     "output_type": "stream",
     "text": [
      "-------------------------------------------\n",
      "Time: 2022-05-17 08:24:12\n",
      "-------------------------------------------\n",
      "{'name': 'Joe', 'surname': 'Smith', 'amount': '216.95', 'delta_t': '3.40', 'flag': 0}\n",
      "{'name': 'John', 'surname': 'Jones', 'amount': '985.97', 'delta_t': '5.75', 'flag': 0}\n",
      "{'name': 'Andy', 'surname': 'Johnson', 'amount': '599.27', 'delta_t': '1.71', 'flag': 1}\n",
      "{'name': 'John', 'surname': 'Jones', 'amount': '686.78', 'delta_t': '6.36', 'flag': 1}\n",
      "{'name': 'John', 'surname': 'Millers', 'amount': '545.78', 'delta_t': '4.29', 'flag': 0}\n",
      "{'name': 'Andy', 'surname': 'Johnson', 'amount': '614.89', 'delta_t': '2.71', 'flag': 0}\n",
      "{'name': 'Alice', 'surname': 'Johnson', 'amount': '308.84', 'delta_t': '8.86', 'flag': 1}\n",
      "{'name': 'Joe', 'surname': 'Jones', 'amount': '684.58', 'delta_t': '0.42', 'flag': 1}\n",
      "{'name': 'Alice', 'surname': 'Johnson', 'amount': '486.73', 'delta_t': '4.03', 'flag': 0}\n",
      "{'name': 'Andy', 'surname': 'Jones', 'amount': '852.93', 'delta_t': '0.58', 'flag': 1}\n",
      "...\n",
      "\n"
     ]
    },
    {
     "name": "stderr",
     "output_type": "stream",
     "text": [
      "                                                                                \r"
     ]
    },
    {
     "name": "stdout",
     "output_type": "stream",
     "text": [
      "-------------------------------------------\n",
      "Time: 2022-05-17 08:24:14\n",
      "-------------------------------------------\n",
      "{'name': 'John', 'surname': 'Jones', 'amount': '643.37', 'delta_t': '7.84', 'flag': 0}\n",
      "{'name': 'Alice', 'surname': 'Millers', 'amount': '312.92', 'delta_t': '1.76', 'flag': 0}\n",
      "{'name': 'Andy', 'surname': 'Millers', 'amount': '669.39', 'delta_t': '0.64', 'flag': 0}\n",
      "{'name': 'Alice', 'surname': 'Johnson', 'amount': '66.11', 'delta_t': '4.27', 'flag': 0}\n",
      "{'name': 'Alice', 'surname': 'Jones', 'amount': '272.64', 'delta_t': '0.01', 'flag': 0}\n",
      "{'name': 'Alice', 'surname': 'Jones', 'amount': '41.87', 'delta_t': '7.11', 'flag': 0}\n",
      "{'name': 'John', 'surname': 'Johnson', 'amount': '894.07', 'delta_t': '9.49', 'flag': 0}\n",
      "{'name': 'Andy', 'surname': 'Jones', 'amount': '467.58', 'delta_t': '10.00', 'flag': 0}\n",
      "{'name': 'Alice', 'surname': 'Jones', 'amount': '767.04', 'delta_t': '7.83', 'flag': 0}\n",
      "{'name': 'Alice', 'surname': 'Millers', 'amount': '983.44', 'delta_t': '5.31', 'flag': 0}\n",
      "...\n",
      "\n"
     ]
    },
    {
     "name": "stderr",
     "output_type": "stream",
     "text": [
      "                                                                                \r"
     ]
    },
    {
     "name": "stdout",
     "output_type": "stream",
     "text": [
      "-------------------------------------------\n",
      "Time: 2022-05-17 08:24:16\n",
      "-------------------------------------------\n",
      "{'name': 'Andy', 'surname': 'Millers', 'amount': '855.97', 'delta_t': '1.75', 'flag': 1}\n",
      "{'name': 'Andy', 'surname': 'Smith', 'amount': '121.54', 'delta_t': '3.00', 'flag': 0}\n",
      "{'name': 'Alice', 'surname': 'Jones', 'amount': '317.02', 'delta_t': '5.81', 'flag': 0}\n",
      "{'name': 'Andy', 'surname': 'Jones', 'amount': '760.69', 'delta_t': '4.87', 'flag': 0}\n",
      "{'name': 'Alice', 'surname': 'Smith', 'amount': '625.05', 'delta_t': '3.10', 'flag': 1}\n",
      "{'name': 'Joe', 'surname': 'Millers', 'amount': '472.26', 'delta_t': '8.65', 'flag': 0}\n",
      "{'name': 'Andy', 'surname': 'Johnson', 'amount': '370.95', 'delta_t': '6.31', 'flag': 0}\n",
      "{'name': 'John', 'surname': 'Jones', 'amount': '835.98', 'delta_t': '5.34', 'flag': 0}\n",
      "{'name': 'Alice', 'surname': 'Smith', 'amount': '125.14', 'delta_t': '5.95', 'flag': 1}\n",
      "{'name': 'Joe', 'surname': 'Jones', 'amount': '662.76', 'delta_t': '8.54', 'flag': 0}\n",
      "...\n",
      "\n"
     ]
    },
    {
     "name": "stderr",
     "output_type": "stream",
     "text": [
      "                                                                                \r"
     ]
    },
    {
     "name": "stdout",
     "output_type": "stream",
     "text": [
      "-------------------------------------------\n",
      "Time: 2022-05-17 08:24:18\n",
      "-------------------------------------------\n",
      "{'name': 'Andy', 'surname': 'Jones', 'amount': '374.79', 'delta_t': '2.78', 'flag': 0}\n",
      "{'name': 'Joe', 'surname': 'Johnson', 'amount': '751.78', 'delta_t': '8.72', 'flag': 0}\n",
      "{'name': 'Joe', 'surname': 'Millers', 'amount': '721.79', 'delta_t': '6.70', 'flag': 0}\n",
      "{'name': 'John', 'surname': 'Jones', 'amount': '398.60', 'delta_t': '3.79', 'flag': 0}\n",
      "{'name': 'John', 'surname': 'Johnson', 'amount': '70.25', 'delta_t': '7.69', 'flag': 0}\n",
      "{'name': 'Andy', 'surname': 'Johnson', 'amount': '189.16', 'delta_t': '7.56', 'flag': 0}\n",
      "{'name': 'Andy', 'surname': 'Johnson', 'amount': '382.14', 'delta_t': '2.24', 'flag': 0}\n",
      "{'name': 'Alice', 'surname': 'Millers', 'amount': '51.24', 'delta_t': '9.09', 'flag': 0}\n",
      "{'name': 'Andy', 'surname': 'Johnson', 'amount': '373.31', 'delta_t': '3.23', 'flag': 0}\n",
      "{'name': 'John', 'surname': 'Johnson', 'amount': '496.93', 'delta_t': '3.60', 'flag': 0}\n",
      "...\n",
      "\n"
     ]
    },
    {
     "name": "stderr",
     "output_type": "stream",
     "text": [
      "                                                                                \r"
     ]
    },
    {
     "name": "stdout",
     "output_type": "stream",
     "text": [
      "-------------------------------------------\n",
      "Time: 2022-05-17 08:24:20\n",
      "-------------------------------------------\n",
      "{'name': 'John', 'surname': 'Smith', 'amount': '21.31', 'delta_t': '9.83', 'flag': 1}\n",
      "{'name': 'John', 'surname': 'Jones', 'amount': '746.93', 'delta_t': '8.87', 'flag': 0}\n",
      "{'name': 'Andy', 'surname': 'Smith', 'amount': '321.93', 'delta_t': '8.98', 'flag': 0}\n",
      "{'name': 'Andy', 'surname': 'Millers', 'amount': '238.92', 'delta_t': '4.32', 'flag': 0}\n",
      "{'name': 'Joe', 'surname': 'Millers', 'amount': '529.20', 'delta_t': '4.46', 'flag': 0}\n",
      "{'name': 'Alice', 'surname': 'Johnson', 'amount': '927.58', 'delta_t': '9.46', 'flag': 0}\n",
      "{'name': 'John', 'surname': 'Smith', 'amount': '616.38', 'delta_t': '9.18', 'flag': 0}\n",
      "{'name': 'John', 'surname': 'Jones', 'amount': '630.61', 'delta_t': '1.31', 'flag': 0}\n",
      "{'name': 'Andy', 'surname': 'Smith', 'amount': '185.54', 'delta_t': '0.42', 'flag': 0}\n",
      "{'name': 'John', 'surname': 'Jones', 'amount': '444.94', 'delta_t': '9.72', 'flag': 0}\n",
      "...\n",
      "\n"
     ]
    },
    {
     "name": "stderr",
     "output_type": "stream",
     "text": [
      "                                                                                \r"
     ]
    },
    {
     "name": "stdout",
     "output_type": "stream",
     "text": [
      "-------------------------------------------\n",
      "Time: 2022-05-17 08:24:22\n",
      "-------------------------------------------\n",
      "{'name': 'John', 'surname': 'Millers', 'amount': '660.64', 'delta_t': '1.64', 'flag': 0}\n",
      "{'name': 'Andy', 'surname': 'Jones', 'amount': '638.85', 'delta_t': '2.55', 'flag': 0}\n",
      "{'name': 'Joe', 'surname': 'Johnson', 'amount': '710.12', 'delta_t': '7.27', 'flag': 0}\n",
      "{'name': 'Andy', 'surname': 'Smith', 'amount': '553.14', 'delta_t': '2.99', 'flag': 1}\n",
      "{'name': 'Alice', 'surname': 'Jones', 'amount': '399.98', 'delta_t': '2.85', 'flag': 0}\n",
      "{'name': 'Alice', 'surname': 'Smith', 'amount': '77.30', 'delta_t': '2.57', 'flag': 1}\n",
      "{'name': 'Alice', 'surname': 'Johnson', 'amount': '546.24', 'delta_t': '8.74', 'flag': 0}\n",
      "{'name': 'Alice', 'surname': 'Millers', 'amount': '40.76', 'delta_t': '3.05', 'flag': 0}\n",
      "{'name': 'Alice', 'surname': 'Johnson', 'amount': '260.61', 'delta_t': '3.85', 'flag': 0}\n",
      "{'name': 'Joe', 'surname': 'Johnson', 'amount': '114.99', 'delta_t': '6.77', 'flag': 0}\n",
      "...\n",
      "\n"
     ]
    },
    {
     "name": "stderr",
     "output_type": "stream",
     "text": [
      "                                                                                \r"
     ]
    },
    {
     "name": "stdout",
     "output_type": "stream",
     "text": [
      "-------------------------------------------\n",
      "Time: 2022-05-17 08:24:24\n",
      "-------------------------------------------\n",
      "{'name': 'John', 'surname': 'Millers', 'amount': '17.64', 'delta_t': '9.65', 'flag': 0}\n",
      "{'name': 'John', 'surname': 'Millers', 'amount': '439.39', 'delta_t': '9.05', 'flag': 0}\n",
      "{'name': 'Joe', 'surname': 'Smith', 'amount': '609.47', 'delta_t': '3.41', 'flag': 0}\n",
      "{'name': 'Alice', 'surname': 'Millers', 'amount': '366.94', 'delta_t': '7.63', 'flag': 0}\n",
      "{'name': 'Andy', 'surname': 'Johnson', 'amount': '70.03', 'delta_t': '2.30', 'flag': 0}\n",
      "{'name': 'Joe', 'surname': 'Johnson', 'amount': '771.14', 'delta_t': '6.41', 'flag': 0}\n",
      "{'name': 'Andy', 'surname': 'Smith', 'amount': '805.63', 'delta_t': '1.94', 'flag': 0}\n",
      "{'name': 'John', 'surname': 'Jones', 'amount': '749.36', 'delta_t': '4.41', 'flag': 0}\n",
      "{'name': 'Andy', 'surname': 'Millers', 'amount': '697.12', 'delta_t': '1.00', 'flag': 1}\n",
      "{'name': 'John', 'surname': 'Jones', 'amount': '370.14', 'delta_t': '7.75', 'flag': 0}\n",
      "...\n",
      "\n"
     ]
    },
    {
     "name": "stderr",
     "output_type": "stream",
     "text": [
      "                                                                                \r"
     ]
    },
    {
     "name": "stdout",
     "output_type": "stream",
     "text": [
      "-------------------------------------------\n",
      "Time: 2022-05-17 08:24:26\n",
      "-------------------------------------------\n",
      "{'name': 'John', 'surname': 'Jones', 'amount': '725.83', 'delta_t': '5.74', 'flag': 0}\n",
      "{'name': 'Alice', 'surname': 'Jones', 'amount': '113.69', 'delta_t': '9.78', 'flag': 0}\n",
      "{'name': 'John', 'surname': 'Johnson', 'amount': '552.97', 'delta_t': '8.97', 'flag': 0}\n",
      "{'name': 'Joe', 'surname': 'Jones', 'amount': '665.51', 'delta_t': '3.13', 'flag': 1}\n",
      "{'name': 'Andy', 'surname': 'Smith', 'amount': '982.02', 'delta_t': '6.79', 'flag': 0}\n",
      "{'name': 'Joe', 'surname': 'Johnson', 'amount': '912.65', 'delta_t': '8.47', 'flag': 0}\n",
      "{'name': 'John', 'surname': 'Johnson', 'amount': '887.41', 'delta_t': '8.94', 'flag': 0}\n",
      "{'name': 'Joe', 'surname': 'Jones', 'amount': '319.71', 'delta_t': '8.06', 'flag': 0}\n",
      "{'name': 'Andy', 'surname': 'Jones', 'amount': '452.77', 'delta_t': '6.52', 'flag': 0}\n",
      "{'name': 'Andy', 'surname': 'Johnson', 'amount': '895.77', 'delta_t': '7.69', 'flag': 0}\n",
      "...\n",
      "\n"
     ]
    },
    {
     "name": "stderr",
     "output_type": "stream",
     "text": [
      "                                                                                \r"
     ]
    },
    {
     "name": "stdout",
     "output_type": "stream",
     "text": [
      "-------------------------------------------\n",
      "Time: 2022-05-17 08:24:28\n",
      "-------------------------------------------\n",
      "{'name': 'John', 'surname': 'Millers', 'amount': '479.91', 'delta_t': '4.44', 'flag': 0}\n",
      "{'name': 'Alice', 'surname': 'Johnson', 'amount': '214.83', 'delta_t': '9.06', 'flag': 1}\n",
      "{'name': 'John', 'surname': 'Millers', 'amount': '197.64', 'delta_t': '3.50', 'flag': 0}\n",
      "{'name': 'Andy', 'surname': 'Johnson', 'amount': '165.97', 'delta_t': '1.15', 'flag': 0}\n",
      "{'name': 'Joe', 'surname': 'Jones', 'amount': '943.17', 'delta_t': '4.79', 'flag': 0}\n",
      "{'name': 'Andy', 'surname': 'Millers', 'amount': '993.40', 'delta_t': '1.51', 'flag': 0}\n",
      "{'name': 'John', 'surname': 'Johnson', 'amount': '805.96', 'delta_t': '7.06', 'flag': 1}\n",
      "{'name': 'Joe', 'surname': 'Smith', 'amount': '75.44', 'delta_t': '5.93', 'flag': 0}\n",
      "{'name': 'Alice', 'surname': 'Johnson', 'amount': '326.22', 'delta_t': '5.17', 'flag': 0}\n",
      "{'name': 'Andy', 'surname': 'Smith', 'amount': '990.22', 'delta_t': '8.59', 'flag': 0}\n",
      "...\n",
      "\n"
     ]
    },
    {
     "name": "stderr",
     "output_type": "stream",
     "text": [
      "                                                                                \r"
     ]
    },
    {
     "name": "stdout",
     "output_type": "stream",
     "text": [
      "-------------------------------------------\n",
      "Time: 2022-05-17 08:24:30\n",
      "-------------------------------------------\n",
      "{'name': 'Joe', 'surname': 'Millers', 'amount': '651.03', 'delta_t': '0.60', 'flag': 0}\n",
      "{'name': 'Alice', 'surname': 'Smith', 'amount': '336.26', 'delta_t': '8.72', 'flag': 0}\n",
      "{'name': 'John', 'surname': 'Jones', 'amount': '47.48', 'delta_t': '4.19', 'flag': 0}\n",
      "{'name': 'Andy', 'surname': 'Smith', 'amount': '131.34', 'delta_t': '1.52', 'flag': 0}\n",
      "{'name': 'Andy', 'surname': 'Jones', 'amount': '709.01', 'delta_t': '2.82', 'flag': 0}\n",
      "{'name': 'Andy', 'surname': 'Smith', 'amount': '605.43', 'delta_t': '3.27', 'flag': 1}\n",
      "{'name': 'John', 'surname': 'Johnson', 'amount': '473.80', 'delta_t': '6.99', 'flag': 1}\n",
      "{'name': 'Alice', 'surname': 'Johnson', 'amount': '96.49', 'delta_t': '4.75', 'flag': 0}\n",
      "{'name': 'Alice', 'surname': 'Smith', 'amount': '53.63', 'delta_t': '9.28', 'flag': 0}\n",
      "{'name': 'Alice', 'surname': 'Smith', 'amount': '62.23', 'delta_t': '1.37', 'flag': 1}\n",
      "...\n",
      "\n"
     ]
    },
    {
     "name": "stderr",
     "output_type": "stream",
     "text": [
      "                                                                                \r"
     ]
    },
    {
     "name": "stdout",
     "output_type": "stream",
     "text": [
      "-------------------------------------------\n",
      "Time: 2022-05-17 08:24:32\n",
      "-------------------------------------------\n",
      "{'name': 'Alice', 'surname': 'Smith', 'amount': '768.86', 'delta_t': '8.65', 'flag': 0}\n",
      "{'name': 'Alice', 'surname': 'Millers', 'amount': '112.82', 'delta_t': '5.29', 'flag': 1}\n",
      "{'name': 'Joe', 'surname': 'Smith', 'amount': '382.57', 'delta_t': '0.24', 'flag': 0}\n",
      "{'name': 'Joe', 'surname': 'Johnson', 'amount': '29.13', 'delta_t': '7.90', 'flag': 1}\n",
      "{'name': 'Joe', 'surname': 'Smith', 'amount': '222.45', 'delta_t': '4.61', 'flag': 0}\n",
      "{'name': 'Alice', 'surname': 'Millers', 'amount': '319.66', 'delta_t': '3.61', 'flag': 0}\n",
      "{'name': 'Joe', 'surname': 'Johnson', 'amount': '60.98', 'delta_t': '0.82', 'flag': 0}\n",
      "{'name': 'Joe', 'surname': 'Smith', 'amount': '230.72', 'delta_t': '2.64', 'flag': 0}\n",
      "{'name': 'Alice', 'surname': 'Johnson', 'amount': '573.25', 'delta_t': '1.02', 'flag': 0}\n",
      "{'name': 'Alice', 'surname': 'Johnson', 'amount': '950.09', 'delta_t': '6.97', 'flag': 0}\n",
      "...\n",
      "\n"
     ]
    },
    {
     "name": "stderr",
     "output_type": "stream",
     "text": [
      "                                                                                \r"
     ]
    },
    {
     "name": "stdout",
     "output_type": "stream",
     "text": [
      "-------------------------------------------\n",
      "Time: 2022-05-17 08:24:34\n",
      "-------------------------------------------\n",
      "{'name': 'Joe', 'surname': 'Johnson', 'amount': '90.96', 'delta_t': '5.97', 'flag': 0}\n",
      "{'name': 'Alice', 'surname': 'Johnson', 'amount': '324.64', 'delta_t': '9.05', 'flag': 0}\n",
      "{'name': 'John', 'surname': 'Johnson', 'amount': '459.37', 'delta_t': '7.89', 'flag': 1}\n",
      "{'name': 'Alice', 'surname': 'Jones', 'amount': '553.84', 'delta_t': '0.91', 'flag': 0}\n",
      "{'name': 'Alice', 'surname': 'Jones', 'amount': '821.04', 'delta_t': '5.66', 'flag': 0}\n",
      "{'name': 'Joe', 'surname': 'Johnson', 'amount': '254.73', 'delta_t': '6.14', 'flag': 0}\n",
      "{'name': 'Andy', 'surname': 'Millers', 'amount': '147.10', 'delta_t': '3.76', 'flag': 0}\n",
      "{'name': 'Alice', 'surname': 'Millers', 'amount': '652.90', 'delta_t': '2.97', 'flag': 0}\n",
      "{'name': 'Joe', 'surname': 'Jones', 'amount': '118.40', 'delta_t': '4.25', 'flag': 0}\n",
      "{'name': 'John', 'surname': 'Jones', 'amount': '199.11', 'delta_t': '1.95', 'flag': 0}\n",
      "...\n",
      "\n"
     ]
    },
    {
     "name": "stderr",
     "output_type": "stream",
     "text": [
      "                                                                                \r"
     ]
    },
    {
     "name": "stdout",
     "output_type": "stream",
     "text": [
      "-------------------------------------------\n",
      "Time: 2022-05-17 08:24:36\n",
      "-------------------------------------------\n",
      "{'name': 'Andy', 'surname': 'Smith', 'amount': '212.14', 'delta_t': '4.87', 'flag': 1}\n",
      "{'name': 'Joe', 'surname': 'Smith', 'amount': '377.00', 'delta_t': '3.88', 'flag': 1}\n",
      "{'name': 'John', 'surname': 'Johnson', 'amount': '803.75', 'delta_t': '7.07', 'flag': 1}\n",
      "{'name': 'Andy', 'surname': 'Smith', 'amount': '386.87', 'delta_t': '9.99', 'flag': 0}\n",
      "{'name': 'Joe', 'surname': 'Smith', 'amount': '911.99', 'delta_t': '5.53', 'flag': 1}\n",
      "{'name': 'John', 'surname': 'Johnson', 'amount': '571.94', 'delta_t': '6.60', 'flag': 0}\n",
      "{'name': 'Joe', 'surname': 'Johnson', 'amount': '796.37', 'delta_t': '6.79', 'flag': 0}\n",
      "{'name': 'Joe', 'surname': 'Millers', 'amount': '155.37', 'delta_t': '7.96', 'flag': 0}\n",
      "{'name': 'Joe', 'surname': 'Millers', 'amount': '356.37', 'delta_t': '6.01', 'flag': 1}\n",
      "{'name': 'John', 'surname': 'Millers', 'amount': '126.07', 'delta_t': '0.43', 'flag': 1}\n",
      "...\n",
      "\n"
     ]
    },
    {
     "name": "stderr",
     "output_type": "stream",
     "text": [
      "                                                                                \r"
     ]
    },
    {
     "name": "stdout",
     "output_type": "stream",
     "text": [
      "-------------------------------------------\n",
      "Time: 2022-05-17 08:24:38\n",
      "-------------------------------------------\n",
      "{'name': 'Joe', 'surname': 'Jones', 'amount': '781.61', 'delta_t': '1.46', 'flag': 0}\n",
      "{'name': 'John', 'surname': 'Millers', 'amount': '736.19', 'delta_t': '2.68', 'flag': 0}\n",
      "{'name': 'John', 'surname': 'Millers', 'amount': '56.76', 'delta_t': '6.13', 'flag': 1}\n",
      "{'name': 'Alice', 'surname': 'Jones', 'amount': '376.41', 'delta_t': '0.51', 'flag': 0}\n",
      "{'name': 'Joe', 'surname': 'Millers', 'amount': '58.02', 'delta_t': '6.76', 'flag': 0}\n",
      "{'name': 'Alice', 'surname': 'Jones', 'amount': '863.19', 'delta_t': '8.03', 'flag': 0}\n",
      "{'name': 'Andy', 'surname': 'Jones', 'amount': '453.21', 'delta_t': '3.44', 'flag': 0}\n",
      "{'name': 'John', 'surname': 'Millers', 'amount': '404.99', 'delta_t': '7.53', 'flag': 0}\n",
      "{'name': 'Andy', 'surname': 'Millers', 'amount': '452.13', 'delta_t': '0.96', 'flag': 0}\n",
      "{'name': 'Joe', 'surname': 'Millers', 'amount': '227.71', 'delta_t': '0.26', 'flag': 0}\n",
      "...\n",
      "\n"
     ]
    },
    {
     "name": "stderr",
     "output_type": "stream",
     "text": [
      "                                                                                \r"
     ]
    },
    {
     "name": "stdout",
     "output_type": "stream",
     "text": [
      "-------------------------------------------\n",
      "Time: 2022-05-17 08:24:40\n",
      "-------------------------------------------\n",
      "{'name': 'Joe', 'surname': 'Millers', 'amount': '148.91', 'delta_t': '7.85', 'flag': 0}\n",
      "{'name': 'Alice', 'surname': 'Millers', 'amount': '377.41', 'delta_t': '4.32', 'flag': 0}\n",
      "{'name': 'Andy', 'surname': 'Jones', 'amount': '369.08', 'delta_t': '6.99', 'flag': 1}\n",
      "{'name': 'Joe', 'surname': 'Smith', 'amount': '535.94', 'delta_t': '6.10', 'flag': 1}\n",
      "{'name': 'Joe', 'surname': 'Millers', 'amount': '165.07', 'delta_t': '4.25', 'flag': 0}\n",
      "{'name': 'Joe', 'surname': 'Johnson', 'amount': '681.19', 'delta_t': '4.70', 'flag': 0}\n",
      "{'name': 'Joe', 'surname': 'Jones', 'amount': '369.00', 'delta_t': '5.36', 'flag': 0}\n",
      "{'name': 'Joe', 'surname': 'Millers', 'amount': '264.44', 'delta_t': '5.44', 'flag': 0}\n",
      "{'name': 'Joe', 'surname': 'Millers', 'amount': '706.28', 'delta_t': '6.30', 'flag': 0}\n",
      "{'name': 'Joe', 'surname': 'Smith', 'amount': '15.05', 'delta_t': '1.34', 'flag': 0}\n",
      "...\n",
      "\n"
     ]
    },
    {
     "name": "stderr",
     "output_type": "stream",
     "text": [
      "                                                                                \r"
     ]
    },
    {
     "name": "stdout",
     "output_type": "stream",
     "text": [
      "-------------------------------------------\n",
      "Time: 2022-05-17 08:24:42\n",
      "-------------------------------------------\n",
      "{'name': 'John', 'surname': 'Millers', 'amount': '334.72', 'delta_t': '7.14', 'flag': 0}\n",
      "{'name': 'Andy', 'surname': 'Jones', 'amount': '88.13', 'delta_t': '4.80', 'flag': 1}\n",
      "{'name': 'Joe', 'surname': 'Johnson', 'amount': '9.39', 'delta_t': '5.43', 'flag': 0}\n",
      "{'name': 'Joe', 'surname': 'Jones', 'amount': '204.09', 'delta_t': '1.69', 'flag': 1}\n",
      "{'name': 'Joe', 'surname': 'Johnson', 'amount': '312.94', 'delta_t': '3.40', 'flag': 1}\n",
      "{'name': 'Joe', 'surname': 'Millers', 'amount': '960.20', 'delta_t': '9.62', 'flag': 0}\n",
      "{'name': 'Andy', 'surname': 'Millers', 'amount': '241.05', 'delta_t': '1.58', 'flag': 1}\n",
      "{'name': 'Andy', 'surname': 'Johnson', 'amount': '606.50', 'delta_t': '9.15', 'flag': 0}\n",
      "{'name': 'John', 'surname': 'Jones', 'amount': '527.44', 'delta_t': '5.68', 'flag': 0}\n",
      "{'name': 'John', 'surname': 'Johnson', 'amount': '684.42', 'delta_t': '0.33', 'flag': 0}\n",
      "...\n",
      "\n"
     ]
    },
    {
     "name": "stderr",
     "output_type": "stream",
     "text": [
      "                                                                                \r"
     ]
    },
    {
     "name": "stdout",
     "output_type": "stream",
     "text": [
      "-------------------------------------------\n",
      "Time: 2022-05-17 08:24:44\n",
      "-------------------------------------------\n",
      "{'name': 'Alice', 'surname': 'Johnson', 'amount': '166.01', 'delta_t': '9.97', 'flag': 1}\n",
      "{'name': 'Andy', 'surname': 'Millers', 'amount': '211.13', 'delta_t': '1.43', 'flag': 1}\n",
      "{'name': 'Alice', 'surname': 'Millers', 'amount': '864.34', 'delta_t': '0.95', 'flag': 1}\n",
      "{'name': 'Alice', 'surname': 'Smith', 'amount': '241.74', 'delta_t': '4.84', 'flag': 0}\n",
      "{'name': 'John', 'surname': 'Smith', 'amount': '784.31', 'delta_t': '3.25', 'flag': 0}\n",
      "{'name': 'Joe', 'surname': 'Johnson', 'amount': '39.83', 'delta_t': '2.77', 'flag': 1}\n",
      "{'name': 'Alice', 'surname': 'Jones', 'amount': '404.90', 'delta_t': '9.65', 'flag': 0}\n",
      "{'name': 'Andy', 'surname': 'Millers', 'amount': '416.96', 'delta_t': '8.90', 'flag': 0}\n",
      "{'name': 'Andy', 'surname': 'Millers', 'amount': '19.11', 'delta_t': '3.06', 'flag': 0}\n",
      "{'name': 'John', 'surname': 'Smith', 'amount': '309.08', 'delta_t': '0.38', 'flag': 0}\n",
      "...\n",
      "\n"
     ]
    },
    {
     "name": "stderr",
     "output_type": "stream",
     "text": [
      "                                                                                \r"
     ]
    },
    {
     "name": "stdout",
     "output_type": "stream",
     "text": [
      "-------------------------------------------\n",
      "Time: 2022-05-17 08:24:46\n",
      "-------------------------------------------\n",
      "{'name': 'Joe', 'surname': 'Smith', 'amount': '792.63', 'delta_t': '4.43', 'flag': 0}\n",
      "{'name': 'Andy', 'surname': 'Jones', 'amount': '79.74', 'delta_t': '0.19', 'flag': 1}\n",
      "{'name': 'Andy', 'surname': 'Millers', 'amount': '289.81', 'delta_t': '7.78', 'flag': 0}\n",
      "{'name': 'John', 'surname': 'Johnson', 'amount': '481.41', 'delta_t': '7.58', 'flag': 0}\n",
      "{'name': 'John', 'surname': 'Johnson', 'amount': '372.48', 'delta_t': '2.25', 'flag': 0}\n",
      "{'name': 'Andy', 'surname': 'Johnson', 'amount': '422.58', 'delta_t': '1.18', 'flag': 0}\n",
      "{'name': 'Joe', 'surname': 'Smith', 'amount': '587.43', 'delta_t': '8.99', 'flag': 1}\n",
      "{'name': 'Joe', 'surname': 'Jones', 'amount': '89.28', 'delta_t': '9.20', 'flag': 0}\n",
      "{'name': 'Joe', 'surname': 'Millers', 'amount': '742.30', 'delta_t': '5.51', 'flag': 0}\n",
      "{'name': 'Alice', 'surname': 'Smith', 'amount': '309.65', 'delta_t': '3.08', 'flag': 1}\n",
      "...\n",
      "\n"
     ]
    },
    {
     "name": "stderr",
     "output_type": "stream",
     "text": [
      "                                                                                \r"
     ]
    },
    {
     "name": "stdout",
     "output_type": "stream",
     "text": [
      "-------------------------------------------\n",
      "Time: 2022-05-17 08:24:48\n",
      "-------------------------------------------\n",
      "{'name': 'Alice', 'surname': 'Smith', 'amount': '58.10', 'delta_t': '5.66', 'flag': 0}\n",
      "{'name': 'John', 'surname': 'Millers', 'amount': '283.50', 'delta_t': '5.13', 'flag': 0}\n",
      "{'name': 'Andy', 'surname': 'Jones', 'amount': '887.81', 'delta_t': '4.98', 'flag': 0}\n",
      "{'name': 'Joe', 'surname': 'Millers', 'amount': '431.40', 'delta_t': '3.28', 'flag': 0}\n",
      "{'name': 'Andy', 'surname': 'Millers', 'amount': '840.34', 'delta_t': '0.06', 'flag': 0}\n",
      "{'name': 'Andy', 'surname': 'Jones', 'amount': '132.42', 'delta_t': '5.11', 'flag': 0}\n",
      "{'name': 'Alice', 'surname': 'Millers', 'amount': '724.60', 'delta_t': '8.34', 'flag': 0}\n",
      "{'name': 'John', 'surname': 'Smith', 'amount': '927.52', 'delta_t': '6.73', 'flag': 0}\n",
      "{'name': 'Andy', 'surname': 'Jones', 'amount': '968.11', 'delta_t': '7.86', 'flag': 0}\n",
      "{'name': 'Alice', 'surname': 'Millers', 'amount': '216.47', 'delta_t': '1.04', 'flag': 0}\n",
      "...\n",
      "\n"
     ]
    },
    {
     "name": "stderr",
     "output_type": "stream",
     "text": [
      "                                                                                \r"
     ]
    },
    {
     "name": "stdout",
     "output_type": "stream",
     "text": [
      "-------------------------------------------\n",
      "Time: 2022-05-17 08:24:50\n",
      "-------------------------------------------\n",
      "{'name': 'John', 'surname': 'Millers', 'amount': '159.53', 'delta_t': '2.91', 'flag': 0}\n",
      "{'name': 'Andy', 'surname': 'Millers', 'amount': '321.52', 'delta_t': '1.22', 'flag': 0}\n",
      "{'name': 'John', 'surname': 'Johnson', 'amount': '957.11', 'delta_t': '1.83', 'flag': 0}\n",
      "{'name': 'John', 'surname': 'Johnson', 'amount': '550.13', 'delta_t': '9.68', 'flag': 0}\n",
      "{'name': 'Joe', 'surname': 'Millers', 'amount': '290.61', 'delta_t': '7.00', 'flag': 0}\n",
      "{'name': 'Alice', 'surname': 'Jones', 'amount': '816.65', 'delta_t': '4.60', 'flag': 1}\n",
      "{'name': 'Alice', 'surname': 'Jones', 'amount': '494.90', 'delta_t': '2.32', 'flag': 0}\n",
      "{'name': 'Joe', 'surname': 'Millers', 'amount': '655.73', 'delta_t': '8.60', 'flag': 0}\n",
      "{'name': 'John', 'surname': 'Johnson', 'amount': '151.88', 'delta_t': '9.45', 'flag': 0}\n",
      "{'name': 'Joe', 'surname': 'Jones', 'amount': '113.81', 'delta_t': '7.93', 'flag': 0}\n",
      "...\n",
      "\n"
     ]
    },
    {
     "name": "stderr",
     "output_type": "stream",
     "text": [
      "                                                                                \r"
     ]
    }
   ],
   "source": [
    "ssc.start()"
   ]
  },
  {
   "cell_type": "code",
   "execution_count": 13,
   "id": "c3b52cdb",
   "metadata": {
    "scrolled": false
   },
   "outputs": [
    {
     "name": "stdout",
     "output_type": "stream",
     "text": [
      "-------------------------------------------\n",
      "Time: 2022-05-17 08:24:52\n",
      "-------------------------------------------\n",
      "{'name': 'Andy', 'surname': 'Johnson', 'amount': '701.87', 'delta_t': '9.73', 'flag': 0}\n",
      "{'name': 'Joe', 'surname': 'Millers', 'amount': '681.78', 'delta_t': '9.46', 'flag': 0}\n",
      "{'name': 'John', 'surname': 'Jones', 'amount': '115.43', 'delta_t': '2.18', 'flag': 0}\n",
      "{'name': 'Joe', 'surname': 'Millers', 'amount': '429.87', 'delta_t': '8.95', 'flag': 0}\n",
      "{'name': 'Joe', 'surname': 'Johnson', 'amount': '862.95', 'delta_t': '9.96', 'flag': 1}\n",
      "{'name': 'Andy', 'surname': 'Millers', 'amount': '617.61', 'delta_t': '8.99', 'flag': 1}\n",
      "{'name': 'John', 'surname': 'Johnson', 'amount': '877.68', 'delta_t': '5.12', 'flag': 0}\n",
      "{'name': 'Joe', 'surname': 'Jones', 'amount': '291.51', 'delta_t': '1.55', 'flag': 0}\n",
      "{'name': 'Joe', 'surname': 'Johnson', 'amount': '101.30', 'delta_t': '5.57', 'flag': 0}\n",
      "{'name': 'Alice', 'surname': 'Jones', 'amount': '231.11', 'delta_t': '2.59', 'flag': 0}\n",
      "...\n",
      "\n"
     ]
    },
    {
     "name": "stderr",
     "output_type": "stream",
     "text": [
      "22/05/17 08:24:52 ERROR ReceiverTracker: Deregistered receiver for stream 0: Stopped by driver\n",
      "22/05/17 08:24:52 ERROR TaskSchedulerImpl: Lost executor 3 on 172.19.0.7: Remote RPC client disassociated. Likely due to containers exceeding thresholds, or network issues. Check driver logs for WARN messages.\n"
     ]
    }
   ],
   "source": [
    "ssc.stop(stopSparkContext=False)"
   ]
  },
  {
   "cell_type": "markdown",
   "id": "5b8962c5",
   "metadata": {},
   "source": [
    "Now that we know we can stream data to Spark we would like to start performing basic operations in a distributed fashion.\n",
    "\n",
    "Once the SparkStreamingContext is stopped we have to re-create a new one, as the connection between the socket and Spark is lost.\n",
    "\n",
    "Before running the following cells we should therefore:\n",
    "1. create a new `scc` object\n",
    "2. point it to the proper TCP socket and port\n",
    "3. start again the python producer application"
   ]
  },
  {
   "cell_type": "code",
   "execution_count": 14,
   "id": "90b929f8",
   "metadata": {},
   "outputs": [],
   "source": [
    "# create a new Spark StreamingContext with a batch wall-time of 2 seconds\n",
    "ssc = StreamingContext(sc, 2) "
   ]
  },
  {
   "cell_type": "code",
   "execution_count": 15,
   "id": "d77b1a11",
   "metadata": {},
   "outputs": [],
   "source": [
    "# define the socket stream using the appropriate endpoint and port\n",
    "socket_stream = ssc.socketTextStream(hostname, 5555)"
   ]
  },
  {
   "cell_type": "markdown",
   "id": "b61b304c",
   "metadata": {},
   "source": [
    "#### start once again the python producer script"
   ]
  },
  {
   "cell_type": "markdown",
   "id": "74bb5cc3",
   "metadata": {},
   "source": [
    "We now start listening on the TCP socket, interpreting the input data stream as json loads.\n",
    "\n",
    "Remember to get rid of the `pprint()` action, that would otherwise be performed continously, dumping the input data into the Jupyter cells."
   ]
  },
  {
   "cell_type": "code",
   "execution_count": 16,
   "id": "e75fce98",
   "metadata": {},
   "outputs": [],
   "source": [
    "# create a new json_stream object by reading the json loads from the socket\n",
    "json_stream = socket_stream.map(lambda msg: json.loads(msg))"
   ]
  },
  {
   "cell_type": "markdown",
   "id": "d35f25ac",
   "metadata": {},
   "source": [
    "We may want to convert each batch into a Spark DataFrame to have access to the higher level APIs. \n",
    "\n",
    "In order to do that, let's first convert all the numeric features of the json into python floats and integers variables. \n",
    "This is a simple type cast operation in python, that can be easily parallelized.\n",
    "\n",
    "The python dictionary produced by each json message, re-casted with the proper data types, can then be used to create a `Row`for each transaction."
   ]
  },
  {
   "cell_type": "code",
   "execution_count": 17,
   "id": "c0782d9c",
   "metadata": {},
   "outputs": [],
   "source": [
    "from pyspark.sql import Row\n",
    "\n",
    "# create a row for each message \n",
    "#   convert each numerical value to the proper python type\n",
    "#   create a row from each message\n",
    "def create_row_rdd(t):\n",
    "    t['amount'] = float(t['amount'])\n",
    "    t['delta_t'] = float(t['delta_t'])\n",
    "    t['flag'] = int(t['flag'])\n",
    "    \n",
    "    return Row(**t)\n",
    "\n",
    "# apply the transformation to the json_stream rdd\n",
    "row_stream = json_stream.map(create_row_rdd)"
   ]
  },
  {
   "cell_type": "markdown",
   "id": "fceaa05f",
   "metadata": {},
   "source": [
    "The method `DStream.foreachRDD` can be used to apply custom transformations to each *batch* of data. \n",
    "\n",
    "In our case, we are insterested in converting each batch of data into a Spark dataframe and perform operations, such as finding the number of transactions for each user. \n",
    "\n",
    "For the scope of this simple use-case we can consider that all batches where a user has performed more than one transaction with the `flag` field equal to one can be identified as fraudulent."
   ]
  },
  {
   "cell_type": "code",
   "execution_count": 18,
   "id": "7224636b",
   "metadata": {},
   "outputs": [],
   "source": [
    "# if left unconstrained, Spark might want to create a very \n",
    "# large number of partitions for this streaming application\n",
    "# \n",
    "# using way more partitions than necessary always results in\n",
    "# a huge over-head due to the partition-to-partition communications\n",
    "# \n",
    "# this line is a trick to force Spark to use a small number of partitions\n",
    "# thus making it more efficient in the case of small workloads and few executors\n",
    "\n",
    "spark.conf.set(\"spark.sql.shuffle.partitions\", 4)"
   ]
  },
  {
   "cell_type": "code",
   "execution_count": 19,
   "id": "81cbd75c",
   "metadata": {},
   "outputs": [],
   "source": [
    "from pyspark.sql.functions import concat, col, lit, countDistinct\n",
    "\n",
    "# process each bach to identify possibly fraudolent transactions\n",
    "#   1. convert the rdd into a dataframe (provide the schema if necessary)\n",
    "#   2. compute the number of transactions per batch per user (a unique combination of first_and_lastname)\n",
    "#   3. identify all the \"suspicios\" transactions by counting the number of transactions from a unique user \n",
    "#   3. print the resulting dataframe to mimick a live reporting of the suspicious transactions\n",
    "\n",
    "def process_batch(rdd):\n",
    "    # convert rdd to df\n",
    "    #   check the documentation and/or the Lecture2 notebook \n",
    "    #   for details on how to create and pass a schema to a dataframe   \n",
    "    df = rdd.toDF(\n",
    "        schema='name string, surname string, amount float, delta_t float, flag int'\n",
    "    )\n",
    "    \n",
    "    # find number of transactions for each user when flag = 1 \n",
    "    #    declare a new column to create a unique user identifier \n",
    "    #    this can be easily done by concatenating first- and last-name fields\n",
    "    #    check the concat function from pyspark.sql.functions \n",
    "    num_transactions = (\n",
    "        df\n",
    "        .where(col('flag')==1)\n",
    "        .withColumn('id', concat(col('name'), col('surname')))\n",
    "        .groupBy('id')\n",
    "        .count()\n",
    "    )\n",
    "    \n",
    "    # find suspicious transactions\n",
    "    #    filter only users with more than one transaction per batch\n",
    "    #    create a \"fraud\" column with a value of 1 for the selected users (check the lit function)\n",
    "    #    from the dataframe, project only the unique id and fraud columns\n",
    "    sus_transactions = (\n",
    "        num_transactions\n",
    "        .where(col('count')>1)\n",
    "        .withColumn('fraud', lit(1))\n",
    "        .select(col('id'), col('fraud'))\n",
    "    )\n",
    "    \n",
    "    # (trigger an automatic alert)\n",
    "    # print the first 5 items of the resulting dataframe\n",
    "    sus_transactions.show(5)"
   ]
  },
  {
   "cell_type": "markdown",
   "id": "d5bc37b0",
   "metadata": {},
   "source": [
    "Finally, instruct Spark to execute this `process_batch` function for each RDD you will have in your DStream"
   ]
  },
  {
   "cell_type": "code",
   "execution_count": 20,
   "id": "6ac381b8",
   "metadata": {},
   "outputs": [],
   "source": [
    "row_stream.foreachRDD(process_batch)"
   ]
  },
  {
   "cell_type": "markdown",
   "id": "5d51b635",
   "metadata": {},
   "source": [
    "Now you should be ready to start the spark streaming context"
   ]
  },
  {
   "cell_type": "code",
   "execution_count": 21,
   "id": "07b9ee85",
   "metadata": {
    "scrolled": true
   },
   "outputs": [
    {
     "name": "stderr",
     "output_type": "stream",
     "text": [
      "                                                                                \r"
     ]
    },
    {
     "name": "stdout",
     "output_type": "stream",
     "text": [
      "+---+-----+\n",
      "| id|fraud|\n",
      "+---+-----+\n",
      "+---+-----+\n",
      "\n",
      "+---+-----+\n",
      "| id|fraud|\n",
      "+---+-----+\n",
      "+---+-----+\n",
      "\n",
      "+------------+-----+\n",
      "|          id|fraud|\n",
      "+------------+-----+\n",
      "|AliceMillers|    1|\n",
      "+------------+-----+\n",
      "\n"
     ]
    },
    {
     "name": "stderr",
     "output_type": "stream",
     "text": [
      "                                                                                \r"
     ]
    },
    {
     "name": "stdout",
     "output_type": "stream",
     "text": [
      "+------------+-----+\n",
      "|          id|fraud|\n",
      "+------------+-----+\n",
      "|AliceJohnson|    1|\n",
      "+------------+-----+\n",
      "\n"
     ]
    },
    {
     "name": "stderr",
     "output_type": "stream",
     "text": [
      "                                                                                \r"
     ]
    },
    {
     "name": "stdout",
     "output_type": "stream",
     "text": [
      "+---+-----+\n",
      "| id|fraud|\n",
      "+---+-----+\n",
      "+---+-----+\n",
      "\n"
     ]
    },
    {
     "name": "stderr",
     "output_type": "stream",
     "text": [
      "                                                                                \r"
     ]
    },
    {
     "name": "stdout",
     "output_type": "stream",
     "text": [
      "+---+-----+\n",
      "| id|fraud|\n",
      "+---+-----+\n",
      "+---+-----+\n",
      "\n"
     ]
    },
    {
     "name": "stderr",
     "output_type": "stream",
     "text": [
      "                                                                                \r"
     ]
    },
    {
     "name": "stdout",
     "output_type": "stream",
     "text": [
      "+---+-----+\n",
      "| id|fraud|\n",
      "+---+-----+\n",
      "+---+-----+\n",
      "\n"
     ]
    },
    {
     "name": "stderr",
     "output_type": "stream",
     "text": [
      "                                                                                \r"
     ]
    },
    {
     "name": "stdout",
     "output_type": "stream",
     "text": [
      "+----------+-----+\n",
      "|        id|fraud|\n",
      "+----------+-----+\n",
      "|AliceJones|    1|\n",
      "+----------+-----+\n",
      "\n"
     ]
    },
    {
     "name": "stderr",
     "output_type": "stream",
     "text": [
      "                                                                                \r"
     ]
    },
    {
     "name": "stdout",
     "output_type": "stream",
     "text": [
      "+---+-----+\n",
      "| id|fraud|\n",
      "+---+-----+\n",
      "+---+-----+\n",
      "\n"
     ]
    },
    {
     "name": "stderr",
     "output_type": "stream",
     "text": [
      "                                                                                \r"
     ]
    },
    {
     "name": "stdout",
     "output_type": "stream",
     "text": [
      "+------------+-----+\n",
      "|          id|fraud|\n",
      "+------------+-----+\n",
      "|AliceMillers|    1|\n",
      "+------------+-----+\n",
      "\n"
     ]
    },
    {
     "name": "stderr",
     "output_type": "stream",
     "text": [
      "                                                                                \r"
     ]
    },
    {
     "name": "stdout",
     "output_type": "stream",
     "text": [
      "+----------+-----+\n",
      "|        id|fraud|\n",
      "+----------+-----+\n",
      "|AliceJones|    1|\n",
      "+----------+-----+\n",
      "\n"
     ]
    },
    {
     "name": "stderr",
     "output_type": "stream",
     "text": [
      "                                                                                \r"
     ]
    },
    {
     "name": "stdout",
     "output_type": "stream",
     "text": [
      "+---+-----+\n",
      "| id|fraud|\n",
      "+---+-----+\n",
      "+---+-----+\n",
      "\n"
     ]
    },
    {
     "name": "stderr",
     "output_type": "stream",
     "text": [
      "                                                                                \r"
     ]
    },
    {
     "name": "stdout",
     "output_type": "stream",
     "text": [
      "+---+-----+\n",
      "| id|fraud|\n",
      "+---+-----+\n",
      "+---+-----+\n",
      "\n"
     ]
    },
    {
     "name": "stderr",
     "output_type": "stream",
     "text": [
      "                                                                                \r"
     ]
    },
    {
     "name": "stdout",
     "output_type": "stream",
     "text": [
      "+---+-----+\n",
      "| id|fraud|\n",
      "+---+-----+\n",
      "+---+-----+\n",
      "\n"
     ]
    },
    {
     "name": "stderr",
     "output_type": "stream",
     "text": [
      "                                                                                \r"
     ]
    },
    {
     "name": "stdout",
     "output_type": "stream",
     "text": [
      "+---+-----+\n",
      "| id|fraud|\n",
      "+---+-----+\n",
      "+---+-----+\n",
      "\n"
     ]
    },
    {
     "name": "stderr",
     "output_type": "stream",
     "text": [
      "                                                                                \r"
     ]
    },
    {
     "name": "stdout",
     "output_type": "stream",
     "text": [
      "+---+-----+\n",
      "| id|fraud|\n",
      "+---+-----+\n",
      "+---+-----+\n",
      "\n"
     ]
    },
    {
     "name": "stderr",
     "output_type": "stream",
     "text": [
      "                                                                                \r"
     ]
    },
    {
     "name": "stdout",
     "output_type": "stream",
     "text": [
      "+---+-----+\n",
      "| id|fraud|\n",
      "+---+-----+\n",
      "+---+-----+\n",
      "\n"
     ]
    },
    {
     "name": "stderr",
     "output_type": "stream",
     "text": [
      "                                                                                \r"
     ]
    },
    {
     "name": "stdout",
     "output_type": "stream",
     "text": [
      "+---+-----+\n",
      "| id|fraud|\n",
      "+---+-----+\n",
      "+---+-----+\n",
      "\n"
     ]
    },
    {
     "name": "stderr",
     "output_type": "stream",
     "text": [
      "                                                                                \r"
     ]
    },
    {
     "name": "stdout",
     "output_type": "stream",
     "text": [
      "+---+-----+\n",
      "| id|fraud|\n",
      "+---+-----+\n",
      "+---+-----+\n",
      "\n"
     ]
    },
    {
     "name": "stderr",
     "output_type": "stream",
     "text": [
      "                                                                                \r"
     ]
    },
    {
     "name": "stdout",
     "output_type": "stream",
     "text": [
      "+---+-----+\n",
      "| id|fraud|\n",
      "+---+-----+\n",
      "+---+-----+\n",
      "\n"
     ]
    },
    {
     "name": "stderr",
     "output_type": "stream",
     "text": [
      "                                                                                \r"
     ]
    },
    {
     "name": "stdout",
     "output_type": "stream",
     "text": [
      "+---+-----+\n",
      "| id|fraud|\n",
      "+---+-----+\n",
      "+---+-----+\n",
      "\n"
     ]
    },
    {
     "name": "stderr",
     "output_type": "stream",
     "text": [
      "                                                                                \r"
     ]
    },
    {
     "name": "stdout",
     "output_type": "stream",
     "text": [
      "+---+-----+\n",
      "| id|fraud|\n",
      "+---+-----+\n",
      "+---+-----+\n",
      "\n"
     ]
    },
    {
     "name": "stderr",
     "output_type": "stream",
     "text": [
      "                                                                                \r"
     ]
    },
    {
     "name": "stdout",
     "output_type": "stream",
     "text": [
      "+---+-----+\n",
      "| id|fraud|\n",
      "+---+-----+\n",
      "+---+-----+\n",
      "\n"
     ]
    },
    {
     "name": "stderr",
     "output_type": "stream",
     "text": [
      "                                                                                \r"
     ]
    },
    {
     "name": "stdout",
     "output_type": "stream",
     "text": [
      "+--------+-----+\n",
      "|      id|fraud|\n",
      "+--------+-----+\n",
      "|JoeJones|    1|\n",
      "+--------+-----+\n",
      "\n"
     ]
    },
    {
     "name": "stderr",
     "output_type": "stream",
     "text": [
      "                                                                                \r"
     ]
    },
    {
     "name": "stdout",
     "output_type": "stream",
     "text": [
      "+-----------+-----+\n",
      "|         id|fraud|\n",
      "+-----------+-----+\n",
      "|AndyJohnson|    1|\n",
      "+-----------+-----+\n",
      "\n"
     ]
    },
    {
     "name": "stderr",
     "output_type": "stream",
     "text": [
      "                                                                                \r"
     ]
    },
    {
     "name": "stdout",
     "output_type": "stream",
     "text": [
      "+---+-----+\n",
      "| id|fraud|\n",
      "+---+-----+\n",
      "+---+-----+\n",
      "\n"
     ]
    },
    {
     "name": "stderr",
     "output_type": "stream",
     "text": [
      "                                                                                \r"
     ]
    },
    {
     "name": "stdout",
     "output_type": "stream",
     "text": [
      "+----------+-----+\n",
      "|        id|fraud|\n",
      "+----------+-----+\n",
      "|JoeMillers|    1|\n",
      "+----------+-----+\n",
      "\n"
     ]
    },
    {
     "name": "stderr",
     "output_type": "stream",
     "text": [
      "                                                                                \r"
     ]
    },
    {
     "name": "stdout",
     "output_type": "stream",
     "text": [
      "+---+-----+\n",
      "| id|fraud|\n",
      "+---+-----+\n",
      "+---+-----+\n",
      "\n"
     ]
    },
    {
     "name": "stderr",
     "output_type": "stream",
     "text": [
      "                                                                                \r"
     ]
    },
    {
     "name": "stdout",
     "output_type": "stream",
     "text": [
      "+---+-----+\n",
      "| id|fraud|\n",
      "+---+-----+\n",
      "+---+-----+\n",
      "\n"
     ]
    },
    {
     "name": "stderr",
     "output_type": "stream",
     "text": [
      "                                                                                \r"
     ]
    },
    {
     "name": "stdout",
     "output_type": "stream",
     "text": [
      "+---+-----+\n",
      "| id|fraud|\n",
      "+---+-----+\n",
      "+---+-----+\n",
      "\n"
     ]
    },
    {
     "name": "stderr",
     "output_type": "stream",
     "text": [
      "                                                                                \r"
     ]
    },
    {
     "name": "stdout",
     "output_type": "stream",
     "text": [
      "+---+-----+\n",
      "| id|fraud|\n",
      "+---+-----+\n",
      "+---+-----+\n",
      "\n"
     ]
    },
    {
     "name": "stderr",
     "output_type": "stream",
     "text": [
      "                                                                                \r"
     ]
    },
    {
     "name": "stdout",
     "output_type": "stream",
     "text": [
      "+---+-----+\n",
      "| id|fraud|\n",
      "+---+-----+\n",
      "+---+-----+\n",
      "\n"
     ]
    },
    {
     "name": "stderr",
     "output_type": "stream",
     "text": [
      "                                                                                \r"
     ]
    },
    {
     "name": "stdout",
     "output_type": "stream",
     "text": [
      "+---+-----+\n",
      "| id|fraud|\n",
      "+---+-----+\n",
      "+---+-----+\n",
      "\n"
     ]
    },
    {
     "name": "stderr",
     "output_type": "stream",
     "text": [
      "                                                                                \r"
     ]
    },
    {
     "name": "stdout",
     "output_type": "stream",
     "text": [
      "+---+-----+\n",
      "| id|fraud|\n",
      "+---+-----+\n",
      "+---+-----+\n",
      "\n"
     ]
    },
    {
     "name": "stderr",
     "output_type": "stream",
     "text": [
      "                                                                                \r"
     ]
    },
    {
     "name": "stdout",
     "output_type": "stream",
     "text": [
      "+--------+-----+\n",
      "|      id|fraud|\n",
      "+--------+-----+\n",
      "|JoeSmith|    1|\n",
      "+--------+-----+\n",
      "\n"
     ]
    },
    {
     "name": "stderr",
     "output_type": "stream",
     "text": [
      "                                                                                \r"
     ]
    },
    {
     "name": "stdout",
     "output_type": "stream",
     "text": [
      "+---+-----+\n",
      "| id|fraud|\n",
      "+---+-----+\n",
      "+---+-----+\n",
      "\n"
     ]
    },
    {
     "name": "stderr",
     "output_type": "stream",
     "text": [
      "                                                                                \r"
     ]
    },
    {
     "name": "stdout",
     "output_type": "stream",
     "text": [
      "+---------+-----+\n",
      "|       id|fraud|\n",
      "+---------+-----+\n",
      "|JohnJones|    1|\n",
      "+---------+-----+\n",
      "\n"
     ]
    },
    {
     "name": "stderr",
     "output_type": "stream",
     "text": [
      "                                                                                \r"
     ]
    },
    {
     "name": "stdout",
     "output_type": "stream",
     "text": [
      "+----------+-----+\n",
      "|        id|fraud|\n",
      "+----------+-----+\n",
      "|JoeMillers|    1|\n",
      "+----------+-----+\n",
      "\n"
     ]
    },
    {
     "name": "stderr",
     "output_type": "stream",
     "text": [
      "                                                                                \r"
     ]
    },
    {
     "name": "stdout",
     "output_type": "stream",
     "text": [
      "+-----------+-----+\n",
      "|         id|fraud|\n",
      "+-----------+-----+\n",
      "|JohnMillers|    1|\n",
      "+-----------+-----+\n",
      "\n"
     ]
    },
    {
     "name": "stderr",
     "output_type": "stream",
     "text": [
      "                                                                                \r"
     ]
    },
    {
     "name": "stdout",
     "output_type": "stream",
     "text": [
      "+-----------+-----+\n",
      "|         id|fraud|\n",
      "+-----------+-----+\n",
      "|  AndySmith|    1|\n",
      "|JohnJohnson|    1|\n",
      "+-----------+-----+\n",
      "\n"
     ]
    },
    {
     "name": "stderr",
     "output_type": "stream",
     "text": [
      "                                                                                \r"
     ]
    },
    {
     "name": "stdout",
     "output_type": "stream",
     "text": [
      "+--------+-----+\n",
      "|      id|fraud|\n",
      "+--------+-----+\n",
      "|JoeJones|    1|\n",
      "+--------+-----+\n",
      "\n"
     ]
    },
    {
     "name": "stderr",
     "output_type": "stream",
     "text": [
      "                                                                                \r"
     ]
    },
    {
     "name": "stdout",
     "output_type": "stream",
     "text": [
      "+---+-----+\n",
      "| id|fraud|\n",
      "+---+-----+\n",
      "+---+-----+\n",
      "\n"
     ]
    },
    {
     "name": "stderr",
     "output_type": "stream",
     "text": [
      "                                                                                \r"
     ]
    },
    {
     "name": "stdout",
     "output_type": "stream",
     "text": [
      "+-----------+-----+\n",
      "|         id|fraud|\n",
      "+-----------+-----+\n",
      "|JohnMillers|    1|\n",
      "|AndyJohnson|    1|\n",
      "+-----------+-----+\n",
      "\n"
     ]
    },
    {
     "name": "stderr",
     "output_type": "stream",
     "text": [
      "                                                                                \r"
     ]
    },
    {
     "name": "stdout",
     "output_type": "stream",
     "text": [
      "+---+-----+\n",
      "| id|fraud|\n",
      "+---+-----+\n",
      "+---+-----+\n",
      "\n"
     ]
    },
    {
     "name": "stderr",
     "output_type": "stream",
     "text": [
      "                                                                                \r"
     ]
    },
    {
     "name": "stdout",
     "output_type": "stream",
     "text": [
      "+------------+-----+\n",
      "|          id|fraud|\n",
      "+------------+-----+\n",
      "|AliceJohnson|    1|\n",
      "+------------+-----+\n",
      "\n"
     ]
    },
    {
     "name": "stderr",
     "output_type": "stream",
     "text": [
      "                                                                                \r"
     ]
    },
    {
     "name": "stdout",
     "output_type": "stream",
     "text": [
      "+---+-----+\n",
      "| id|fraud|\n",
      "+---+-----+\n",
      "+---+-----+\n",
      "\n"
     ]
    },
    {
     "name": "stderr",
     "output_type": "stream",
     "text": [
      "                                                                                \r"
     ]
    },
    {
     "name": "stdout",
     "output_type": "stream",
     "text": [
      "+----------+-----+\n",
      "|        id|fraud|\n",
      "+----------+-----+\n",
      "|AliceSmith|    1|\n",
      "+----------+-----+\n",
      "\n"
     ]
    },
    {
     "name": "stderr",
     "output_type": "stream",
     "text": [
      "                                                                                \r"
     ]
    },
    {
     "name": "stdout",
     "output_type": "stream",
     "text": [
      "+---+-----+\n",
      "| id|fraud|\n",
      "+---+-----+\n",
      "+---+-----+\n",
      "\n"
     ]
    },
    {
     "name": "stderr",
     "output_type": "stream",
     "text": [
      "                                                                                \r"
     ]
    },
    {
     "name": "stdout",
     "output_type": "stream",
     "text": [
      "+-----------+-----+\n",
      "|         id|fraud|\n",
      "+-----------+-----+\n",
      "|AndyMillers|    1|\n",
      "+-----------+-----+\n",
      "\n"
     ]
    },
    {
     "name": "stderr",
     "output_type": "stream",
     "text": [
      "                                                                                \r"
     ]
    },
    {
     "name": "stdout",
     "output_type": "stream",
     "text": [
      "+---+-----+\n",
      "| id|fraud|\n",
      "+---+-----+\n",
      "+---+-----+\n",
      "\n"
     ]
    },
    {
     "name": "stderr",
     "output_type": "stream",
     "text": [
      "                                                                                \r"
     ]
    },
    {
     "name": "stdout",
     "output_type": "stream",
     "text": [
      "+---+-----+\n",
      "| id|fraud|\n",
      "+---+-----+\n",
      "+---+-----+\n",
      "\n"
     ]
    },
    {
     "name": "stderr",
     "output_type": "stream",
     "text": [
      "                                                                                \r"
     ]
    },
    {
     "name": "stdout",
     "output_type": "stream",
     "text": [
      "+-----------+-----+\n",
      "|         id|fraud|\n",
      "+-----------+-----+\n",
      "|JohnJohnson|    1|\n",
      "+-----------+-----+\n",
      "\n"
     ]
    },
    {
     "name": "stderr",
     "output_type": "stream",
     "text": [
      "                                                                                \r"
     ]
    },
    {
     "name": "stdout",
     "output_type": "stream",
     "text": [
      "+-----------+-----+\n",
      "|         id|fraud|\n",
      "+-----------+-----+\n",
      "|AndyJohnson|    1|\n",
      "+-----------+-----+\n",
      "\n"
     ]
    },
    {
     "name": "stderr",
     "output_type": "stream",
     "text": [
      "                                                                                \r"
     ]
    },
    {
     "name": "stdout",
     "output_type": "stream",
     "text": [
      "+---+-----+\n",
      "| id|fraud|\n",
      "+---+-----+\n",
      "+---+-----+\n",
      "\n"
     ]
    },
    {
     "name": "stderr",
     "output_type": "stream",
     "text": [
      "                                                                                \r"
     ]
    },
    {
     "name": "stdout",
     "output_type": "stream",
     "text": [
      "+---+-----+\n",
      "| id|fraud|\n",
      "+---+-----+\n",
      "+---+-----+\n",
      "\n"
     ]
    },
    {
     "name": "stderr",
     "output_type": "stream",
     "text": [
      "                                                                                \r"
     ]
    },
    {
     "name": "stdout",
     "output_type": "stream",
     "text": [
      "+---+-----+\n",
      "| id|fraud|\n",
      "+---+-----+\n",
      "+---+-----+\n",
      "\n"
     ]
    },
    {
     "name": "stderr",
     "output_type": "stream",
     "text": [
      "                                                                                \r"
     ]
    },
    {
     "name": "stdout",
     "output_type": "stream",
     "text": [
      "+---+-----+\n",
      "| id|fraud|\n",
      "+---+-----+\n",
      "+---+-----+\n",
      "\n"
     ]
    },
    {
     "name": "stderr",
     "output_type": "stream",
     "text": [
      "                                                                                \r"
     ]
    },
    {
     "name": "stdout",
     "output_type": "stream",
     "text": [
      "+------------+-----+\n",
      "|          id|fraud|\n",
      "+------------+-----+\n",
      "|AliceMillers|    1|\n",
      "+------------+-----+\n",
      "\n"
     ]
    },
    {
     "name": "stderr",
     "output_type": "stream",
     "text": [
      "                                                                                \r"
     ]
    },
    {
     "name": "stdout",
     "output_type": "stream",
     "text": [
      "+---+-----+\n",
      "| id|fraud|\n",
      "+---+-----+\n",
      "+---+-----+\n",
      "\n"
     ]
    },
    {
     "name": "stderr",
     "output_type": "stream",
     "text": [
      "                                                                                \r"
     ]
    },
    {
     "name": "stdout",
     "output_type": "stream",
     "text": [
      "+----------+-----+\n",
      "|        id|fraud|\n",
      "+----------+-----+\n",
      "|JoeMillers|    1|\n",
      "+----------+-----+\n",
      "\n"
     ]
    },
    {
     "name": "stderr",
     "output_type": "stream",
     "text": [
      "                                                                                \r"
     ]
    },
    {
     "name": "stdout",
     "output_type": "stream",
     "text": [
      "+---+-----+\n",
      "| id|fraud|\n",
      "+---+-----+\n",
      "+---+-----+\n",
      "\n"
     ]
    },
    {
     "name": "stderr",
     "output_type": "stream",
     "text": [
      "                                                                                \r"
     ]
    },
    {
     "name": "stdout",
     "output_type": "stream",
     "text": [
      "+---+-----+\n",
      "| id|fraud|\n",
      "+---+-----+\n",
      "+---+-----+\n",
      "\n"
     ]
    },
    {
     "name": "stderr",
     "output_type": "stream",
     "text": [
      "                                                                                \r"
     ]
    },
    {
     "name": "stdout",
     "output_type": "stream",
     "text": [
      "+---+-----+\n",
      "| id|fraud|\n",
      "+---+-----+\n",
      "+---+-----+\n",
      "\n"
     ]
    },
    {
     "name": "stderr",
     "output_type": "stream",
     "text": [
      "                                                                                \r"
     ]
    },
    {
     "name": "stdout",
     "output_type": "stream",
     "text": [
      "+---+-----+\n",
      "| id|fraud|\n",
      "+---+-----+\n",
      "+---+-----+\n",
      "\n"
     ]
    },
    {
     "name": "stderr",
     "output_type": "stream",
     "text": [
      "\r",
      "[Stage 226:>                                                        (0 + 1) / 1]\r"
     ]
    },
    {
     "name": "stdout",
     "output_type": "stream",
     "text": [
      "+---+-----+\n",
      "| id|fraud|\n",
      "+---+-----+\n",
      "+---+-----+\n",
      "\n"
     ]
    },
    {
     "name": "stderr",
     "output_type": "stream",
     "text": [
      "                                                                                \r"
     ]
    },
    {
     "name": "stdout",
     "output_type": "stream",
     "text": [
      "+---+-----+\n",
      "| id|fraud|\n",
      "+---+-----+\n",
      "+---+-----+\n",
      "\n"
     ]
    },
    {
     "name": "stderr",
     "output_type": "stream",
     "text": [
      "                                                                                \r"
     ]
    },
    {
     "name": "stdout",
     "output_type": "stream",
     "text": [
      "+---+-----+\n",
      "| id|fraud|\n",
      "+---+-----+\n",
      "+---+-----+\n",
      "\n"
     ]
    },
    {
     "name": "stderr",
     "output_type": "stream",
     "text": [
      "                                                                                \r"
     ]
    },
    {
     "name": "stdout",
     "output_type": "stream",
     "text": [
      "+-----------+-----+\n",
      "|         id|fraud|\n",
      "+-----------+-----+\n",
      "|AndyMillers|    1|\n",
      "+-----------+-----+\n",
      "\n"
     ]
    },
    {
     "name": "stderr",
     "output_type": "stream",
     "text": [
      "                                                                                \r"
     ]
    },
    {
     "name": "stdout",
     "output_type": "stream",
     "text": [
      "+---------+-----+\n",
      "|       id|fraud|\n",
      "+---------+-----+\n",
      "|AndySmith|    1|\n",
      "+---------+-----+\n",
      "\n"
     ]
    },
    {
     "name": "stderr",
     "output_type": "stream",
     "text": [
      "                                                                                \r"
     ]
    },
    {
     "name": "stdout",
     "output_type": "stream",
     "text": [
      "+-----------+-----+\n",
      "|         id|fraud|\n",
      "+-----------+-----+\n",
      "|JohnMillers|    1|\n",
      "+-----------+-----+\n",
      "\n"
     ]
    },
    {
     "name": "stderr",
     "output_type": "stream",
     "text": [
      "                                                                                \r"
     ]
    },
    {
     "name": "stdout",
     "output_type": "stream",
     "text": [
      "+---+-----+\n",
      "| id|fraud|\n",
      "+---+-----+\n",
      "+---+-----+\n",
      "\n"
     ]
    },
    {
     "name": "stderr",
     "output_type": "stream",
     "text": [
      "                                                                                \r"
     ]
    },
    {
     "name": "stdout",
     "output_type": "stream",
     "text": [
      "+-----------+-----+\n",
      "|         id|fraud|\n",
      "+-----------+-----+\n",
      "|   JoeJones|    1|\n",
      "|AndyMillers|    1|\n",
      "+-----------+-----+\n",
      "\n"
     ]
    },
    {
     "name": "stderr",
     "output_type": "stream",
     "text": [
      "                                                                                \r"
     ]
    },
    {
     "name": "stdout",
     "output_type": "stream",
     "text": [
      "+---+-----+\n",
      "| id|fraud|\n",
      "+---+-----+\n",
      "+---+-----+\n",
      "\n"
     ]
    },
    {
     "name": "stderr",
     "output_type": "stream",
     "text": [
      "                                                                                \r"
     ]
    },
    {
     "name": "stdout",
     "output_type": "stream",
     "text": [
      "+---+-----+\n",
      "| id|fraud|\n",
      "+---+-----+\n",
      "+---+-----+\n",
      "\n"
     ]
    },
    {
     "name": "stderr",
     "output_type": "stream",
     "text": [
      "                                                                                \r"
     ]
    },
    {
     "name": "stdout",
     "output_type": "stream",
     "text": [
      "+--------+-----+\n",
      "|      id|fraud|\n",
      "+--------+-----+\n",
      "|JoeJones|    1|\n",
      "+--------+-----+\n",
      "\n"
     ]
    },
    {
     "name": "stderr",
     "output_type": "stream",
     "text": [
      "                                                                                \r"
     ]
    },
    {
     "name": "stdout",
     "output_type": "stream",
     "text": [
      "+------------+-----+\n",
      "|          id|fraud|\n",
      "+------------+-----+\n",
      "|AliceMillers|    1|\n",
      "+------------+-----+\n",
      "\n"
     ]
    },
    {
     "name": "stderr",
     "output_type": "stream",
     "text": [
      "                                                                                \r"
     ]
    },
    {
     "name": "stdout",
     "output_type": "stream",
     "text": [
      "+----------+-----+\n",
      "|        id|fraud|\n",
      "+----------+-----+\n",
      "|JoeMillers|    1|\n",
      "+----------+-----+\n",
      "\n"
     ]
    },
    {
     "name": "stderr",
     "output_type": "stream",
     "text": [
      "                                                                                \r"
     ]
    },
    {
     "name": "stdout",
     "output_type": "stream",
     "text": [
      "+-----------+-----+\n",
      "|         id|fraud|\n",
      "+-----------+-----+\n",
      "| AliceSmith|    1|\n",
      "|JohnMillers|    1|\n",
      "+-----------+-----+\n",
      "\n"
     ]
    },
    {
     "name": "stderr",
     "output_type": "stream",
     "text": [
      "                                                                                \r"
     ]
    },
    {
     "name": "stdout",
     "output_type": "stream",
     "text": [
      "+---+-----+\n",
      "| id|fraud|\n",
      "+---+-----+\n",
      "+---+-----+\n",
      "\n"
     ]
    },
    {
     "name": "stderr",
     "output_type": "stream",
     "text": [
      "                                                                                \r"
     ]
    },
    {
     "name": "stdout",
     "output_type": "stream",
     "text": [
      "+---------+-----+\n",
      "|       id|fraud|\n",
      "+---------+-----+\n",
      "|AndyJones|    1|\n",
      "+---------+-----+\n",
      "\n"
     ]
    },
    {
     "name": "stderr",
     "output_type": "stream",
     "text": [
      "                                                                                \r"
     ]
    },
    {
     "name": "stdout",
     "output_type": "stream",
     "text": [
      "+-----------+-----+\n",
      "|         id|fraud|\n",
      "+-----------+-----+\n",
      "| AliceJones|    1|\n",
      "|AndyJohnson|    1|\n",
      "+-----------+-----+\n",
      "\n"
     ]
    },
    {
     "name": "stderr",
     "output_type": "stream",
     "text": [
      "                                                                                \r"
     ]
    },
    {
     "name": "stdout",
     "output_type": "stream",
     "text": [
      "+---+-----+\n",
      "| id|fraud|\n",
      "+---+-----+\n",
      "+---+-----+\n",
      "\n"
     ]
    },
    {
     "name": "stderr",
     "output_type": "stream",
     "text": [
      "                                                                                \r"
     ]
    },
    {
     "name": "stdout",
     "output_type": "stream",
     "text": [
      "+---+-----+\n",
      "| id|fraud|\n",
      "+---+-----+\n",
      "+---+-----+\n",
      "\n"
     ]
    },
    {
     "name": "stderr",
     "output_type": "stream",
     "text": [
      "                                                                                \r"
     ]
    },
    {
     "name": "stdout",
     "output_type": "stream",
     "text": [
      "+---+-----+\n",
      "| id|fraud|\n",
      "+---+-----+\n",
      "+---+-----+\n",
      "\n"
     ]
    },
    {
     "name": "stderr",
     "output_type": "stream",
     "text": [
      "                                                                                \r"
     ]
    },
    {
     "name": "stdout",
     "output_type": "stream",
     "text": [
      "+---+-----+\n",
      "| id|fraud|\n",
      "+---+-----+\n",
      "+---+-----+\n",
      "\n"
     ]
    },
    {
     "name": "stderr",
     "output_type": "stream",
     "text": [
      "                                                                                \r"
     ]
    },
    {
     "name": "stdout",
     "output_type": "stream",
     "text": [
      "+---+-----+\n",
      "| id|fraud|\n",
      "+---+-----+\n",
      "+---+-----+\n",
      "\n"
     ]
    },
    {
     "name": "stderr",
     "output_type": "stream",
     "text": [
      "                                                                                \r"
     ]
    },
    {
     "name": "stdout",
     "output_type": "stream",
     "text": [
      "+---------+-----+\n",
      "|       id|fraud|\n",
      "+---------+-----+\n",
      "|JohnSmith|    1|\n",
      "+---------+-----+\n",
      "\n"
     ]
    },
    {
     "name": "stderr",
     "output_type": "stream",
     "text": [
      "                                                                                \r"
     ]
    },
    {
     "name": "stdout",
     "output_type": "stream",
     "text": [
      "+---+-----+\n",
      "| id|fraud|\n",
      "+---+-----+\n",
      "+---+-----+\n",
      "\n"
     ]
    },
    {
     "name": "stderr",
     "output_type": "stream",
     "text": [
      "                                                                                \r"
     ]
    },
    {
     "name": "stdout",
     "output_type": "stream",
     "text": [
      "+---+-----+\n",
      "| id|fraud|\n",
      "+---+-----+\n",
      "+---+-----+\n",
      "\n"
     ]
    },
    {
     "name": "stderr",
     "output_type": "stream",
     "text": [
      "                                                                                \r"
     ]
    },
    {
     "name": "stdout",
     "output_type": "stream",
     "text": [
      "+---+-----+\n",
      "| id|fraud|\n",
      "+---+-----+\n",
      "+---+-----+\n",
      "\n"
     ]
    },
    {
     "name": "stderr",
     "output_type": "stream",
     "text": [
      "                                                                                \r"
     ]
    },
    {
     "name": "stdout",
     "output_type": "stream",
     "text": [
      "+---+-----+\n",
      "| id|fraud|\n",
      "+---+-----+\n",
      "+---+-----+\n",
      "\n"
     ]
    },
    {
     "name": "stderr",
     "output_type": "stream",
     "text": [
      "                                                                                \r"
     ]
    },
    {
     "name": "stdout",
     "output_type": "stream",
     "text": [
      "+------------+-----+\n",
      "|          id|fraud|\n",
      "+------------+-----+\n",
      "|AliceJohnson|    1|\n",
      "+------------+-----+\n",
      "\n"
     ]
    },
    {
     "name": "stderr",
     "output_type": "stream",
     "text": [
      "                                                                                \r"
     ]
    },
    {
     "name": "stdout",
     "output_type": "stream",
     "text": [
      "+----------+-----+\n",
      "|        id|fraud|\n",
      "+----------+-----+\n",
      "|JoeMillers|    1|\n",
      "+----------+-----+\n",
      "\n"
     ]
    },
    {
     "name": "stderr",
     "output_type": "stream",
     "text": [
      "                                                                                \r"
     ]
    },
    {
     "name": "stdout",
     "output_type": "stream",
     "text": [
      "+-----------+-----+\n",
      "|         id|fraud|\n",
      "+-----------+-----+\n",
      "| AliceJones|    1|\n",
      "|AndyMillers|    1|\n",
      "+-----------+-----+\n",
      "\n"
     ]
    },
    {
     "name": "stderr",
     "output_type": "stream",
     "text": [
      "                                                                                \r"
     ]
    },
    {
     "name": "stdout",
     "output_type": "stream",
     "text": [
      "+---+-----+\n",
      "| id|fraud|\n",
      "+---+-----+\n",
      "+---+-----+\n",
      "\n"
     ]
    },
    {
     "name": "stderr",
     "output_type": "stream",
     "text": [
      "                                                                                \r"
     ]
    },
    {
     "name": "stdout",
     "output_type": "stream",
     "text": [
      "+-----------+-----+\n",
      "|         id|fraud|\n",
      "+-----------+-----+\n",
      "|  AndyJones|    1|\n",
      "|JohnMillers|    1|\n",
      "+-----------+-----+\n",
      "\n"
     ]
    },
    {
     "name": "stderr",
     "output_type": "stream",
     "text": [
      "                                                                                \r"
     ]
    },
    {
     "name": "stdout",
     "output_type": "stream",
     "text": [
      "+---------+-----+\n",
      "|       id|fraud|\n",
      "+---------+-----+\n",
      "|AndySmith|    1|\n",
      "+---------+-----+\n",
      "\n"
     ]
    },
    {
     "name": "stderr",
     "output_type": "stream",
     "text": [
      "                                                                                \r"
     ]
    },
    {
     "name": "stdout",
     "output_type": "stream",
     "text": [
      "+---+-----+\n",
      "| id|fraud|\n",
      "+---+-----+\n",
      "+---+-----+\n",
      "\n"
     ]
    },
    {
     "name": "stderr",
     "output_type": "stream",
     "text": [
      "                                                                                \r"
     ]
    },
    {
     "name": "stdout",
     "output_type": "stream",
     "text": [
      "+-----------+-----+\n",
      "|         id|fraud|\n",
      "+-----------+-----+\n",
      "|AndyMillers|    1|\n",
      "+-----------+-----+\n",
      "\n"
     ]
    },
    {
     "name": "stderr",
     "output_type": "stream",
     "text": [
      "                                                                                \r"
     ]
    },
    {
     "name": "stdout",
     "output_type": "stream",
     "text": [
      "+-----------+-----+\n",
      "|         id|fraud|\n",
      "+-----------+-----+\n",
      "|AndyMillers|    1|\n",
      "|  JohnJones|    1|\n",
      "+-----------+-----+\n",
      "\n"
     ]
    },
    {
     "name": "stderr",
     "output_type": "stream",
     "text": [
      "                                                                                \r"
     ]
    },
    {
     "name": "stdout",
     "output_type": "stream",
     "text": [
      "+---+-----+\n",
      "| id|fraud|\n",
      "+---+-----+\n",
      "+---+-----+\n",
      "\n"
     ]
    },
    {
     "name": "stderr",
     "output_type": "stream",
     "text": [
      "                                                                                \r"
     ]
    },
    {
     "name": "stdout",
     "output_type": "stream",
     "text": [
      "+---+-----+\n",
      "| id|fraud|\n",
      "+---+-----+\n",
      "+---+-----+\n",
      "\n"
     ]
    },
    {
     "name": "stderr",
     "output_type": "stream",
     "text": [
      "                                                                                \r"
     ]
    },
    {
     "name": "stdout",
     "output_type": "stream",
     "text": [
      "+---+-----+\n",
      "| id|fraud|\n",
      "+---+-----+\n",
      "+---+-----+\n",
      "\n"
     ]
    },
    {
     "name": "stderr",
     "output_type": "stream",
     "text": [
      "                                                                                \r"
     ]
    },
    {
     "name": "stdout",
     "output_type": "stream",
     "text": [
      "+---+-----+\n",
      "| id|fraud|\n",
      "+---+-----+\n",
      "+---+-----+\n",
      "\n"
     ]
    },
    {
     "name": "stderr",
     "output_type": "stream",
     "text": [
      "                                                                                \r"
     ]
    },
    {
     "name": "stdout",
     "output_type": "stream",
     "text": [
      "+-----------+-----+\n",
      "|         id|fraud|\n",
      "+-----------+-----+\n",
      "|AndyJohnson|    1|\n",
      "+-----------+-----+\n",
      "\n"
     ]
    },
    {
     "name": "stderr",
     "output_type": "stream",
     "text": [
      "                                                                                \r"
     ]
    },
    {
     "name": "stdout",
     "output_type": "stream",
     "text": [
      "+---+-----+\n",
      "| id|fraud|\n",
      "+---+-----+\n",
      "+---+-----+\n",
      "\n"
     ]
    },
    {
     "name": "stderr",
     "output_type": "stream",
     "text": [
      "                                                                                \r"
     ]
    },
    {
     "name": "stdout",
     "output_type": "stream",
     "text": [
      "+-----------+-----+\n",
      "|         id|fraud|\n",
      "+-----------+-----+\n",
      "|AndyMillers|    1|\n",
      "| JoeMillers|    1|\n",
      "+-----------+-----+\n",
      "\n"
     ]
    },
    {
     "name": "stderr",
     "output_type": "stream",
     "text": [
      "                                                                                \r"
     ]
    },
    {
     "name": "stdout",
     "output_type": "stream",
     "text": [
      "+---+-----+\n",
      "| id|fraud|\n",
      "+---+-----+\n",
      "+---+-----+\n",
      "\n"
     ]
    },
    {
     "name": "stderr",
     "output_type": "stream",
     "text": [
      "                                                                                \r"
     ]
    },
    {
     "name": "stdout",
     "output_type": "stream",
     "text": [
      "+---+-----+\n",
      "| id|fraud|\n",
      "+---+-----+\n",
      "+---+-----+\n",
      "\n"
     ]
    },
    {
     "name": "stderr",
     "output_type": "stream",
     "text": [
      "                                                                                \r"
     ]
    },
    {
     "name": "stdout",
     "output_type": "stream",
     "text": [
      "+---------+-----+\n",
      "|       id|fraud|\n",
      "+---------+-----+\n",
      "|AndySmith|    1|\n",
      "+---------+-----+\n",
      "\n"
     ]
    },
    {
     "name": "stderr",
     "output_type": "stream",
     "text": [
      "                                                                                \r"
     ]
    },
    {
     "name": "stdout",
     "output_type": "stream",
     "text": [
      "+---+-----+\n",
      "| id|fraud|\n",
      "+---+-----+\n",
      "+---+-----+\n",
      "\n"
     ]
    },
    {
     "name": "stderr",
     "output_type": "stream",
     "text": [
      "                                                                                \r"
     ]
    },
    {
     "name": "stdout",
     "output_type": "stream",
     "text": [
      "+---+-----+\n",
      "| id|fraud|\n",
      "+---+-----+\n",
      "+---+-----+\n",
      "\n"
     ]
    },
    {
     "name": "stderr",
     "output_type": "stream",
     "text": [
      "                                                                                \r"
     ]
    },
    {
     "name": "stdout",
     "output_type": "stream",
     "text": [
      "+---+-----+\n",
      "| id|fraud|\n",
      "+---+-----+\n",
      "+---+-----+\n",
      "\n"
     ]
    },
    {
     "name": "stderr",
     "output_type": "stream",
     "text": [
      "                                                                                \r"
     ]
    },
    {
     "name": "stdout",
     "output_type": "stream",
     "text": [
      "+--------+-----+\n",
      "|      id|fraud|\n",
      "+--------+-----+\n",
      "|JoeJones|    1|\n",
      "+--------+-----+\n",
      "\n"
     ]
    },
    {
     "name": "stderr",
     "output_type": "stream",
     "text": [
      "                                                                                \r"
     ]
    },
    {
     "name": "stdout",
     "output_type": "stream",
     "text": [
      "+----------+-----+\n",
      "|        id|fraud|\n",
      "+----------+-----+\n",
      "|JoeJohnson|    1|\n",
      "+----------+-----+\n",
      "\n"
     ]
    },
    {
     "name": "stderr",
     "output_type": "stream",
     "text": [
      "                                                                                \r"
     ]
    },
    {
     "name": "stdout",
     "output_type": "stream",
     "text": [
      "+---+-----+\n",
      "| id|fraud|\n",
      "+---+-----+\n",
      "+---+-----+\n",
      "\n"
     ]
    },
    {
     "name": "stderr",
     "output_type": "stream",
     "text": [
      "                                                                                \r"
     ]
    },
    {
     "name": "stdout",
     "output_type": "stream",
     "text": [
      "+---+-----+\n",
      "| id|fraud|\n",
      "+---+-----+\n",
      "+---+-----+\n",
      "\n"
     ]
    },
    {
     "name": "stderr",
     "output_type": "stream",
     "text": [
      "                                                                                \r"
     ]
    },
    {
     "name": "stdout",
     "output_type": "stream",
     "text": [
      "+---+-----+\n",
      "| id|fraud|\n",
      "+---+-----+\n",
      "+---+-----+\n",
      "\n"
     ]
    },
    {
     "name": "stderr",
     "output_type": "stream",
     "text": [
      "                                                                                \r"
     ]
    },
    {
     "name": "stdout",
     "output_type": "stream",
     "text": [
      "+---+-----+\n",
      "| id|fraud|\n",
      "+---+-----+\n",
      "+---+-----+\n",
      "\n"
     ]
    },
    {
     "name": "stderr",
     "output_type": "stream",
     "text": [
      "                                                                                \r"
     ]
    },
    {
     "name": "stdout",
     "output_type": "stream",
     "text": [
      "+-----------+-----+\n",
      "|         id|fraud|\n",
      "+-----------+-----+\n",
      "|JohnJohnson|    1|\n",
      "+-----------+-----+\n",
      "\n"
     ]
    },
    {
     "name": "stderr",
     "output_type": "stream",
     "text": [
      "                                                                                \r"
     ]
    },
    {
     "name": "stdout",
     "output_type": "stream",
     "text": [
      "+---+-----+\n",
      "| id|fraud|\n",
      "+---+-----+\n",
      "+---+-----+\n",
      "\n"
     ]
    },
    {
     "name": "stderr",
     "output_type": "stream",
     "text": [
      "                                                                                \r"
     ]
    },
    {
     "name": "stdout",
     "output_type": "stream",
     "text": [
      "+------------+-----+\n",
      "|          id|fraud|\n",
      "+------------+-----+\n",
      "|AliceMillers|    1|\n",
      "+------------+-----+\n",
      "\n"
     ]
    },
    {
     "name": "stderr",
     "output_type": "stream",
     "text": [
      "                                                                                \r"
     ]
    },
    {
     "name": "stdout",
     "output_type": "stream",
     "text": [
      "+---+-----+\n",
      "| id|fraud|\n",
      "+---+-----+\n",
      "+---+-----+\n",
      "\n"
     ]
    },
    {
     "name": "stderr",
     "output_type": "stream",
     "text": [
      "                                                                                \r"
     ]
    },
    {
     "name": "stdout",
     "output_type": "stream",
     "text": [
      "+----------+-----+\n",
      "|        id|fraud|\n",
      "+----------+-----+\n",
      "|JoeJohnson|    1|\n",
      "+----------+-----+\n",
      "\n"
     ]
    },
    {
     "name": "stderr",
     "output_type": "stream",
     "text": [
      "                                                                                \r"
     ]
    },
    {
     "name": "stdout",
     "output_type": "stream",
     "text": [
      "+---+-----+\n",
      "| id|fraud|\n",
      "+---+-----+\n",
      "+---+-----+\n",
      "\n"
     ]
    },
    {
     "name": "stderr",
     "output_type": "stream",
     "text": [
      "                                                                                \r"
     ]
    },
    {
     "name": "stdout",
     "output_type": "stream",
     "text": [
      "+---+-----+\n",
      "| id|fraud|\n",
      "+---+-----+\n",
      "+---+-----+\n",
      "\n"
     ]
    },
    {
     "name": "stderr",
     "output_type": "stream",
     "text": [
      "                                                                                \r"
     ]
    },
    {
     "name": "stdout",
     "output_type": "stream",
     "text": [
      "+---+-----+\n",
      "| id|fraud|\n",
      "+---+-----+\n",
      "+---+-----+\n",
      "\n"
     ]
    },
    {
     "name": "stderr",
     "output_type": "stream",
     "text": [
      "                                                                                \r"
     ]
    },
    {
     "name": "stdout",
     "output_type": "stream",
     "text": [
      "+---+-----+\n",
      "| id|fraud|\n",
      "+---+-----+\n",
      "+---+-----+\n",
      "\n"
     ]
    },
    {
     "name": "stderr",
     "output_type": "stream",
     "text": [
      "                                                                                \r"
     ]
    },
    {
     "name": "stdout",
     "output_type": "stream",
     "text": [
      "+------------+-----+\n",
      "|          id|fraud|\n",
      "+------------+-----+\n",
      "|  AliceJones|    1|\n",
      "|AliceJohnson|    1|\n",
      "+------------+-----+\n",
      "\n"
     ]
    },
    {
     "name": "stderr",
     "output_type": "stream",
     "text": [
      "                                                                                \r"
     ]
    },
    {
     "name": "stdout",
     "output_type": "stream",
     "text": [
      "+---+-----+\n",
      "| id|fraud|\n",
      "+---+-----+\n",
      "+---+-----+\n",
      "\n"
     ]
    },
    {
     "name": "stderr",
     "output_type": "stream",
     "text": [
      "                                                                                \r"
     ]
    },
    {
     "name": "stdout",
     "output_type": "stream",
     "text": [
      "+---+-----+\n",
      "| id|fraud|\n",
      "+---+-----+\n",
      "+---+-----+\n",
      "\n"
     ]
    },
    {
     "name": "stderr",
     "output_type": "stream",
     "text": [
      "                                                                                \r"
     ]
    },
    {
     "name": "stdout",
     "output_type": "stream",
     "text": [
      "+--------+-----+\n",
      "|      id|fraud|\n",
      "+--------+-----+\n",
      "|JoeJones|    1|\n",
      "+--------+-----+\n",
      "\n"
     ]
    },
    {
     "name": "stderr",
     "output_type": "stream",
     "text": [
      "                                                                                \r"
     ]
    },
    {
     "name": "stdout",
     "output_type": "stream",
     "text": [
      "+---+-----+\n",
      "| id|fraud|\n",
      "+---+-----+\n",
      "+---+-----+\n",
      "\n"
     ]
    },
    {
     "name": "stderr",
     "output_type": "stream",
     "text": [
      "                                                                                \r"
     ]
    },
    {
     "name": "stdout",
     "output_type": "stream",
     "text": [
      "+------------+-----+\n",
      "|          id|fraud|\n",
      "+------------+-----+\n",
      "|AliceMillers|    1|\n",
      "+------------+-----+\n",
      "\n"
     ]
    },
    {
     "name": "stderr",
     "output_type": "stream",
     "text": [
      "                                                                                \r"
     ]
    },
    {
     "name": "stdout",
     "output_type": "stream",
     "text": [
      "+---+-----+\n",
      "| id|fraud|\n",
      "+---+-----+\n",
      "+---+-----+\n",
      "\n"
     ]
    },
    {
     "name": "stderr",
     "output_type": "stream",
     "text": [
      "                                                                                \r"
     ]
    },
    {
     "name": "stdout",
     "output_type": "stream",
     "text": [
      "+-----------+-----+\n",
      "|         id|fraud|\n",
      "+-----------+-----+\n",
      "|JohnJohnson|    1|\n",
      "+-----------+-----+\n",
      "\n"
     ]
    },
    {
     "name": "stderr",
     "output_type": "stream",
     "text": [
      "                                                                                \r"
     ]
    },
    {
     "name": "stdout",
     "output_type": "stream",
     "text": [
      "+---+-----+\n",
      "| id|fraud|\n",
      "+---+-----+\n",
      "+---+-----+\n",
      "\n"
     ]
    },
    {
     "name": "stderr",
     "output_type": "stream",
     "text": [
      "                                                                                \r"
     ]
    },
    {
     "name": "stdout",
     "output_type": "stream",
     "text": [
      "+---+-----+\n",
      "| id|fraud|\n",
      "+---+-----+\n",
      "+---+-----+\n",
      "\n"
     ]
    },
    {
     "name": "stderr",
     "output_type": "stream",
     "text": [
      "                                                                                \r"
     ]
    },
    {
     "name": "stdout",
     "output_type": "stream",
     "text": [
      "+---+-----+\n",
      "| id|fraud|\n",
      "+---+-----+\n",
      "+---+-----+\n",
      "\n"
     ]
    },
    {
     "name": "stderr",
     "output_type": "stream",
     "text": [
      "                                                                                \r"
     ]
    },
    {
     "name": "stdout",
     "output_type": "stream",
     "text": [
      "+---------+-----+\n",
      "|       id|fraud|\n",
      "+---------+-----+\n",
      "|JohnSmith|    1|\n",
      "+---------+-----+\n",
      "\n"
     ]
    },
    {
     "name": "stderr",
     "output_type": "stream",
     "text": [
      "                                                                                \r"
     ]
    },
    {
     "name": "stdout",
     "output_type": "stream",
     "text": [
      "+---+-----+\n",
      "| id|fraud|\n",
      "+---+-----+\n",
      "+---+-----+\n",
      "\n"
     ]
    },
    {
     "name": "stderr",
     "output_type": "stream",
     "text": [
      "                                                                                \r"
     ]
    },
    {
     "name": "stdout",
     "output_type": "stream",
     "text": [
      "+---------+-----+\n",
      "|       id|fraud|\n",
      "+---------+-----+\n",
      "|AndyJones|    1|\n",
      "|JohnJones|    1|\n",
      "+---------+-----+\n",
      "\n"
     ]
    },
    {
     "name": "stderr",
     "output_type": "stream",
     "text": [
      "                                                                                \r"
     ]
    },
    {
     "name": "stdout",
     "output_type": "stream",
     "text": [
      "+---+-----+\n",
      "| id|fraud|\n",
      "+---+-----+\n",
      "+---+-----+\n",
      "\n"
     ]
    },
    {
     "name": "stderr",
     "output_type": "stream",
     "text": [
      "                                                                                \r"
     ]
    },
    {
     "name": "stdout",
     "output_type": "stream",
     "text": [
      "+---+-----+\n",
      "| id|fraud|\n",
      "+---+-----+\n",
      "+---+-----+\n",
      "\n"
     ]
    },
    {
     "name": "stderr",
     "output_type": "stream",
     "text": [
      "                                                                                \r"
     ]
    },
    {
     "name": "stdout",
     "output_type": "stream",
     "text": [
      "+---+-----+\n",
      "| id|fraud|\n",
      "+---+-----+\n",
      "+---+-----+\n",
      "\n"
     ]
    },
    {
     "name": "stderr",
     "output_type": "stream",
     "text": [
      "                                                                                \r"
     ]
    },
    {
     "name": "stdout",
     "output_type": "stream",
     "text": [
      "+---+-----+\n",
      "| id|fraud|\n",
      "+---+-----+\n",
      "+---+-----+\n",
      "\n"
     ]
    },
    {
     "name": "stderr",
     "output_type": "stream",
     "text": [
      "                                                                                \r"
     ]
    },
    {
     "name": "stdout",
     "output_type": "stream",
     "text": [
      "+-----------+-----+\n",
      "|         id|fraud|\n",
      "+-----------+-----+\n",
      "|AndyMillers|    1|\n",
      "+-----------+-----+\n",
      "\n"
     ]
    },
    {
     "name": "stderr",
     "output_type": "stream",
     "text": [
      "                                                                                \r"
     ]
    },
    {
     "name": "stdout",
     "output_type": "stream",
     "text": [
      "+---+-----+\n",
      "| id|fraud|\n",
      "+---+-----+\n",
      "+---+-----+\n",
      "\n"
     ]
    },
    {
     "name": "stderr",
     "output_type": "stream",
     "text": [
      "                                                                                \r"
     ]
    },
    {
     "name": "stdout",
     "output_type": "stream",
     "text": [
      "+---------+-----+\n",
      "|       id|fraud|\n",
      "+---------+-----+\n",
      "|AndyJones|    1|\n",
      "+---------+-----+\n",
      "\n"
     ]
    },
    {
     "name": "stderr",
     "output_type": "stream",
     "text": [
      "                                                                                \r"
     ]
    },
    {
     "name": "stdout",
     "output_type": "stream",
     "text": [
      "+---+-----+\n",
      "| id|fraud|\n",
      "+---+-----+\n",
      "+---+-----+\n",
      "\n"
     ]
    },
    {
     "name": "stderr",
     "output_type": "stream",
     "text": [
      "                                                                                \r"
     ]
    },
    {
     "name": "stdout",
     "output_type": "stream",
     "text": [
      "+---+-----+\n",
      "| id|fraud|\n",
      "+---+-----+\n",
      "+---+-----+\n",
      "\n"
     ]
    },
    {
     "name": "stderr",
     "output_type": "stream",
     "text": [
      "                                                                                \r"
     ]
    },
    {
     "name": "stdout",
     "output_type": "stream",
     "text": [
      "+---+-----+\n",
      "| id|fraud|\n",
      "+---+-----+\n",
      "+---+-----+\n",
      "\n"
     ]
    },
    {
     "name": "stderr",
     "output_type": "stream",
     "text": [
      "                                                                                \r"
     ]
    },
    {
     "name": "stdout",
     "output_type": "stream",
     "text": [
      "+---+-----+\n",
      "| id|fraud|\n",
      "+---+-----+\n",
      "+---+-----+\n",
      "\n"
     ]
    },
    {
     "name": "stderr",
     "output_type": "stream",
     "text": [
      "                                                                                \r"
     ]
    },
    {
     "name": "stdout",
     "output_type": "stream",
     "text": [
      "+--------+-----+\n",
      "|      id|fraud|\n",
      "+--------+-----+\n",
      "|JoeSmith|    1|\n",
      "+--------+-----+\n",
      "\n"
     ]
    },
    {
     "name": "stderr",
     "output_type": "stream",
     "text": [
      "                                                                                \r"
     ]
    },
    {
     "name": "stdout",
     "output_type": "stream",
     "text": [
      "+---+-----+\n",
      "| id|fraud|\n",
      "+---+-----+\n",
      "+---+-----+\n",
      "\n"
     ]
    },
    {
     "name": "stderr",
     "output_type": "stream",
     "text": [
      "                                                                                \r"
     ]
    },
    {
     "name": "stdout",
     "output_type": "stream",
     "text": [
      "+---------+-----+\n",
      "|       id|fraud|\n",
      "+---------+-----+\n",
      "|JohnJones|    1|\n",
      "+---------+-----+\n",
      "\n"
     ]
    },
    {
     "name": "stderr",
     "output_type": "stream",
     "text": [
      "                                                                                \r"
     ]
    },
    {
     "name": "stdout",
     "output_type": "stream",
     "text": [
      "+------------+-----+\n",
      "|          id|fraud|\n",
      "+------------+-----+\n",
      "|AliceJohnson|    1|\n",
      "+------------+-----+\n",
      "\n"
     ]
    },
    {
     "name": "stderr",
     "output_type": "stream",
     "text": [
      "                                                                                \r"
     ]
    },
    {
     "name": "stdout",
     "output_type": "stream",
     "text": [
      "+---+-----+\n",
      "| id|fraud|\n",
      "+---+-----+\n",
      "+---+-----+\n",
      "\n"
     ]
    },
    {
     "name": "stderr",
     "output_type": "stream",
     "text": [
      "                                                                                \r"
     ]
    },
    {
     "name": "stdout",
     "output_type": "stream",
     "text": [
      "+---+-----+\n",
      "| id|fraud|\n",
      "+---+-----+\n",
      "+---+-----+\n",
      "\n"
     ]
    },
    {
     "name": "stderr",
     "output_type": "stream",
     "text": [
      "                                                                                \r"
     ]
    },
    {
     "name": "stdout",
     "output_type": "stream",
     "text": [
      "+----------+-----+\n",
      "|        id|fraud|\n",
      "+----------+-----+\n",
      "|JoeMillers|    1|\n",
      "+----------+-----+\n",
      "\n"
     ]
    },
    {
     "name": "stderr",
     "output_type": "stream",
     "text": [
      "                                                                                \r"
     ]
    },
    {
     "name": "stdout",
     "output_type": "stream",
     "text": [
      "+---+-----+\n",
      "| id|fraud|\n",
      "+---+-----+\n",
      "+---+-----+\n",
      "\n"
     ]
    },
    {
     "name": "stderr",
     "output_type": "stream",
     "text": [
      "                                                                                \r"
     ]
    },
    {
     "name": "stdout",
     "output_type": "stream",
     "text": [
      "+---+-----+\n",
      "| id|fraud|\n",
      "+---+-----+\n",
      "+---+-----+\n",
      "\n"
     ]
    },
    {
     "name": "stderr",
     "output_type": "stream",
     "text": [
      "                                                                                \r"
     ]
    },
    {
     "name": "stdout",
     "output_type": "stream",
     "text": [
      "+-----------+-----+\n",
      "|         id|fraud|\n",
      "+-----------+-----+\n",
      "|AndyMillers|    1|\n",
      "+-----------+-----+\n",
      "\n"
     ]
    },
    {
     "name": "stderr",
     "output_type": "stream",
     "text": [
      "                                                                                \r"
     ]
    },
    {
     "name": "stdout",
     "output_type": "stream",
     "text": [
      "+---------+-----+\n",
      "|       id|fraud|\n",
      "+---------+-----+\n",
      "|AndyJones|    1|\n",
      "+---------+-----+\n",
      "\n"
     ]
    },
    {
     "name": "stderr",
     "output_type": "stream",
     "text": [
      "                                                                                \r"
     ]
    },
    {
     "name": "stdout",
     "output_type": "stream",
     "text": [
      "+---+-----+\n",
      "| id|fraud|\n",
      "+---+-----+\n",
      "+---+-----+\n",
      "\n"
     ]
    },
    {
     "name": "stderr",
     "output_type": "stream",
     "text": [
      "                                                                                \r"
     ]
    },
    {
     "name": "stdout",
     "output_type": "stream",
     "text": [
      "+---+-----+\n",
      "| id|fraud|\n",
      "+---+-----+\n",
      "+---+-----+\n",
      "\n"
     ]
    },
    {
     "name": "stderr",
     "output_type": "stream",
     "text": [
      "                                                                                \r"
     ]
    },
    {
     "name": "stdout",
     "output_type": "stream",
     "text": [
      "+---+-----+\n",
      "| id|fraud|\n",
      "+---+-----+\n",
      "+---+-----+\n",
      "\n"
     ]
    },
    {
     "name": "stderr",
     "output_type": "stream",
     "text": [
      "                                                                                \r"
     ]
    },
    {
     "name": "stdout",
     "output_type": "stream",
     "text": [
      "+----------+-----+\n",
      "|        id|fraud|\n",
      "+----------+-----+\n",
      "|AliceJones|    1|\n",
      "+----------+-----+\n",
      "\n"
     ]
    },
    {
     "name": "stderr",
     "output_type": "stream",
     "text": [
      "                                                                                \r"
     ]
    },
    {
     "name": "stdout",
     "output_type": "stream",
     "text": [
      "+---+-----+\n",
      "| id|fraud|\n",
      "+---+-----+\n",
      "+---+-----+\n",
      "\n"
     ]
    },
    {
     "name": "stderr",
     "output_type": "stream",
     "text": [
      "                                                                                \r"
     ]
    },
    {
     "name": "stdout",
     "output_type": "stream",
     "text": [
      "+------------+-----+\n",
      "|          id|fraud|\n",
      "+------------+-----+\n",
      "|AliceMillers|    1|\n",
      "+------------+-----+\n",
      "\n"
     ]
    },
    {
     "name": "stderr",
     "output_type": "stream",
     "text": [
      "                                                                                \r"
     ]
    },
    {
     "name": "stdout",
     "output_type": "stream",
     "text": [
      "+---+-----+\n",
      "| id|fraud|\n",
      "+---+-----+\n",
      "+---+-----+\n",
      "\n"
     ]
    },
    {
     "name": "stderr",
     "output_type": "stream",
     "text": [
      "                                                                                \r"
     ]
    },
    {
     "name": "stdout",
     "output_type": "stream",
     "text": [
      "+---+-----+\n",
      "| id|fraud|\n",
      "+---+-----+\n",
      "+---+-----+\n",
      "\n"
     ]
    },
    {
     "name": "stderr",
     "output_type": "stream",
     "text": [
      "                                                                                \r"
     ]
    },
    {
     "name": "stdout",
     "output_type": "stream",
     "text": [
      "+----------+-----+\n",
      "|        id|fraud|\n",
      "+----------+-----+\n",
      "|JoeMillers|    1|\n",
      "+----------+-----+\n",
      "\n"
     ]
    },
    {
     "name": "stderr",
     "output_type": "stream",
     "text": [
      "                                                                                \r"
     ]
    },
    {
     "name": "stdout",
     "output_type": "stream",
     "text": [
      "+---+-----+\n",
      "| id|fraud|\n",
      "+---+-----+\n",
      "+---+-----+\n",
      "\n"
     ]
    },
    {
     "name": "stderr",
     "output_type": "stream",
     "text": [
      "                                                                                \r"
     ]
    },
    {
     "name": "stdout",
     "output_type": "stream",
     "text": [
      "+---+-----+\n",
      "| id|fraud|\n",
      "+---+-----+\n",
      "+---+-----+\n",
      "\n"
     ]
    },
    {
     "name": "stderr",
     "output_type": "stream",
     "text": [
      "                                                                                \r"
     ]
    },
    {
     "name": "stdout",
     "output_type": "stream",
     "text": [
      "+---+-----+\n",
      "| id|fraud|\n",
      "+---+-----+\n",
      "+---+-----+\n",
      "\n"
     ]
    },
    {
     "name": "stderr",
     "output_type": "stream",
     "text": [
      "                                                                                \r"
     ]
    },
    {
     "name": "stdout",
     "output_type": "stream",
     "text": [
      "+---+-----+\n",
      "| id|fraud|\n",
      "+---+-----+\n",
      "+---+-----+\n",
      "\n"
     ]
    },
    {
     "name": "stderr",
     "output_type": "stream",
     "text": [
      "                                                                                \r"
     ]
    },
    {
     "name": "stdout",
     "output_type": "stream",
     "text": [
      "+---+-----+\n",
      "| id|fraud|\n",
      "+---+-----+\n",
      "+---+-----+\n",
      "\n"
     ]
    },
    {
     "name": "stderr",
     "output_type": "stream",
     "text": [
      "                                                                                \r"
     ]
    },
    {
     "name": "stdout",
     "output_type": "stream",
     "text": [
      "+---+-----+\n",
      "| id|fraud|\n",
      "+---+-----+\n",
      "+---+-----+\n",
      "\n"
     ]
    },
    {
     "name": "stderr",
     "output_type": "stream",
     "text": [
      "                                                                                \r"
     ]
    },
    {
     "name": "stdout",
     "output_type": "stream",
     "text": [
      "+---+-----+\n",
      "| id|fraud|\n",
      "+---+-----+\n",
      "+---+-----+\n",
      "\n"
     ]
    },
    {
     "name": "stderr",
     "output_type": "stream",
     "text": [
      "                                                                                \r"
     ]
    },
    {
     "name": "stdout",
     "output_type": "stream",
     "text": [
      "+--------+-----+\n",
      "|      id|fraud|\n",
      "+--------+-----+\n",
      "|JoeJones|    1|\n",
      "+--------+-----+\n",
      "\n"
     ]
    },
    {
     "name": "stderr",
     "output_type": "stream",
     "text": [
      "                                                                                \r"
     ]
    },
    {
     "name": "stdout",
     "output_type": "stream",
     "text": [
      "+----------+-----+\n",
      "|        id|fraud|\n",
      "+----------+-----+\n",
      "|JoeMillers|    1|\n",
      "+----------+-----+\n",
      "\n"
     ]
    },
    {
     "name": "stderr",
     "output_type": "stream",
     "text": [
      "                                                                                \r"
     ]
    },
    {
     "name": "stdout",
     "output_type": "stream",
     "text": [
      "+-----------+-----+\n",
      "|         id|fraud|\n",
      "+-----------+-----+\n",
      "|AndyJohnson|    1|\n",
      "+-----------+-----+\n",
      "\n"
     ]
    },
    {
     "name": "stderr",
     "output_type": "stream",
     "text": [
      "                                                                                \r"
     ]
    },
    {
     "name": "stdout",
     "output_type": "stream",
     "text": [
      "+---+-----+\n",
      "| id|fraud|\n",
      "+---+-----+\n",
      "+---+-----+\n",
      "\n"
     ]
    },
    {
     "name": "stderr",
     "output_type": "stream",
     "text": [
      "                                                                                \r"
     ]
    },
    {
     "name": "stdout",
     "output_type": "stream",
     "text": [
      "+--------+-----+\n",
      "|      id|fraud|\n",
      "+--------+-----+\n",
      "|JoeSmith|    1|\n",
      "+--------+-----+\n",
      "\n"
     ]
    },
    {
     "name": "stderr",
     "output_type": "stream",
     "text": [
      "                                                                                \r"
     ]
    },
    {
     "name": "stdout",
     "output_type": "stream",
     "text": [
      "+---+-----+\n",
      "| id|fraud|\n",
      "+---+-----+\n",
      "+---+-----+\n",
      "\n"
     ]
    },
    {
     "name": "stderr",
     "output_type": "stream",
     "text": [
      "                                                                                \r"
     ]
    },
    {
     "name": "stdout",
     "output_type": "stream",
     "text": [
      "+----------+-----+\n",
      "|        id|fraud|\n",
      "+----------+-----+\n",
      "|AliceJones|    1|\n",
      "|JoeMillers|    1|\n",
      "+----------+-----+\n",
      "\n"
     ]
    },
    {
     "name": "stderr",
     "output_type": "stream",
     "text": [
      "                                                                                \r"
     ]
    },
    {
     "name": "stdout",
     "output_type": "stream",
     "text": [
      "+---+-----+\n",
      "| id|fraud|\n",
      "+---+-----+\n",
      "+---+-----+\n",
      "\n"
     ]
    },
    {
     "name": "stderr",
     "output_type": "stream",
     "text": [
      "                                                                                \r"
     ]
    },
    {
     "name": "stdout",
     "output_type": "stream",
     "text": [
      "+---------+-----+\n",
      "|       id|fraud|\n",
      "+---------+-----+\n",
      "|AndySmith|    1|\n",
      "+---------+-----+\n",
      "\n"
     ]
    },
    {
     "name": "stderr",
     "output_type": "stream",
     "text": [
      "                                                                                \r"
     ]
    },
    {
     "name": "stdout",
     "output_type": "stream",
     "text": [
      "+---+-----+\n",
      "| id|fraud|\n",
      "+---+-----+\n",
      "+---+-----+\n",
      "\n"
     ]
    },
    {
     "name": "stderr",
     "output_type": "stream",
     "text": [
      "                                                                                \r"
     ]
    },
    {
     "name": "stdout",
     "output_type": "stream",
     "text": [
      "+----------+-----+\n",
      "|        id|fraud|\n",
      "+----------+-----+\n",
      "|JoeJohnson|    1|\n",
      "+----------+-----+\n",
      "\n"
     ]
    },
    {
     "name": "stderr",
     "output_type": "stream",
     "text": [
      "                                                                                \r"
     ]
    },
    {
     "name": "stdout",
     "output_type": "stream",
     "text": [
      "+---------+-----+\n",
      "|       id|fraud|\n",
      "+---------+-----+\n",
      "|AndyJones|    1|\n",
      "+---------+-----+\n",
      "\n"
     ]
    },
    {
     "name": "stderr",
     "output_type": "stream",
     "text": [
      "                                                                                \r"
     ]
    },
    {
     "name": "stdout",
     "output_type": "stream",
     "text": [
      "+---+-----+\n",
      "| id|fraud|\n",
      "+---+-----+\n",
      "+---+-----+\n",
      "\n"
     ]
    },
    {
     "name": "stderr",
     "output_type": "stream",
     "text": [
      "                                                                                \r"
     ]
    },
    {
     "name": "stdout",
     "output_type": "stream",
     "text": [
      "+------------+-----+\n",
      "|          id|fraud|\n",
      "+------------+-----+\n",
      "|AliceJohnson|    1|\n",
      "+------------+-----+\n",
      "\n"
     ]
    },
    {
     "name": "stderr",
     "output_type": "stream",
     "text": [
      "                                                                                \r"
     ]
    },
    {
     "name": "stdout",
     "output_type": "stream",
     "text": [
      "+---+-----+\n",
      "| id|fraud|\n",
      "+---+-----+\n",
      "+---+-----+\n",
      "\n"
     ]
    },
    {
     "name": "stderr",
     "output_type": "stream",
     "text": [
      "                                                                                \r"
     ]
    },
    {
     "name": "stdout",
     "output_type": "stream",
     "text": [
      "+----------+-----+\n",
      "|        id|fraud|\n",
      "+----------+-----+\n",
      "|AliceSmith|    1|\n",
      "+----------+-----+\n",
      "\n"
     ]
    },
    {
     "name": "stderr",
     "output_type": "stream",
     "text": [
      "                                                                                \r"
     ]
    },
    {
     "name": "stdout",
     "output_type": "stream",
     "text": [
      "+------------+-----+\n",
      "|          id|fraud|\n",
      "+------------+-----+\n",
      "|AliceMillers|    1|\n",
      "+------------+-----+\n",
      "\n"
     ]
    },
    {
     "name": "stderr",
     "output_type": "stream",
     "text": [
      "                                                                                \r"
     ]
    },
    {
     "name": "stdout",
     "output_type": "stream",
     "text": [
      "+---+-----+\n",
      "| id|fraud|\n",
      "+---+-----+\n",
      "+---+-----+\n",
      "\n"
     ]
    },
    {
     "name": "stderr",
     "output_type": "stream",
     "text": [
      "                                                                                \r"
     ]
    },
    {
     "name": "stdout",
     "output_type": "stream",
     "text": [
      "+------------+-----+\n",
      "|          id|fraud|\n",
      "+------------+-----+\n",
      "|AliceMillers|    1|\n",
      "+------------+-----+\n",
      "\n"
     ]
    },
    {
     "name": "stderr",
     "output_type": "stream",
     "text": [
      "                                                                                \r"
     ]
    },
    {
     "name": "stdout",
     "output_type": "stream",
     "text": [
      "+---+-----+\n",
      "| id|fraud|\n",
      "+---+-----+\n",
      "+---+-----+\n",
      "\n"
     ]
    },
    {
     "name": "stderr",
     "output_type": "stream",
     "text": [
      "                                                                                \r"
     ]
    },
    {
     "name": "stdout",
     "output_type": "stream",
     "text": [
      "+----------+-----+\n",
      "|        id|fraud|\n",
      "+----------+-----+\n",
      "|JoeJohnson|    1|\n",
      "| AndyJones|    1|\n",
      "+----------+-----+\n",
      "\n"
     ]
    },
    {
     "name": "stderr",
     "output_type": "stream",
     "text": [
      "                                                                                \r"
     ]
    },
    {
     "name": "stdout",
     "output_type": "stream",
     "text": [
      "+---+-----+\n",
      "| id|fraud|\n",
      "+---+-----+\n",
      "+---+-----+\n",
      "\n"
     ]
    },
    {
     "name": "stderr",
     "output_type": "stream",
     "text": [
      "                                                                                \r"
     ]
    },
    {
     "name": "stdout",
     "output_type": "stream",
     "text": [
      "+---+-----+\n",
      "| id|fraud|\n",
      "+---+-----+\n",
      "+---+-----+\n",
      "\n"
     ]
    },
    {
     "name": "stderr",
     "output_type": "stream",
     "text": [
      "                                                                                \r"
     ]
    },
    {
     "name": "stdout",
     "output_type": "stream",
     "text": [
      "+----------+-----+\n",
      "|        id|fraud|\n",
      "+----------+-----+\n",
      "|AliceJones|    1|\n",
      "+----------+-----+\n",
      "\n"
     ]
    },
    {
     "name": "stderr",
     "output_type": "stream",
     "text": [
      "                                                                                \r"
     ]
    },
    {
     "name": "stdout",
     "output_type": "stream",
     "text": [
      "+---+-----+\n",
      "| id|fraud|\n",
      "+---+-----+\n",
      "+---+-----+\n",
      "\n"
     ]
    },
    {
     "name": "stderr",
     "output_type": "stream",
     "text": [
      "                                                                                \r"
     ]
    },
    {
     "name": "stdout",
     "output_type": "stream",
     "text": [
      "+---------+-----+\n",
      "|       id|fraud|\n",
      "+---------+-----+\n",
      "|JohnSmith|    1|\n",
      "+---------+-----+\n",
      "\n"
     ]
    },
    {
     "name": "stderr",
     "output_type": "stream",
     "text": [
      "                                                                                \r"
     ]
    },
    {
     "name": "stdout",
     "output_type": "stream",
     "text": [
      "+---+-----+\n",
      "| id|fraud|\n",
      "+---+-----+\n",
      "+---+-----+\n",
      "\n"
     ]
    },
    {
     "name": "stderr",
     "output_type": "stream",
     "text": [
      "                                                                                \r"
     ]
    },
    {
     "name": "stdout",
     "output_type": "stream",
     "text": [
      "+----------+-----+\n",
      "|        id|fraud|\n",
      "+----------+-----+\n",
      "|JoeMillers|    1|\n",
      "|  JoeSmith|    1|\n",
      "+----------+-----+\n",
      "\n"
     ]
    },
    {
     "name": "stderr",
     "output_type": "stream",
     "text": [
      "                                                                                \r"
     ]
    },
    {
     "name": "stdout",
     "output_type": "stream",
     "text": [
      "+------------+-----+\n",
      "|          id|fraud|\n",
      "+------------+-----+\n",
      "|AliceJohnson|    1|\n",
      "+------------+-----+\n",
      "\n"
     ]
    }
   ],
   "source": [
    "ssc.start()"
   ]
  },
  {
   "cell_type": "code",
   "execution_count": null,
   "id": "b834a208",
   "metadata": {
    "scrolled": false
   },
   "outputs": [],
   "source": [
    "# stop streaming context\n",
    "ssc.stop(stopSparkContext=False)"
   ]
  },
  {
   "cell_type": "markdown",
   "id": "96ded7c6",
   "metadata": {},
   "source": [
    "## Stop worker and master"
   ]
  },
  {
   "cell_type": "code",
   "execution_count": null,
   "id": "1ebe7a5f",
   "metadata": {},
   "outputs": [],
   "source": [
    "sc.stop()\n",
    "spark.stop()"
   ]
  },
  {
   "cell_type": "code",
   "execution_count": null,
   "id": "23206863",
   "metadata": {},
   "outputs": [],
   "source": [
    "%%script bash --no-raise-error\n",
    "\n",
    "if [[ \"$CLUSTER_TYPE\" != \"docker_cluster\" ]]; then\n",
    "    # stop worker \n",
    "    $SPARK_HOME/sbin/stop-worker.sh\n",
    "    \n",
    "    # start master\n",
    "    $SPARK_HOME/sbin/stop-master.sh\n",
    "fi"
   ]
  }
 ],
 "metadata": {
  "kernelspec": {
   "display_name": "Python 3 (ipykernel)",
   "language": "python",
   "name": "python3"
  },
  "language_info": {
   "codemirror_mode": {
    "name": "ipython",
    "version": 3
   },
   "file_extension": ".py",
   "mimetype": "text/x-python",
   "name": "python",
   "nbconvert_exporter": "python",
   "pygments_lexer": "ipython3",
   "version": "3.9.12"
  }
 },
 "nbformat": 4,
 "nbformat_minor": 5
}
