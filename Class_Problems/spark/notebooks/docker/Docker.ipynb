{
 "cells": [
  {
   "cell_type": "markdown",
   "id": "785e8bfd",
   "metadata": {},
   "source": [
    "## Test notebook for docker\n",
    "\n",
    "Start master and worker on a single node"
   ]
  },
  {
   "cell_type": "code",
   "execution_count": 1,
   "id": "4d15769d",
   "metadata": {},
   "outputs": [
    {
     "name": "stdout",
     "output_type": "stream",
     "text": [
      "starting org.apache.spark.deploy.master.Master, logging to /usr/bin/spark-3.1.1-bin-hadoop3.2/logs/spark--org.apache.spark.deploy.master.Master-1-7cbe1ae9157a.out\r\n"
     ]
    }
   ],
   "source": [
    "!$SPARK_HOME/sbin/start-master.sh --host localhost --port 7077 --webui-port 8080"
   ]
  },
  {
   "cell_type": "code",
   "execution_count": 2,
   "id": "8bd866f0",
   "metadata": {},
   "outputs": [
    {
     "name": "stdout",
     "output_type": "stream",
     "text": [
      "starting org.apache.spark.deploy.worker.Worker, logging to /usr/bin/spark-3.1.1-bin-hadoop3.2/logs/spark--org.apache.spark.deploy.worker.Worker-1-7cbe1ae9157a.out\r\n"
     ]
    }
   ],
   "source": [
    "!$SPARK_HOME/sbin/start-worker.sh spark://localhost:7077 --cores 2 --memory 2g"
   ]
  },
  {
   "cell_type": "markdown",
   "id": "d9d3d9c9",
   "metadata": {},
   "source": [
    "### Create spark session"
   ]
  },
  {
   "cell_type": "code",
   "execution_count": 1,
   "id": "33ed0d4b",
   "metadata": {},
   "outputs": [
    {
     "data": {
      "text/html": [
       "\n",
       "            <div>\n",
       "                <p><b>SparkSession - in-memory</b></p>\n",
       "                \n",
       "        <div>\n",
       "            <p><b>SparkContext</b></p>\n",
       "\n",
       "            <p><a href=\"http://eda4d60d2a02:4040\">Spark UI</a></p>\n",
       "\n",
       "            <dl>\n",
       "              <dt>Version</dt>\n",
       "                <dd><code>v3.1.1</code></dd>\n",
       "              <dt>Master</dt>\n",
       "                <dd><code>spark://localhost:7077</code></dd>\n",
       "              <dt>AppName</dt>\n",
       "                <dd><code>First spark application</code></dd>\n",
       "            </dl>\n",
       "        </div>\n",
       "        \n",
       "            </div>\n",
       "        "
      ],
      "text/plain": [
       "<pyspark.sql.session.SparkSession at 0x7f1a3d899c40>"
      ]
     },
     "execution_count": 1,
     "metadata": {},
     "output_type": "execute_result"
    }
   ],
   "source": [
    "from pyspark.sql import SparkSession\n",
    "\n",
    "spark = SparkSession.builder \\\n",
    "    .master(\"spark://localhost:7077\")\\\n",
    "    .appName(\"First spark application\")\\\n",
    "    .getOrCreate()\n",
    "spark"
   ]
  },
  {
   "cell_type": "code",
   "execution_count": 2,
   "id": "0da95662",
   "metadata": {},
   "outputs": [
    {
     "data": {
      "text/plain": [
       "3"
      ]
     },
     "execution_count": 2,
     "metadata": {},
     "output_type": "execute_result"
    }
   ],
   "source": [
    "sc = spark.sparkContext\n",
    "sc.parallelize([1,2,3]).count()"
   ]
  },
  {
   "cell_type": "markdown",
   "id": "8f132993",
   "metadata": {},
   "source": [
    "You should be able to see the cluster dashboard on `localhost:8080` and the application UI on `localhost:4040`."
   ]
  },
  {
   "cell_type": "markdown",
   "id": "9e9bfef2",
   "metadata": {},
   "source": [
    "## Read files"
   ]
  },
  {
   "cell_type": "code",
   "execution_count": 3,
   "id": "82d84677",
   "metadata": {},
   "outputs": [
    {
     "data": {
      "text/plain": [
       "['Measure  0: (-10.00,0.70)', 'Measure  1: (-9.95,0.61)']"
      ]
     },
     "execution_count": 3,
     "metadata": {},
     "output_type": "execute_result"
    }
   ],
   "source": [
    "rdd = sc.textFile(\"../../datasets/lecture1/file_1.txt\")\n",
    "rdd.take(2)"
   ]
  },
  {
   "cell_type": "markdown",
   "id": "4b93ea56",
   "metadata": {},
   "source": [
    "If we want to use an absolute path, we need to use the container path! the current directory is mounted on `/opt/workspace` in the container."
   ]
  },
  {
   "cell_type": "code",
   "execution_count": 4,
   "id": "03c8f507",
   "metadata": {},
   "outputs": [
    {
     "data": {
      "text/plain": [
       "400"
      ]
     },
     "execution_count": 4,
     "metadata": {},
     "output_type": "execute_result"
    }
   ],
   "source": [
    "rdd = sc.textFile(\"/opt/workspace/datasets/lecture1/file_*.txt\")\n",
    "rdd.count()"
   ]
  }
 ],
 "metadata": {
  "kernelspec": {
   "display_name": "Python 3",
   "language": "python",
   "name": "python3"
  },
  "language_info": {
   "codemirror_mode": {
    "name": "ipython",
    "version": 3
   },
   "file_extension": ".py",
   "mimetype": "text/x-python",
   "name": "python",
   "nbconvert_exporter": "python",
   "pygments_lexer": "ipython3",
   "version": "3.8.5"
  }
 },
 "nbformat": 4,
 "nbformat_minor": 5
}
