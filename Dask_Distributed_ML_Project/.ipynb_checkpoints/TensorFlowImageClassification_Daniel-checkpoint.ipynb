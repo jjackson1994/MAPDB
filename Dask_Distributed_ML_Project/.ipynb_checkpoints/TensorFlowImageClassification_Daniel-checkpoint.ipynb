{
 "cells": [
  {
   "cell_type": "code",
   "execution_count": 6,
   "id": "1bc6430c",
   "metadata": {},
   "outputs": [],
   "source": [
    "\n",
    "import os \n",
    "import zipfile \n",
    "import tensorflow as tf \n",
    "from tensorflow.keras.preprocessing.image import ImageDataGenerator \n",
    "from tensorflow.keras import layers \n",
    "from tensorflow.keras import Model \n",
    "\n",
    "from tensorflow.keras.applications.vgg16 import VGG16\n",
    "\n",
    "import numpy as np\n",
    "\n",
    "from skimage import io"
   ]
  },
  {
   "cell_type": "markdown",
   "id": "0392bc66",
   "metadata": {},
   "source": [
    "# Input Data\n",
    "\n",
    "The input data 'x' is a list of numpy arrays where each numpy array is an image. \n",
    "This is accompanied by a 'y' which is a list of 1's and 0's that corrospond to wether the image of same index in the 'x' list is a face or not. Face:1 noFace:0"
   ]
  },
  {
   "cell_type": "code",
   "execution_count": 20,
   "id": "fc4c0196",
   "metadata": {},
   "outputs": [
    {
     "ename": "NameError",
     "evalue": "name 'shape' is not defined",
     "output_type": "error",
     "traceback": [
      "\u001b[0;31m---------------------------------------------------------------------------\u001b[0m",
      "\u001b[0;31mNameError\u001b[0m                                 Traceback (most recent call last)",
      "Input \u001b[0;32mIn [20]\u001b[0m, in \u001b[0;36m<cell line: 6>\u001b[0;34m()\u001b[0m\n\u001b[1;32m      2\u001b[0m noface \u001b[38;5;241m=\u001b[39m io\u001b[38;5;241m.\u001b[39mimread_collection(\u001b[38;5;124m'\u001b[39m\u001b[38;5;124mnoFaces3/noFace*\u001b[39m\u001b[38;5;124m'\u001b[39m)\n\u001b[1;32m      3\u001b[0m face \u001b[38;5;241m=\u001b[39m io\u001b[38;5;241m.\u001b[39mimread_collection(\u001b[38;5;124m'\u001b[39m\u001b[38;5;124mFaces3/face*\u001b[39m\u001b[38;5;124m'\u001b[39m)\u001b[38;5;241m.\u001b[39mconcatenate()\n\u001b[0;32m----> 6\u001b[0m \u001b[38;5;28mprint\u001b[39m(\u001b[43mshape\u001b[49m(face))\n",
      "\u001b[0;31mNameError\u001b[0m: name 'shape' is not defined"
     ]
    }
   ],
   "source": [
    "#filenames = ['noFaces3/noFaces3_'+str(num)+'.jpg' for num in range(1,2500)]\n",
    "noface = io.imread_collection('noFaces3/noFace*')\n",
    "face = io.imread_collection('Faces3/face*')\n",
    "\n",
    "#fraction of data for training\n",
    "frac_train = 0.9\n",
    "num_train = len(noface)*frac_train\n",
    "num_val = len(noface)-num_train\n",
    "\n",
    "data_train = []\n",
    "data_val = []\n",
    "lables_train = []\n",
    "lables_val = []\n",
    "\n",
    "\n",
    "#training \n",
    "for i in range(num_train):\n",
    "    data_train.append(face(i))\n",
    "    lables.append(1)\n",
    "\n",
    "for i in range(num_train):\n",
    "    data_train.append(noface(i))\n",
    "    lables_val.append(0)\n",
    "    \n",
    "#validation\n",
    "for i in range(num_train):\n",
    "    data_val.append(face(i))\n",
    "    lables_val.append(1)\n",
    "\n",
    "for i in range(num_train):\n",
    "    data_val.append(noface(i))\n",
    "    lables_val.append(0)"
   ]
  },
  {
   "cell_type": "code",
   "execution_count": null,
   "id": "96bba474",
   "metadata": {},
   "outputs": [],
   "source": [
    "base_model = VGG16(input_shape = (198, 198, 3), # Shape of our images\n",
    "\n",
    "for layer in base_model.layers:\n",
    "layer.trainable = False\n",
    "                   \n",
    "# Flatten the output layer to 1 dimension\n",
    "x = layers.Flatten()(base_model.output)\n",
    "                   \n",
    "# Add a fully connected layer with 512 hidden units and ReLU activation\n",
    "x = layers.Dense(512, activation='relu')(x)\n",
    "\n",
    "# Add a dropout rate of 0.5\n",
    "x = layers.Dropout(0.5)(x)\n",
    "                   \n",
    "# Add a final sigmoid layer with 1 node for classification output\n",
    "x = layers.Dense(1, activation='sigmoid')(x)\n",
    "                   \n",
    "model = tf.keras.models.Model(base_model.input, x)\n",
    "model.compile(optimizer = tf.keras.optimizers.RMSprop(lr=0.0001), loss = 'binary_crossentropy',metrics = ['acc'])\n",
    "\n",
    "vgghist = model.fit(data_train, lables_train, data_val, lables_val, steps_per_epoch = 100, epochs = 10, shuffle =True)\n",
    "                   "
   ]
  }
 ],
 "metadata": {
  "kernelspec": {
   "display_name": "Python [conda env:tf_sk_ml]",
   "language": "python",
   "name": "conda-env-tf_sk_ml-py"
  },
  "language_info": {
   "codemirror_mode": {
    "name": "ipython",
    "version": 3
   },
   "file_extension": ".py",
   "mimetype": "text/x-python",
   "name": "python",
   "nbconvert_exporter": "python",
   "pygments_lexer": "ipython3",
   "version": "3.9.5"
  }
 },
 "nbformat": 4,
 "nbformat_minor": 5
}
